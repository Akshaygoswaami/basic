{
 "cells": [
  {
   "cell_type": "markdown",
   "metadata": {},
   "source": [
    "# Amazon Fine Food Reviews Analysis\n",
    "\n",
    "\n",
    "Data Source: https://www.kaggle.com/snap/amazon-fine-food-reviews <br>\n",
    "\n",
    "EDA: https://nycdatascience.com/blog/student-works/amazon-fine-foods-visualization/\n",
    "\n",
    "\n",
    "The Amazon Fine Food Reviews dataset consists of reviews of fine foods from Amazon.<br>\n",
    "\n",
    "Number of reviews: 568,454<br>\n",
    "Number of users: 256,059<br>\n",
    "Number of products: 74,258<br>\n",
    "Timespan: Oct 1999 - Oct 2012<br>\n",
    "Number of Attributes/Columns in data: 10 \n",
    "\n",
    "Attribute Information:\n",
    "\n",
    "1. Id\n",
    "2. ProductId - unique identifier for the product\n",
    "3. UserId - unqiue identifier for the user\n",
    "4. ProfileName\n",
    "5. HelpfulnessNumerator - number of users who found the review helpful\n",
    "6. HelpfulnessDenominator - number of users who indicated whether they found the review helpful or not\n",
    "7. Score - rating between 1 and 5\n",
    "8. Time - timestamp for the review\n",
    "9. Summary - brief summary of the review\n",
    "10. Text - text of the review\n",
    "\n",
    "\n",
    "#### Objective:\n",
    "Given a review, determine whether the review is positive (rating of 4 or 5) or negative (rating of 1 or 2).\n",
    "\n",
    "<br>\n",
    "[Q] How to determine if a review is positive or negative?<br>\n",
    "<br> \n",
    "[Ans] We could use Score/Rating. A rating of 4 or 5 can be cosnidered as a positive review. A rating of 1 or 2 can be considered as negative one. A review of rating 3 is considered nuetral and such reviews are ignored from our analysis. This is an approximate and proxy way of determining the polarity (positivity/negativity) of a review.\n",
    "\n",
    "\n"
   ]
  },
  {
   "cell_type": "markdown",
   "metadata": {},
   "source": [
    "# [1]. Reading Data"
   ]
  },
  {
   "cell_type": "markdown",
   "metadata": {},
   "source": [
    "## [1.1] Loading the data\n",
    "\n",
    "The dataset is available in two forms\n",
    "1. .csv file\n",
    "2. SQLite Database\n",
    "\n",
    "In order to load the data, We have used the SQLITE dataset as it is easier to query the data and visualise the data efficiently.\n",
    "<br> \n",
    "\n",
    "Here as we only want to get the global sentiment of the recommendations (positive or negative), we will purposefully ignore all Scores equal to 3. If the score is above 3, then the recommendation wil be set to \"positive\". Otherwise, it will be set to \"negative\"."
   ]
  },
  {
   "cell_type": "code",
   "execution_count": 80,
   "metadata": {},
   "outputs": [],
   "source": [
    "%matplotlib inline\n",
    "import warnings\n",
    "warnings.filterwarnings(\"ignore\")\n",
    "\n",
    "\n",
    "import sqlite3\n",
    "import pandas as pd\n",
    "import numpy as np\n",
    "import nltk\n",
    "import string\n",
    "import matplotlib.pyplot as plt\n",
    "import seaborn as sns\n",
    "from sklearn.feature_extraction.text import TfidfTransformer\n",
    "from sklearn.feature_extraction.text import TfidfVectorizer\n",
    "from sklearn.model_selection import train_test_split\n",
    "\n",
    "from sklearn.feature_extraction.text import CountVectorizer\n",
    "from sklearn.metrics import confusion_matrix\n",
    "from sklearn import metrics\n",
    "from sklearn.metrics import roc_curve, auc\n",
    "from nltk.stem.porter import PorterStemmer\n",
    "\n",
    "import re\n",
    "# Tutorial about Python regular expressions: https://pymotw.com/2/re/\n",
    "import string\n",
    "from nltk.corpus import stopwords\n",
    "from nltk.stem import PorterStemmer\n",
    "from nltk.stem.wordnet import WordNetLemmatizer\n",
    "\n",
    "from gensim.models import Word2Vec\n",
    "from gensim.models import KeyedVectors\n",
    "import pickle\n",
    "\n",
    "from tqdm import tqdm\n",
    "import os"
   ]
  },
  {
   "cell_type": "code",
   "execution_count": 42,
   "metadata": {},
   "outputs": [
    {
     "name": "stdout",
     "output_type": "stream",
     "text": [
      "Number of data points in our data (10000, 10)\n"
     ]
    },
    {
     "data": {
      "text/html": [
       "<div>\n",
       "<style scoped>\n",
       "    .dataframe tbody tr th:only-of-type {\n",
       "        vertical-align: middle;\n",
       "    }\n",
       "\n",
       "    .dataframe tbody tr th {\n",
       "        vertical-align: top;\n",
       "    }\n",
       "\n",
       "    .dataframe thead th {\n",
       "        text-align: right;\n",
       "    }\n",
       "</style>\n",
       "<table border=\"1\" class=\"dataframe\">\n",
       "  <thead>\n",
       "    <tr style=\"text-align: right;\">\n",
       "      <th></th>\n",
       "      <th>Id</th>\n",
       "      <th>ProductId</th>\n",
       "      <th>UserId</th>\n",
       "      <th>ProfileName</th>\n",
       "      <th>HelpfulnessNumerator</th>\n",
       "      <th>HelpfulnessDenominator</th>\n",
       "      <th>Score</th>\n",
       "      <th>Time</th>\n",
       "      <th>Summary</th>\n",
       "      <th>Text</th>\n",
       "    </tr>\n",
       "  </thead>\n",
       "  <tbody>\n",
       "    <tr>\n",
       "      <th>0</th>\n",
       "      <td>1</td>\n",
       "      <td>B001E4KFG0</td>\n",
       "      <td>A3SGXH7AUHU8GW</td>\n",
       "      <td>delmartian</td>\n",
       "      <td>1</td>\n",
       "      <td>1</td>\n",
       "      <td>1</td>\n",
       "      <td>1303862400</td>\n",
       "      <td>Good Quality Dog Food</td>\n",
       "      <td>I have bought several of the Vitality canned d...</td>\n",
       "    </tr>\n",
       "    <tr>\n",
       "      <th>1</th>\n",
       "      <td>2</td>\n",
       "      <td>B00813GRG4</td>\n",
       "      <td>A1D87F6ZCVE5NK</td>\n",
       "      <td>dll pa</td>\n",
       "      <td>0</td>\n",
       "      <td>0</td>\n",
       "      <td>0</td>\n",
       "      <td>1346976000</td>\n",
       "      <td>Not as Advertised</td>\n",
       "      <td>Product arrived labeled as Jumbo Salted Peanut...</td>\n",
       "    </tr>\n",
       "    <tr>\n",
       "      <th>2</th>\n",
       "      <td>3</td>\n",
       "      <td>B000LQOCH0</td>\n",
       "      <td>ABXLMWJIXXAIN</td>\n",
       "      <td>Natalia Corres \"Natalia Corres\"</td>\n",
       "      <td>1</td>\n",
       "      <td>1</td>\n",
       "      <td>1</td>\n",
       "      <td>1219017600</td>\n",
       "      <td>\"Delight\" says it all</td>\n",
       "      <td>This is a confection that has been around a fe...</td>\n",
       "    </tr>\n",
       "  </tbody>\n",
       "</table>\n",
       "</div>"
      ],
      "text/plain": [
       "   Id   ProductId          UserId                      ProfileName  \\\n",
       "0   1  B001E4KFG0  A3SGXH7AUHU8GW                       delmartian   \n",
       "1   2  B00813GRG4  A1D87F6ZCVE5NK                           dll pa   \n",
       "2   3  B000LQOCH0   ABXLMWJIXXAIN  Natalia Corres \"Natalia Corres\"   \n",
       "\n",
       "   HelpfulnessNumerator  HelpfulnessDenominator  Score        Time  \\\n",
       "0                     1                       1      1  1303862400   \n",
       "1                     0                       0      0  1346976000   \n",
       "2                     1                       1      1  1219017600   \n",
       "\n",
       "                 Summary                                               Text  \n",
       "0  Good Quality Dog Food  I have bought several of the Vitality canned d...  \n",
       "1      Not as Advertised  Product arrived labeled as Jumbo Salted Peanut...  \n",
       "2  \"Delight\" says it all  This is a confection that has been around a fe...  "
      ]
     },
     "execution_count": 42,
     "metadata": {},
     "output_type": "execute_result"
    }
   ],
   "source": [
    "# using SQLite Table to read data.\n",
    "con = sqlite3.connect('database.sqlite') \n",
    "\n",
    "# filtering only positive and negative reviews i.e. \n",
    "# not taking into consideration those reviews with Score=3\n",
    "# SELECT * FROM Reviews WHERE Score != 3 LIMIT 500000, will give top 500000 data points\n",
    "# you can change the number to any other number based on your computing power\n",
    "\n",
    "# filtered_data = pd.read_sql_query(\"\"\" SELECT * FROM Reviews WHERE Score != 3 LIMIT 500000\"\"\", con) \n",
    "# for tsne assignment you can take 5k data points\n",
    "\n",
    "filtered_data = pd.read_sql_query(\"\"\" SELECT * FROM Reviews WHERE Score != 3 LIMIT 10000\"\"\", con) \n",
    "\n",
    "# Give reviews with Score>3 a positive rating(1), and reviews with a score<3 a negative rating(0).\n",
    "def partition(x):\n",
    "    if x < 3:\n",
    "        return 0\n",
    "    return 1\n",
    "\n",
    "#changing reviews with score less than 3 to be positive and vice-versa\n",
    "actualScore = filtered_data['Score']\n",
    "positiveNegative = actualScore.map(partition) \n",
    "filtered_data['Score'] = positiveNegative\n",
    "print(\"Number of data points in our data\", filtered_data.shape)\n",
    "filtered_data.head(3)"
   ]
  },
  {
   "cell_type": "code",
   "execution_count": 43,
   "metadata": {},
   "outputs": [],
   "source": [
    "display = pd.read_sql_query(\"\"\"\n",
    "SELECT UserId, ProductId, ProfileName, Time, Score, Text, COUNT(*)\n",
    "FROM Reviews\n",
    "GROUP BY UserId\n",
    "HAVING COUNT(*)>1\n",
    "\"\"\", con)"
   ]
  },
  {
   "cell_type": "code",
   "execution_count": 44,
   "metadata": {
    "scrolled": true
   },
   "outputs": [
    {
     "name": "stdout",
     "output_type": "stream",
     "text": [
      "(80668, 7)\n"
     ]
    },
    {
     "data": {
      "text/html": [
       "<div>\n",
       "<style scoped>\n",
       "    .dataframe tbody tr th:only-of-type {\n",
       "        vertical-align: middle;\n",
       "    }\n",
       "\n",
       "    .dataframe tbody tr th {\n",
       "        vertical-align: top;\n",
       "    }\n",
       "\n",
       "    .dataframe thead th {\n",
       "        text-align: right;\n",
       "    }\n",
       "</style>\n",
       "<table border=\"1\" class=\"dataframe\">\n",
       "  <thead>\n",
       "    <tr style=\"text-align: right;\">\n",
       "      <th></th>\n",
       "      <th>UserId</th>\n",
       "      <th>ProductId</th>\n",
       "      <th>ProfileName</th>\n",
       "      <th>Time</th>\n",
       "      <th>Score</th>\n",
       "      <th>Text</th>\n",
       "      <th>COUNT(*)</th>\n",
       "    </tr>\n",
       "  </thead>\n",
       "  <tbody>\n",
       "    <tr>\n",
       "      <th>0</th>\n",
       "      <td>#oc-R115TNMSPFT9I7</td>\n",
       "      <td>B005ZBZLT4</td>\n",
       "      <td>Breyton</td>\n",
       "      <td>1331510400</td>\n",
       "      <td>2</td>\n",
       "      <td>Overall its just OK when considering the price...</td>\n",
       "      <td>2</td>\n",
       "    </tr>\n",
       "    <tr>\n",
       "      <th>1</th>\n",
       "      <td>#oc-R11D9D7SHXIJB9</td>\n",
       "      <td>B005HG9ESG</td>\n",
       "      <td>Louis E. Emory \"hoppy\"</td>\n",
       "      <td>1342396800</td>\n",
       "      <td>5</td>\n",
       "      <td>My wife has recurring extreme muscle spasms, u...</td>\n",
       "      <td>3</td>\n",
       "    </tr>\n",
       "    <tr>\n",
       "      <th>2</th>\n",
       "      <td>#oc-R11DNU2NBKQ23Z</td>\n",
       "      <td>B005ZBZLT4</td>\n",
       "      <td>Kim Cieszykowski</td>\n",
       "      <td>1348531200</td>\n",
       "      <td>1</td>\n",
       "      <td>This coffee is horrible and unfortunately not ...</td>\n",
       "      <td>2</td>\n",
       "    </tr>\n",
       "    <tr>\n",
       "      <th>3</th>\n",
       "      <td>#oc-R11O5J5ZVQE25C</td>\n",
       "      <td>B005HG9ESG</td>\n",
       "      <td>Penguin Chick</td>\n",
       "      <td>1346889600</td>\n",
       "      <td>5</td>\n",
       "      <td>This will be the bottle that you grab from the...</td>\n",
       "      <td>3</td>\n",
       "    </tr>\n",
       "    <tr>\n",
       "      <th>4</th>\n",
       "      <td>#oc-R12KPBODL2B5ZD</td>\n",
       "      <td>B007OSBEV0</td>\n",
       "      <td>Christopher P. Presta</td>\n",
       "      <td>1348617600</td>\n",
       "      <td>1</td>\n",
       "      <td>I didnt like this coffee. Instead of telling y...</td>\n",
       "      <td>2</td>\n",
       "    </tr>\n",
       "  </tbody>\n",
       "</table>\n",
       "</div>"
      ],
      "text/plain": [
       "               UserId   ProductId             ProfileName        Time  Score  \\\n",
       "0  #oc-R115TNMSPFT9I7  B005ZBZLT4                 Breyton  1331510400      2   \n",
       "1  #oc-R11D9D7SHXIJB9  B005HG9ESG  Louis E. Emory \"hoppy\"  1342396800      5   \n",
       "2  #oc-R11DNU2NBKQ23Z  B005ZBZLT4        Kim Cieszykowski  1348531200      1   \n",
       "3  #oc-R11O5J5ZVQE25C  B005HG9ESG           Penguin Chick  1346889600      5   \n",
       "4  #oc-R12KPBODL2B5ZD  B007OSBEV0   Christopher P. Presta  1348617600      1   \n",
       "\n",
       "                                                Text  COUNT(*)  \n",
       "0  Overall its just OK when considering the price...         2  \n",
       "1  My wife has recurring extreme muscle spasms, u...         3  \n",
       "2  This coffee is horrible and unfortunately not ...         2  \n",
       "3  This will be the bottle that you grab from the...         3  \n",
       "4  I didnt like this coffee. Instead of telling y...         2  "
      ]
     },
     "execution_count": 44,
     "metadata": {},
     "output_type": "execute_result"
    }
   ],
   "source": [
    "print(display.shape)\n",
    "display.head()"
   ]
  },
  {
   "cell_type": "code",
   "execution_count": 45,
   "metadata": {},
   "outputs": [
    {
     "data": {
      "text/html": [
       "<div>\n",
       "<style scoped>\n",
       "    .dataframe tbody tr th:only-of-type {\n",
       "        vertical-align: middle;\n",
       "    }\n",
       "\n",
       "    .dataframe tbody tr th {\n",
       "        vertical-align: top;\n",
       "    }\n",
       "\n",
       "    .dataframe thead th {\n",
       "        text-align: right;\n",
       "    }\n",
       "</style>\n",
       "<table border=\"1\" class=\"dataframe\">\n",
       "  <thead>\n",
       "    <tr style=\"text-align: right;\">\n",
       "      <th></th>\n",
       "      <th>UserId</th>\n",
       "      <th>ProductId</th>\n",
       "      <th>ProfileName</th>\n",
       "      <th>Time</th>\n",
       "      <th>Score</th>\n",
       "      <th>Text</th>\n",
       "      <th>COUNT(*)</th>\n",
       "    </tr>\n",
       "  </thead>\n",
       "  <tbody>\n",
       "    <tr>\n",
       "      <th>80638</th>\n",
       "      <td>AZY10LLTJ71NX</td>\n",
       "      <td>B001ATMQK2</td>\n",
       "      <td>undertheshrine \"undertheshrine\"</td>\n",
       "      <td>1296691200</td>\n",
       "      <td>5</td>\n",
       "      <td>I bought this 6 pack because for the price tha...</td>\n",
       "      <td>5</td>\n",
       "    </tr>\n",
       "  </tbody>\n",
       "</table>\n",
       "</div>"
      ],
      "text/plain": [
       "              UserId   ProductId                      ProfileName        Time  \\\n",
       "80638  AZY10LLTJ71NX  B001ATMQK2  undertheshrine \"undertheshrine\"  1296691200   \n",
       "\n",
       "       Score                                               Text  COUNT(*)  \n",
       "80638      5  I bought this 6 pack because for the price tha...         5  "
      ]
     },
     "execution_count": 45,
     "metadata": {},
     "output_type": "execute_result"
    }
   ],
   "source": [
    "display[display['UserId']=='AZY10LLTJ71NX']"
   ]
  },
  {
   "cell_type": "code",
   "execution_count": 46,
   "metadata": {},
   "outputs": [
    {
     "data": {
      "text/plain": [
       "393063"
      ]
     },
     "execution_count": 46,
     "metadata": {},
     "output_type": "execute_result"
    }
   ],
   "source": [
    "display['COUNT(*)'].sum()"
   ]
  },
  {
   "cell_type": "markdown",
   "metadata": {},
   "source": [
    "#  [2] Exploratory Data Analysis"
   ]
  },
  {
   "cell_type": "markdown",
   "metadata": {},
   "source": [
    "## [2.1] Data Cleaning: Deduplication\n",
    "\n",
    "It is observed (as shown in the table below) that the reviews data had many duplicate entries. Hence it was necessary to remove duplicates in order to get unbiased results for the analysis of the data.  Following is an example:"
   ]
  },
  {
   "cell_type": "code",
   "execution_count": 47,
   "metadata": {
    "scrolled": false
   },
   "outputs": [
    {
     "data": {
      "text/html": [
       "<div>\n",
       "<style scoped>\n",
       "    .dataframe tbody tr th:only-of-type {\n",
       "        vertical-align: middle;\n",
       "    }\n",
       "\n",
       "    .dataframe tbody tr th {\n",
       "        vertical-align: top;\n",
       "    }\n",
       "\n",
       "    .dataframe thead th {\n",
       "        text-align: right;\n",
       "    }\n",
       "</style>\n",
       "<table border=\"1\" class=\"dataframe\">\n",
       "  <thead>\n",
       "    <tr style=\"text-align: right;\">\n",
       "      <th></th>\n",
       "      <th>Id</th>\n",
       "      <th>ProductId</th>\n",
       "      <th>UserId</th>\n",
       "      <th>ProfileName</th>\n",
       "      <th>HelpfulnessNumerator</th>\n",
       "      <th>HelpfulnessDenominator</th>\n",
       "      <th>Score</th>\n",
       "      <th>Time</th>\n",
       "      <th>Summary</th>\n",
       "      <th>Text</th>\n",
       "    </tr>\n",
       "  </thead>\n",
       "  <tbody>\n",
       "    <tr>\n",
       "      <th>0</th>\n",
       "      <td>78445</td>\n",
       "      <td>B000HDL1RQ</td>\n",
       "      <td>AR5J8UI46CURR</td>\n",
       "      <td>Geetha Krishnan</td>\n",
       "      <td>2</td>\n",
       "      <td>2</td>\n",
       "      <td>5</td>\n",
       "      <td>1199577600</td>\n",
       "      <td>LOACKER QUADRATINI VANILLA WAFERS</td>\n",
       "      <td>DELICIOUS WAFERS. I FIND THAT EUROPEAN WAFERS ...</td>\n",
       "    </tr>\n",
       "    <tr>\n",
       "      <th>1</th>\n",
       "      <td>138317</td>\n",
       "      <td>B000HDOPYC</td>\n",
       "      <td>AR5J8UI46CURR</td>\n",
       "      <td>Geetha Krishnan</td>\n",
       "      <td>2</td>\n",
       "      <td>2</td>\n",
       "      <td>5</td>\n",
       "      <td>1199577600</td>\n",
       "      <td>LOACKER QUADRATINI VANILLA WAFERS</td>\n",
       "      <td>DELICIOUS WAFERS. I FIND THAT EUROPEAN WAFERS ...</td>\n",
       "    </tr>\n",
       "    <tr>\n",
       "      <th>2</th>\n",
       "      <td>138277</td>\n",
       "      <td>B000HDOPYM</td>\n",
       "      <td>AR5J8UI46CURR</td>\n",
       "      <td>Geetha Krishnan</td>\n",
       "      <td>2</td>\n",
       "      <td>2</td>\n",
       "      <td>5</td>\n",
       "      <td>1199577600</td>\n",
       "      <td>LOACKER QUADRATINI VANILLA WAFERS</td>\n",
       "      <td>DELICIOUS WAFERS. I FIND THAT EUROPEAN WAFERS ...</td>\n",
       "    </tr>\n",
       "    <tr>\n",
       "      <th>3</th>\n",
       "      <td>73791</td>\n",
       "      <td>B000HDOPZG</td>\n",
       "      <td>AR5J8UI46CURR</td>\n",
       "      <td>Geetha Krishnan</td>\n",
       "      <td>2</td>\n",
       "      <td>2</td>\n",
       "      <td>5</td>\n",
       "      <td>1199577600</td>\n",
       "      <td>LOACKER QUADRATINI VANILLA WAFERS</td>\n",
       "      <td>DELICIOUS WAFERS. I FIND THAT EUROPEAN WAFERS ...</td>\n",
       "    </tr>\n",
       "    <tr>\n",
       "      <th>4</th>\n",
       "      <td>155049</td>\n",
       "      <td>B000PAQ75C</td>\n",
       "      <td>AR5J8UI46CURR</td>\n",
       "      <td>Geetha Krishnan</td>\n",
       "      <td>2</td>\n",
       "      <td>2</td>\n",
       "      <td>5</td>\n",
       "      <td>1199577600</td>\n",
       "      <td>LOACKER QUADRATINI VANILLA WAFERS</td>\n",
       "      <td>DELICIOUS WAFERS. I FIND THAT EUROPEAN WAFERS ...</td>\n",
       "    </tr>\n",
       "  </tbody>\n",
       "</table>\n",
       "</div>"
      ],
      "text/plain": [
       "       Id   ProductId         UserId      ProfileName  HelpfulnessNumerator  \\\n",
       "0   78445  B000HDL1RQ  AR5J8UI46CURR  Geetha Krishnan                     2   \n",
       "1  138317  B000HDOPYC  AR5J8UI46CURR  Geetha Krishnan                     2   \n",
       "2  138277  B000HDOPYM  AR5J8UI46CURR  Geetha Krishnan                     2   \n",
       "3   73791  B000HDOPZG  AR5J8UI46CURR  Geetha Krishnan                     2   \n",
       "4  155049  B000PAQ75C  AR5J8UI46CURR  Geetha Krishnan                     2   \n",
       "\n",
       "   HelpfulnessDenominator  Score        Time  \\\n",
       "0                       2      5  1199577600   \n",
       "1                       2      5  1199577600   \n",
       "2                       2      5  1199577600   \n",
       "3                       2      5  1199577600   \n",
       "4                       2      5  1199577600   \n",
       "\n",
       "                             Summary  \\\n",
       "0  LOACKER QUADRATINI VANILLA WAFERS   \n",
       "1  LOACKER QUADRATINI VANILLA WAFERS   \n",
       "2  LOACKER QUADRATINI VANILLA WAFERS   \n",
       "3  LOACKER QUADRATINI VANILLA WAFERS   \n",
       "4  LOACKER QUADRATINI VANILLA WAFERS   \n",
       "\n",
       "                                                Text  \n",
       "0  DELICIOUS WAFERS. I FIND THAT EUROPEAN WAFERS ...  \n",
       "1  DELICIOUS WAFERS. I FIND THAT EUROPEAN WAFERS ...  \n",
       "2  DELICIOUS WAFERS. I FIND THAT EUROPEAN WAFERS ...  \n",
       "3  DELICIOUS WAFERS. I FIND THAT EUROPEAN WAFERS ...  \n",
       "4  DELICIOUS WAFERS. I FIND THAT EUROPEAN WAFERS ...  "
      ]
     },
     "execution_count": 47,
     "metadata": {},
     "output_type": "execute_result"
    }
   ],
   "source": [
    "display= pd.read_sql_query(\"\"\"\n",
    "SELECT *\n",
    "FROM Reviews\n",
    "WHERE Score != 3 AND UserId=\"AR5J8UI46CURR\"\n",
    "ORDER BY ProductID\n",
    "\"\"\", con)\n",
    "display.head()"
   ]
  },
  {
   "cell_type": "markdown",
   "metadata": {},
   "source": [
    "As it can be seen above that same user has multiple reviews with same values for HelpfulnessNumerator, HelpfulnessDenominator, Score, Time, Summary and Text and on doing analysis it was found that <br>\n",
    "<br> \n",
    "ProductId=B000HDOPZG was Loacker Quadratini Vanilla Wafer Cookies, 8.82-Ounce Packages (Pack of 8)<br>\n",
    "<br> \n",
    "ProductId=B000HDL1RQ was Loacker Quadratini Lemon Wafer Cookies, 8.82-Ounce Packages (Pack of 8) and so on<br>\n",
    "\n",
    "It was inferred after analysis that reviews with same parameters other than ProductId belonged to the same product just having different flavour or quantity. Hence in order to reduce redundancy it was decided to eliminate the rows having same parameters.<br>\n",
    "\n",
    "The method used for the same was that we first sort the data according to ProductId and then just keep the first similar product review and delelte the others. for eg. in the above just the review for ProductId=B000HDL1RQ remains. This method ensures that there is only one representative for each product and deduplication without sorting would lead to possibility of different representatives still existing for the same product."
   ]
  },
  {
   "cell_type": "code",
   "execution_count": 48,
   "metadata": {},
   "outputs": [],
   "source": [
    "#Sorting data according to ProductId in ascending order\n",
    "sorted_data=filtered_data.sort_values('ProductId', axis=0, ascending=True, inplace=False, kind='quicksort', na_position='last')"
   ]
  },
  {
   "cell_type": "code",
   "execution_count": 49,
   "metadata": {},
   "outputs": [
    {
     "data": {
      "text/plain": [
       "(9564, 10)"
      ]
     },
     "execution_count": 49,
     "metadata": {},
     "output_type": "execute_result"
    }
   ],
   "source": [
    "#Deduplication of entries\n",
    "final=sorted_data.drop_duplicates(subset={\"UserId\",\"ProfileName\",\"Time\",\"Text\"}, keep='first', inplace=False)\n",
    "final.shape"
   ]
  },
  {
   "cell_type": "code",
   "execution_count": 50,
   "metadata": {},
   "outputs": [
    {
     "data": {
      "text/plain": [
       "95.64"
      ]
     },
     "execution_count": 50,
     "metadata": {},
     "output_type": "execute_result"
    }
   ],
   "source": [
    "#Checking to see how much % of data still remains\n",
    "(final['Id'].size*1.0)/(filtered_data['Id'].size*1.0)*100"
   ]
  },
  {
   "cell_type": "markdown",
   "metadata": {},
   "source": [
    "<b>Observation:-</b> It was also seen that in two rows given below the value of HelpfulnessNumerator is greater than HelpfulnessDenominator which is not practically possible hence these two rows too are removed from calcualtions"
   ]
  },
  {
   "cell_type": "code",
   "execution_count": 51,
   "metadata": {},
   "outputs": [
    {
     "data": {
      "text/html": [
       "<div>\n",
       "<style scoped>\n",
       "    .dataframe tbody tr th:only-of-type {\n",
       "        vertical-align: middle;\n",
       "    }\n",
       "\n",
       "    .dataframe tbody tr th {\n",
       "        vertical-align: top;\n",
       "    }\n",
       "\n",
       "    .dataframe thead th {\n",
       "        text-align: right;\n",
       "    }\n",
       "</style>\n",
       "<table border=\"1\" class=\"dataframe\">\n",
       "  <thead>\n",
       "    <tr style=\"text-align: right;\">\n",
       "      <th></th>\n",
       "      <th>Id</th>\n",
       "      <th>ProductId</th>\n",
       "      <th>UserId</th>\n",
       "      <th>ProfileName</th>\n",
       "      <th>HelpfulnessNumerator</th>\n",
       "      <th>HelpfulnessDenominator</th>\n",
       "      <th>Score</th>\n",
       "      <th>Time</th>\n",
       "      <th>Summary</th>\n",
       "      <th>Text</th>\n",
       "    </tr>\n",
       "  </thead>\n",
       "  <tbody>\n",
       "    <tr>\n",
       "      <th>0</th>\n",
       "      <td>64422</td>\n",
       "      <td>B000MIDROQ</td>\n",
       "      <td>A161DK06JJMCYF</td>\n",
       "      <td>J. E. Stephens \"Jeanne\"</td>\n",
       "      <td>3</td>\n",
       "      <td>1</td>\n",
       "      <td>5</td>\n",
       "      <td>1224892800</td>\n",
       "      <td>Bought This for My Son at College</td>\n",
       "      <td>My son loves spaghetti so I didn't hesitate or...</td>\n",
       "    </tr>\n",
       "    <tr>\n",
       "      <th>1</th>\n",
       "      <td>44737</td>\n",
       "      <td>B001EQ55RW</td>\n",
       "      <td>A2V0I904FH7ABY</td>\n",
       "      <td>Ram</td>\n",
       "      <td>3</td>\n",
       "      <td>2</td>\n",
       "      <td>4</td>\n",
       "      <td>1212883200</td>\n",
       "      <td>Pure cocoa taste with crunchy almonds inside</td>\n",
       "      <td>It was almost a 'love at first bite' - the per...</td>\n",
       "    </tr>\n",
       "  </tbody>\n",
       "</table>\n",
       "</div>"
      ],
      "text/plain": [
       "      Id   ProductId          UserId              ProfileName  \\\n",
       "0  64422  B000MIDROQ  A161DK06JJMCYF  J. E. Stephens \"Jeanne\"   \n",
       "1  44737  B001EQ55RW  A2V0I904FH7ABY                      Ram   \n",
       "\n",
       "   HelpfulnessNumerator  HelpfulnessDenominator  Score        Time  \\\n",
       "0                     3                       1      5  1224892800   \n",
       "1                     3                       2      4  1212883200   \n",
       "\n",
       "                                        Summary  \\\n",
       "0             Bought This for My Son at College   \n",
       "1  Pure cocoa taste with crunchy almonds inside   \n",
       "\n",
       "                                                Text  \n",
       "0  My son loves spaghetti so I didn't hesitate or...  \n",
       "1  It was almost a 'love at first bite' - the per...  "
      ]
     },
     "execution_count": 51,
     "metadata": {},
     "output_type": "execute_result"
    }
   ],
   "source": [
    "display= pd.read_sql_query(\"\"\"\n",
    "SELECT *\n",
    "FROM Reviews\n",
    "WHERE Score != 3 AND Id=44737 OR Id=64422\n",
    "ORDER BY ProductID\n",
    "\"\"\", con)\n",
    "\n",
    "display.head()"
   ]
  },
  {
   "cell_type": "code",
   "execution_count": 52,
   "metadata": {},
   "outputs": [],
   "source": [
    "final=final[final.HelpfulnessNumerator<=final.HelpfulnessDenominator]"
   ]
  },
  {
   "cell_type": "code",
   "execution_count": 53,
   "metadata": {},
   "outputs": [
    {
     "name": "stdout",
     "output_type": "stream",
     "text": [
      "(9564, 10)\n"
     ]
    },
    {
     "data": {
      "text/plain": [
       "1    7976\n",
       "0    1588\n",
       "Name: Score, dtype: int64"
      ]
     },
     "execution_count": 53,
     "metadata": {},
     "output_type": "execute_result"
    }
   ],
   "source": [
    "#Before starting the next phase of preprocessing lets see the number of entries left\n",
    "print(final.shape)\n",
    "\n",
    "#How many positive and negative reviews are present in our dataset?\n",
    "final['Score'].value_counts()"
   ]
  },
  {
   "cell_type": "markdown",
   "metadata": {},
   "source": [
    "#  [3] Preprocessing"
   ]
  },
  {
   "cell_type": "markdown",
   "metadata": {},
   "source": [
    "## [3.1].  Preprocessing Review Text\n",
    "\n",
    "Now that we have finished deduplication our data requires some preprocessing before we go on further with analysis and making the prediction model.\n",
    "\n",
    "Hence in the Preprocessing phase we do the following in the order below:-\n",
    "\n",
    "1. Begin by removing the html tags\n",
    "2. Remove any punctuations or limited set of special characters like , or . or # etc.\n",
    "3. Check if the word is made up of english letters and is not alpha-numeric\n",
    "4. Check to see if the length of the word is greater than 2 (as it was researched that there is no adjective in 2-letters)\n",
    "5. Convert the word to lowercase\n",
    "6. Remove Stopwords\n",
    "7. Finally Snowball Stemming the word (it was obsereved to be better than Porter Stemming)<br>\n",
    "\n",
    "After which we collect the words used to describe positive and negative reviews"
   ]
  },
  {
   "cell_type": "code",
   "execution_count": 54,
   "metadata": {},
   "outputs": [
    {
     "name": "stdout",
     "output_type": "stream",
     "text": [
      "We have used the Victor fly bait for 3 seasons.  Can't beat it.  Great product!\n",
      "==================================================\n",
      "15 month old loves to eat them on the go! They seem great for a healthy, quick, and easy snack!\n",
      "==================================================\n",
      "These chips are truly amazing. They have it all. They're light, crisp, great tasting, nice texture, AND they're all natural... AND low in fat and sodium! Need I say more? I recently bought a bag of them at a regular grocery store, and couldn't belive my taste buds. That's why I excited why I saw them here on Amazon, and decided to buy a case!\n",
      "==================================================\n",
      "These tablets definitely made things sweeter -- like lemons, limes, and grapefruit.  But it wasn't to the point of sheer amazement.  They also had an interesting effect on cheeses and vinegar, but still did virtually nothing for beer and wine. The tablets are a bit pricey but they do work.  If you've got extra money, sure, give them a try, but if you're looking for some amazing way to get your kids to eat broccoli or something along those lines then this is not the answer. Fun experiment, but not life-changing. :)\n",
      "==================================================\n"
     ]
    }
   ],
   "source": [
    "# printing some random reviews\n",
    "sent_0 = final['Text'].values[0]\n",
    "print(sent_0)\n",
    "print(\"=\"*50)\n",
    "\n",
    "sent_1000 = final['Text'].values[1000]\n",
    "print(sent_1000)\n",
    "print(\"=\"*50)\n",
    "\n",
    "sent_1500 = final['Text'].values[1500]\n",
    "print(sent_1500)\n",
    "print(\"=\"*50)\n",
    "\n",
    "sent_4900 = final['Text'].values[4900]\n",
    "print(sent_4900)\n",
    "print(\"=\"*50)"
   ]
  },
  {
   "cell_type": "code",
   "execution_count": 55,
   "metadata": {},
   "outputs": [
    {
     "name": "stdout",
     "output_type": "stream",
     "text": [
      "We have used the Victor fly bait for 3 seasons.  Can't beat it.  Great product!\n"
     ]
    }
   ],
   "source": [
    "# remove urls from text python: https://stackoverflow.com/a/40823105/4084039\n",
    "sent_0 = re.sub(r\"http\\S+\", \"\", sent_0)\n",
    "sent_1000 = re.sub(r\"http\\S+\", \"\", sent_1000)\n",
    "sent_150 = re.sub(r\"http\\S+\", \"\", sent_1500)\n",
    "sent_4900 = re.sub(r\"http\\S+\", \"\", sent_4900)\n",
    "\n",
    "print(sent_0)"
   ]
  },
  {
   "cell_type": "code",
   "execution_count": 56,
   "metadata": {},
   "outputs": [
    {
     "name": "stdout",
     "output_type": "stream",
     "text": [
      "We have used the Victor fly bait for 3 seasons.  Can't beat it.  Great product!\n",
      "==================================================\n",
      "15 month old loves to eat them on the go! They seem great for a healthy, quick, and easy snack!\n",
      "==================================================\n",
      "These chips are truly amazing. They have it all. They're light, crisp, great tasting, nice texture, AND they're all natural... AND low in fat and sodium! Need I say more? I recently bought a bag of them at a regular grocery store, and couldn't belive my taste buds. That's why I excited why I saw them here on Amazon, and decided to buy a case!\n",
      "==================================================\n",
      "These tablets definitely made things sweeter -- like lemons, limes, and grapefruit.  But it wasn't to the point of sheer amazement.  They also had an interesting effect on cheeses and vinegar, but still did virtually nothing for beer and wine. The tablets are a bit pricey but they do work.  If you've got extra money, sure, give them a try, but if you're looking for some amazing way to get your kids to eat broccoli or something along those lines then this is not the answer. Fun experiment, but not life-changing. :)\n"
     ]
    }
   ],
   "source": [
    "# https://stackoverflow.com/questions/16206380/python-beautifulsoup-how-to-remove-all-tags-from-an-element\n",
    "from bs4 import BeautifulSoup\n",
    "\n",
    "soup = BeautifulSoup(sent_0, 'lxml')\n",
    "text = soup.get_text()\n",
    "print(text)\n",
    "print(\"=\"*50)\n",
    "\n",
    "soup = BeautifulSoup(sent_1000, 'lxml')\n",
    "text = soup.get_text()\n",
    "print(text)\n",
    "print(\"=\"*50)\n",
    "\n",
    "soup = BeautifulSoup(sent_1500, 'lxml')\n",
    "text = soup.get_text()\n",
    "print(text)\n",
    "print(\"=\"*50)\n",
    "\n",
    "soup = BeautifulSoup(sent_4900, 'lxml')\n",
    "text = soup.get_text()\n",
    "print(text)"
   ]
  },
  {
   "cell_type": "code",
   "execution_count": 57,
   "metadata": {},
   "outputs": [],
   "source": [
    "# https://stackoverflow.com/a/47091490/4084039\n",
    "import re\n",
    "\n",
    "def decontracted(phrase):\n",
    "    # specific\n",
    "    phrase = re.sub(r\"won't\", \"will not\", phrase)\n",
    "    phrase = re.sub(r\"can\\'t\", \"can not\", phrase)\n",
    "\n",
    "    # general\n",
    "    phrase = re.sub(r\"n\\'t\", \" not\", phrase)\n",
    "    phrase = re.sub(r\"\\'re\", \" are\", phrase)\n",
    "    phrase = re.sub(r\"\\'s\", \" is\", phrase)\n",
    "    phrase = re.sub(r\"\\'d\", \" would\", phrase)\n",
    "    phrase = re.sub(r\"\\'ll\", \" will\", phrase)\n",
    "    phrase = re.sub(r\"\\'t\", \" not\", phrase)\n",
    "    phrase = re.sub(r\"\\'ve\", \" have\", phrase)\n",
    "    phrase = re.sub(r\"\\'m\", \" am\", phrase)\n",
    "    return phrase"
   ]
  },
  {
   "cell_type": "code",
   "execution_count": 58,
   "metadata": {},
   "outputs": [
    {
     "name": "stdout",
     "output_type": "stream",
     "text": [
      "These chips are truly amazing. They have it all. They are light, crisp, great tasting, nice texture, AND they are all natural... AND low in fat and sodium! Need I say more? I recently bought a bag of them at a regular grocery store, and could not belive my taste buds. That is why I excited why I saw them here on Amazon, and decided to buy a case!\n",
      "==================================================\n"
     ]
    }
   ],
   "source": [
    "sent_1500 = decontracted(sent_1500)\n",
    "print(sent_1500)\n",
    "print(\"=\"*50)"
   ]
  },
  {
   "cell_type": "code",
   "execution_count": 59,
   "metadata": {},
   "outputs": [
    {
     "name": "stdout",
     "output_type": "stream",
     "text": [
      "We have used the Victor fly bait for  seasons.  Can't beat it.  Great product!\n"
     ]
    }
   ],
   "source": [
    "#remove words with numbers python: https://stackoverflow.com/a/18082370/4084039\n",
    "sent_0 = re.sub(\"\\S*\\d\\S*\", \"\", sent_0).strip()\n",
    "print(sent_0)"
   ]
  },
  {
   "cell_type": "code",
   "execution_count": 60,
   "metadata": {},
   "outputs": [
    {
     "name": "stdout",
     "output_type": "stream",
     "text": [
      "These chips are truly amazing They have it all They are light crisp great tasting nice texture AND they are all natural AND low in fat and sodium Need I say more I recently bought a bag of them at a regular grocery store and could not belive my taste buds That is why I excited why I saw them here on Amazon and decided to buy a case \n"
     ]
    }
   ],
   "source": [
    "#remove spacial character: https://stackoverflow.com/a/5843547/4084039\n",
    "sent_1500 = re.sub('[^A-Za-z0-9]+', ' ', sent_1500)\n",
    "print(sent_1500)"
   ]
  },
  {
   "cell_type": "code",
   "execution_count": 61,
   "metadata": {},
   "outputs": [],
   "source": [
    "# https://gist.github.com/sebleier/554280\n",
    "# we are removing the words from the stop words list: 'no', 'nor', 'not'\n",
    "# <br /><br /> ==> after the above steps, we are getting \"br br\"\n",
    "# we are including them into stop words list\n",
    "# instead of <br /> if we have <br/> these tags would have revmoved in the 1st step\n",
    "\n",
    "stopwords= set(['br', 'the', 'i', 'me', 'my', 'myself', 'we', 'our', 'ours', 'ourselves', 'you', \"you're\", \"you've\",\\\n",
    "            \"you'll\", \"you'd\", 'your', 'yours', 'yourself', 'yourselves', 'he', 'him', 'his', 'himself', \\\n",
    "            'she', \"she's\", 'her', 'hers', 'herself', 'it', \"it's\", 'its', 'itself', 'they', 'them', 'their',\\\n",
    "            'theirs', 'themselves', 'what', 'which', 'who', 'whom', 'this', 'that', \"that'll\", 'these', 'those', \\\n",
    "            'am', 'is', 'are', 'was', 'were', 'be', 'been', 'being', 'have', 'has', 'had', 'having', 'do', 'does', \\\n",
    "            'did', 'doing', 'a', 'an', 'the', 'and', 'but', 'if', 'or', 'because', 'as', 'until', 'while', 'of', \\\n",
    "            'at', 'by', 'for', 'with', 'about', 'against', 'between', 'into', 'through', 'during', 'before', 'after',\\\n",
    "            'above', 'below', 'to', 'from', 'up', 'down', 'in', 'out', 'on', 'off', 'over', 'under', 'again', 'further',\\\n",
    "            'then', 'once', 'here', 'there', 'when', 'where', 'why', 'how', 'all', 'any', 'both', 'each', 'few', 'more',\\\n",
    "            'most', 'other', 'some', 'such', 'only', 'own', 'same', 'so', 'than', 'too', 'very', \\\n",
    "            's', 't', 'can', 'will', 'just', 'don', \"don't\", 'should', \"should've\", 'now', 'd', 'll', 'm', 'o', 're', \\\n",
    "            've', 'y', 'ain', 'aren', \"aren't\", 'couldn', \"couldn't\", 'didn', \"didn't\", 'doesn', \"doesn't\", 'hadn',\\\n",
    "            \"hadn't\", 'hasn', \"hasn't\", 'haven', \"haven't\", 'isn', \"isn't\", 'ma', 'mightn', \"mightn't\", 'mustn',\\\n",
    "            \"mustn't\", 'needn', \"needn't\", 'shan', \"shan't\", 'shouldn', \"shouldn't\", 'wasn', \"wasn't\", 'weren', \"weren't\", \\\n",
    "            'won', \"won't\", 'wouldn', \"wouldn't\"])"
   ]
  },
  {
   "cell_type": "code",
   "execution_count": 62,
   "metadata": {},
   "outputs": [
    {
     "name": "stderr",
     "output_type": "stream",
     "text": [
      "100%|████████████████████████████████████████████████████████████████████████████| 9564/9564 [00:03<00:00, 2717.41it/s]\n"
     ]
    }
   ],
   "source": [
    "# Combining all the above stundents \n",
    "from tqdm import tqdm\n",
    "preprocessed_reviews = []\n",
    "# tqdm is for printing the status bar\n",
    "for sentance in tqdm(final['Text'].values):\n",
    "    sentance = re.sub(r\"http\\S+\", \"\", sentance)\n",
    "    sentance = BeautifulSoup(sentance, 'lxml').get_text()\n",
    "    sentance = decontracted(sentance)\n",
    "    sentance = re.sub(\"\\S*\\d\\S*\", \"\", sentance).strip()\n",
    "    sentance = re.sub('[^A-Za-z]+', ' ', sentance)\n",
    "    # https://gist.github.com/sebleier/554280\n",
    "    sentance = ' '.join(e.lower() for e in sentance.split() if e.lower() not in stopwords)\n",
    "    preprocessed_reviews.append(sentance.strip())"
   ]
  },
  {
   "cell_type": "code",
   "execution_count": 63,
   "metadata": {},
   "outputs": [
    {
     "data": {
      "text/plain": [
       "9564"
      ]
     },
     "execution_count": 63,
     "metadata": {},
     "output_type": "execute_result"
    }
   ],
   "source": [
    "len(preprocessed_reviews)"
   ]
  },
  {
   "cell_type": "markdown",
   "metadata": {},
   "source": [
    "# one hot encoding using bow of top 1000 features"
   ]
  },
  {
   "cell_type": "code",
   "execution_count": 64,
   "metadata": {},
   "outputs": [],
   "source": [
    "count_vect = CountVectorizer(min_df=10,max_features=1000) #in scikit-learn CountVectorizer(min_df=10, max_features=500) \n",
    "X=count_vect.fit(preprocessed_reviews)"
   ]
  },
  {
   "cell_type": "code",
   "execution_count": 65,
   "metadata": {},
   "outputs": [],
   "source": [
    "top_feat=count_vect.get_feature_names()"
   ]
  },
  {
   "cell_type": "code",
   "execution_count": 66,
   "metadata": {},
   "outputs": [
    {
     "data": {
      "text/plain": [
       "'absolutely'"
      ]
     },
     "execution_count": 66,
     "metadata": {},
     "output_type": "execute_result"
    }
   ],
   "source": [
    "top_feat[1]"
   ]
  },
  {
   "cell_type": "code",
   "execution_count": 67,
   "metadata": {},
   "outputs": [],
   "source": [
    "word=[]\n",
    "for sent in preprocessed_reviews:\n",
    "    wrds = sent.split()\n",
    "    for wrd in wrds:\n",
    "        word.append(wrd)\n",
    "    "
   ]
  },
  {
   "cell_type": "code",
   "execution_count": 68,
   "metadata": {},
   "outputs": [],
   "source": [
    "feat=np.random.rand(1000)\n",
    "for i in range(1000):\n",
    "    count=0\n",
    "    for wrd in word:\n",
    "        if wrd==top_feat[i]:\n",
    "            count=count+1\n",
    "    feat[i]=count\n",
    "        "
   ]
  },
  {
   "cell_type": "code",
   "execution_count": 69,
   "metadata": {},
   "outputs": [],
   "source": [
    "sort_feat=np.argsort(feat)"
   ]
  },
  {
   "cell_type": "code",
   "execution_count": 70,
   "metadata": {},
   "outputs": [
    {
     "data": {
      "text/plain": [
       "array([678, 685,  84, 997, 246, 531, 382, 232, 860, 741, 828,   9, 912,\n",
       "       428, 392, 768, 749, 694, 585, 787, 794, 861, 990, 154, 960,  19,\n",
       "       738,  50, 239, 841, 354, 179, 725, 536, 249, 346, 868, 153, 661,\n",
       "       440, 780, 873, 786, 580, 106, 878, 675, 957, 148, 459, 830, 439,\n",
       "       867, 862, 508, 165, 849, 680, 557, 314, 197, 250, 946, 743, 839,\n",
       "       337, 670, 825, 461,   3, 520, 758, 138, 700, 334, 151, 590, 949,\n",
       "       945, 827, 240, 426, 668, 404,  12, 416, 345, 636,  69, 379,  71,\n",
       "       176, 543, 798, 115, 582, 612, 968, 917, 777, 485, 433, 944, 526,\n",
       "       851, 534, 649, 614, 271, 628, 189, 952, 318, 457,  67, 163,  99,\n",
       "       381, 996, 144, 684, 927, 299, 929, 125, 605, 998, 976, 848, 507,\n",
       "       815, 521, 625, 645, 129, 400, 795, 291, 871, 555, 104, 331, 778,\n",
       "       311,  82,  65, 639, 658, 385,  41,  14,  44, 430, 112, 932, 116,\n",
       "       516, 203, 522,  60, 644, 412, 986, 458, 746, 298, 689, 402, 316,\n",
       "       538, 253, 647, 454, 514, 909, 858, 854, 135, 567, 727, 774, 906,\n",
       "       542,  56, 579, 312, 558, 747, 550, 243, 287, 248, 233, 323, 447,\n",
       "       140, 326, 938, 857, 549, 173, 595, 922, 475, 779, 755, 776, 936,\n",
       "        16, 630, 431, 414, 897, 352, 760, 339, 315, 267, 158, 128, 592,\n",
       "       432, 102, 190, 395, 577, 573, 948, 924, 152, 923, 888, 971, 754,\n",
       "       147,  47, 481, 631, 765, 217, 799, 829, 677, 650, 609, 225,  13,\n",
       "       295, 729, 818, 446, 376, 317, 231, 504, 611, 251, 666, 146,   8,\n",
       "       766, 855, 535, 698,  15, 103, 709, 790, 836, 182, 429,  34, 781,\n",
       "       417, 265, 380, 441, 643, 503, 581,  30, 548, 219, 785, 525, 652,\n",
       "       673, 209, 821, 663, 278, 143, 489, 483, 901, 451, 276, 242, 763,\n",
       "       931,  61, 181, 876,  66, 951, 396,  33, 831, 183, 378, 796, 409,\n",
       "       419, 742, 321, 105, 989, 866, 361, 756, 770, 892, 683, 674, 804,\n",
       "       708,  74, 407, 377,   2, 713, 642, 904, 288, 208, 646, 442, 621,\n",
       "       113, 600, 930, 468,  85, 327, 469, 844, 259,  36, 307, 954, 410,\n",
       "       216, 229, 137, 117, 958, 623, 784,  57, 655, 740, 309, 266, 575,\n",
       "       869, 978, 736, 205, 622, 367, 610, 886, 919, 773, 187, 126, 908,\n",
       "       571, 619, 845, 207, 985, 913, 842, 188, 214,  93, 263, 905, 498,\n",
       "       942, 893, 907, 656, 466, 599, 370,  62, 964, 191, 724,  58, 980,\n",
       "       697, 587, 131, 626, 671, 313, 210, 837, 532, 693, 373, 767, 578,\n",
       "       448, 664, 723, 193, 918, 572,  79, 353,  76, 769, 359, 875, 237,\n",
       "       706, 561, 363, 184, 496, 308, 541, 589, 495, 341, 436,  90, 405,\n",
       "       296, 108, 364, 959, 172, 963, 351, 161, 717, 648, 953, 634, 791,\n",
       "        59, 180, 445, 624, 983, 533, 257, 824, 422, 823, 139, 136, 510,\n",
       "       726, 474, 178, 171, 289,   7, 425, 141, 633, 462, 357,  21, 524,\n",
       "       529, 325, 347, 632, 568,  68, 238, 817, 365, 832, 471, 464, 721,\n",
       "       127, 484, 928, 230, 487, 811, 388, 751,  63, 991, 160,  20, 570,\n",
       "        54, 834, 789, 285, 186,  17, 994, 258, 607, 564, 554, 162,  42,\n",
       "       130, 164,  87, 302,  91,  35, 247, 185, 444, 843, 584, 493, 638,\n",
       "       809, 389, 613, 401, 812, 820, 333, 853, 782, 371, 659, 290, 940,\n",
       "       947, 343, 215, 330, 560, 415, 838, 470, 802, 505, 122, 427, 583,\n",
       "       476, 319, 972, 260, 737, 293,  37, 966, 202, 194, 814, 771, 159,\n",
       "       169, 807, 398, 885, 149, 999, 123, 975,  88, 391, 270,  77, 101,\n",
       "       800, 403, 864, 629, 720, 482, 170, 715, 651, 653, 192, 596, 618,\n",
       "       660, 235, 519, 437, 204, 434, 635,  10,  86, 712, 540, 196, 274,\n",
       "       657, 654, 793, 965, 887,  55,  98, 387, 703, 598, 118, 586, 891,\n",
       "       211, 926, 757,  46, 877, 753, 452, 688, 772, 822,  40, 859, 788,\n",
       "       491, 515, 967, 424, 950, 890, 124, 107, 705, 679, 665, 255, 870,\n",
       "       910, 269, 762, 155,  70, 413, 545,  95, 480, 301, 810, 199, 702,\n",
       "       272, 523,  24, 734, 338, 279, 201, 553, 420, 970, 735, 707, 716,\n",
       "        31, 100,  26, 537, 294, 121, 360, 662, 565, 819, 348, 732, 463,\n",
       "       745,  23, 551,  89, 719, 597, 322, 284, 833, 224, 297, 620, 366,\n",
       "       256, 473, 355, 304, 220, 872, 816,  11, 956, 835, 995, 142, 604,\n",
       "       114,  81, 576, 397, 518, 669, 803, 977, 467, 479, 750, 268, 241,\n",
       "       283, 223, 226, 608, 826,   1, 492, 453, 455, 134, 615, 547, 692,\n",
       "       175, 903,  83, 676, 984, 277, 728, 527, 254,  43, 627, 911,   0,\n",
       "        80, 764, 546, 145,  39, 222, 594, 714, 805, 206, 528, 456, 358,\n",
       "       973, 109, 731, 900, 174, 544, 667, 739, 686, 914, 177, 438, 198,\n",
       "       512, 443, 933, 672, 943, 411, 423, 329, 477, 921, 915, 218,  48,\n",
       "       167, 775,  28, 687, 761, 500,  38, 889, 808,  45, 895, 350, 132,\n",
       "       730, 617, 987, 748, 390, 150, 939, 195, 384, 704, 710, 305, 245,\n",
       "       882, 292, 465, 310, 120, 588, 349, 517,  75, 119,   6, 234, 696,\n",
       "       386, 941, 372, 133,  29, 166, 992,   4, 640, 847,  32, 300,  18,\n",
       "       563, 601,  64, 502, 637,  97, 874, 408, 981, 393, 695, 681, 759,\n",
       "       336, 797, 494, 880, 894, 368, 850, 898, 899, 286, 111, 783, 490,\n",
       "       303, 421, 556, 616, 559, 273, 982, 974,  49, 883, 488, 227,  53,\n",
       "        51, 264, 450, 406, 744, 863, 435, 699, 801, 394, 691, 937, 591,\n",
       "       275, 501, 472, 399, 852, 449, 722, 497, 806, 606, 993, 701, 603,\n",
       "       344, 236,  25, 641, 281, 813, 511, 733, 752, 213,   5, 221, 562,\n",
       "       261, 979, 282, 362, 375,  78,  96, 955, 566, 460, 881, 896, 369,\n",
       "       244, 792, 530, 306, 513, 925,  94, 602, 840, 332, 228, 962, 846,\n",
       "       718, 865, 342,  92, 935, 539, 340, 506, 252, 200, 418, 324, 262,\n",
       "       961, 856, 157,  52, 156, 212, 280, 920,  73, 969, 320, 682, 110,\n",
       "       509, 486, 916,  22,  27, 902,  72, 934, 552, 356, 711, 335, 884,\n",
       "       569, 499, 328, 690, 988, 593, 168, 879, 383, 374, 478, 574],\n",
       "      dtype=int64)"
      ]
     },
     "execution_count": 70,
     "metadata": {},
     "output_type": "execute_result"
    }
   ],
   "source": [
    "sort_feat"
   ]
  },
  {
   "cell_type": "code",
   "execution_count": 71,
   "metadata": {},
   "outputs": [
    {
     "data": {
      "text/plain": [
       "9474.0"
      ]
     },
     "execution_count": 71,
     "metadata": {},
     "output_type": "execute_result"
    }
   ],
   "source": [
    "feat[574]"
   ]
  },
  {
   "cell_type": "code",
   "execution_count": 72,
   "metadata": {},
   "outputs": [],
   "source": [
    "sorted_list=[]\n",
    "for i in sort_feat:\n",
    "    sorted_list.append(top_feat[i])\n",
    "    \n",
    "    "
   ]
  },
  {
   "cell_type": "code",
   "execution_count": 73,
   "metadata": {},
   "outputs": [],
   "source": [
    "sort_freq=dict( zip( sorted_list, sort_feat))"
   ]
  },
  {
   "cell_type": "code",
   "execution_count": 74,
   "metadata": {},
   "outputs": [],
   "source": [
    "rank=[]\n",
    "for sent in preprocessed_reviews:\n",
    "    lst=[]\n",
    "    wrds = sent.split()\n",
    "    for wrd in wrds:\n",
    "        if wrd in top_feat:\n",
    "            lst.append(sort_freq[wrd])\n",
    "    rank.append(lst)   "
   ]
  },
  {
   "cell_type": "code",
   "execution_count": 75,
   "metadata": {},
   "outputs": [
    {
     "data": {
      "text/plain": [
       "[935, 112, 574, 65, 383, 690]"
      ]
     },
     "execution_count": 75,
     "metadata": {},
     "output_type": "execute_result"
    }
   ],
   "source": [
    "rank[0]"
   ]
  },
  {
   "cell_type": "code",
   "execution_count": 76,
   "metadata": {},
   "outputs": [
    {
     "data": {
      "text/plain": [
       "9564"
      ]
     },
     "execution_count": 76,
     "metadata": {},
     "output_type": "execute_result"
    }
   ],
   "source": [
    "len(rank)"
   ]
  },
  {
   "cell_type": "code",
   "execution_count": 81,
   "metadata": {},
   "outputs": [],
   "source": [
    "from sklearn.model_selection import train_test_split\n",
    "\n",
    "p= final['Score']\n",
    "X_train, X_test, y_train, y_test = train_test_split(rank, p, test_size=0.3, random_state=0)\n"
   ]
  },
  {
   "cell_type": "code",
   "execution_count": 82,
   "metadata": {},
   "outputs": [
    {
     "name": "stderr",
     "output_type": "stream",
     "text": [
      "Using TensorFlow backend.\n"
     ]
    }
   ],
   "source": [
    "import numpy\n",
    "from keras.datasets import imdb\n",
    "from keras.models import Sequential\n",
    "from keras.layers import Dense\n",
    "from keras.layers import LSTM\n",
    "from keras.layers.embeddings import Embedding\n",
    "from keras.preprocessing import sequence\n",
    "# fix random seed for reproducibility\n",
    "numpy.random.seed(7)\n"
   ]
  },
  {
   "cell_type": "code",
   "execution_count": 83,
   "metadata": {},
   "outputs": [
    {
     "name": "stdout",
     "output_type": "stream",
     "text": [
      "[981, 539, 825, 593, 306, 936, 150, 920, 353, 592, 471, 435, 150, 797, 52, 150, 419, 539, 757, 61, 150, 196, 506, 286]\n",
      "<class 'list'>\n",
      "24\n"
     ]
    }
   ],
   "source": [
    "print(X_train[1])\n",
    "print(type(X_train[1]))\n",
    "print(len(X_train[1]))"
   ]
  },
  {
   "cell_type": "code",
   "execution_count": 84,
   "metadata": {},
   "outputs": [
    {
     "name": "stdout",
     "output_type": "stream",
     "text": [
      "(6694, 600)\n",
      "[  0   0   0   0   0   0   0   0   0   0   0   0   0   0   0   0   0   0\n",
      "   0   0   0   0   0   0   0   0   0   0   0   0   0   0   0   0   0   0\n",
      "   0   0   0   0   0   0   0   0   0   0   0   0   0   0   0   0   0   0\n",
      "   0   0   0   0   0   0   0   0   0   0   0   0   0   0   0   0   0   0\n",
      "   0   0   0   0   0   0   0   0   0   0   0   0   0   0   0   0   0   0\n",
      "   0   0   0   0   0   0   0   0   0   0   0   0   0   0   0   0   0   0\n",
      "   0   0   0   0   0   0   0   0   0   0   0   0   0   0   0   0   0   0\n",
      "   0   0   0   0   0   0   0   0   0   0   0   0   0   0   0   0   0   0\n",
      "   0   0   0   0   0   0   0   0   0   0   0   0   0   0   0   0   0   0\n",
      "   0   0   0   0   0   0   0   0   0   0   0   0   0   0   0   0   0   0\n",
      "   0   0   0   0   0   0   0   0   0   0   0   0   0   0   0   0   0   0\n",
      "   0   0   0   0   0   0   0   0   0   0   0   0   0   0   0   0   0   0\n",
      "   0   0   0   0   0   0   0   0   0   0   0   0   0   0   0   0   0   0\n",
      "   0   0   0   0   0   0   0   0   0   0   0   0   0   0   0   0   0   0\n",
      "   0   0   0   0   0   0   0   0   0   0   0   0   0   0   0   0   0   0\n",
      "   0   0   0   0   0   0   0   0   0   0   0   0   0   0   0   0   0   0\n",
      "   0   0   0   0   0   0   0   0   0   0   0   0   0   0   0   0   0   0\n",
      "   0   0   0   0   0   0   0   0   0   0   0   0   0   0   0   0   0   0\n",
      "   0   0   0   0   0   0   0   0   0   0   0   0   0   0   0   0   0   0\n",
      "   0   0   0   0   0   0   0   0   0   0   0   0   0   0   0   0   0   0\n",
      "   0   0   0   0   0   0   0   0   0   0   0   0   0   0   0   0   0   0\n",
      "   0   0   0   0   0   0   0   0   0   0   0   0   0   0   0   0   0   0\n",
      "   0   0   0   0   0   0   0   0   0   0   0   0   0   0   0   0   0   0\n",
      "   0   0   0   0   0   0   0   0   0   0   0   0   0   0   0   0   0   0\n",
      "   0   0   0   0   0   0   0   0   0   0   0   0   0   0   0   0   0   0\n",
      "   0   0   0   0   0   0   0   0   0   0   0   0   0   0   0   0   0   0\n",
      "   0   0   0   0   0   0   0   0   0   0   0   0   0   0   0   0   0   0\n",
      "   0   0   0   0   0   0   0   0   0   0   0   0   0   0   0   0   0   0\n",
      "   0   0   0   0   0   0   0   0   0   0   0   0   0   0   0   0   0   0\n",
      "   0   0   0   0   0   0   0   0   0   0   0   0   0   0   0   0   0   0\n",
      "   0   0   0   0   0   0   0   0   0   0   0   0   0   0   0   0   0   0\n",
      "   0   0   0   0   0   0   0   0   0   0   0   0   0   0   0   0   0   0\n",
      " 981 539 825 593 306 936 150 920 353 592 471 435 150 797  52 150 419 539\n",
      " 757  61 150 196 506 286]\n"
     ]
    }
   ],
   "source": [
    "# truncate and/or pad input sequences\n",
    "max_review_length = 600\n",
    "X_train = sequence.pad_sequences(X_train, maxlen=max_review_length)\n",
    "X_test = sequence.pad_sequences(X_test, maxlen=max_review_length)\n",
    "\n",
    "print(X_train.shape)\n",
    "print(X_train[1])"
   ]
  },
  {
   "cell_type": "code",
   "execution_count": 86,
   "metadata": {},
   "outputs": [
    {
     "name": "stdout",
     "output_type": "stream",
     "text": [
      "WARNING:tensorflow:From C:\\Users\\aksha\\Anaconda3\\lib\\site-packages\\tensorflow\\python\\framework\\op_def_library.py:263: colocate_with (from tensorflow.python.framework.ops) is deprecated and will be removed in a future version.\n",
      "Instructions for updating:\n",
      "Colocations handled automatically by placer.\n",
      "_________________________________________________________________\n",
      "Layer (type)                 Output Shape              Param #   \n",
      "=================================================================\n",
      "embedding_1 (Embedding)      (None, 600, 32)           32032     \n",
      "_________________________________________________________________\n",
      "lstm_1 (LSTM)                (None, 100)               53200     \n",
      "_________________________________________________________________\n",
      "dense_1 (Dense)              (None, 1)                 101       \n",
      "=================================================================\n",
      "Total params: 85,333\n",
      "Trainable params: 85,333\n",
      "Non-trainable params: 0\n",
      "_________________________________________________________________\n",
      "None\n"
     ]
    }
   ],
   "source": [
    "embedding_vecor_length = 32\n",
    "model = Sequential()\n",
    "model.add(Embedding(1000+1, embedding_vecor_length, input_length=max_review_length))\n",
    "model.add(LSTM(100))\n",
    "model.add(Dense(1, activation='sigmoid'))\n",
    "model.compile(loss='binary_crossentropy', optimizer='adam', metrics=['accuracy'])\n",
    "print(model.summary())"
   ]
  },
  {
   "cell_type": "code",
   "execution_count": 87,
   "metadata": {},
   "outputs": [
    {
     "name": "stdout",
     "output_type": "stream",
     "text": [
      "WARNING:tensorflow:From C:\\Users\\aksha\\Anaconda3\\lib\\site-packages\\tensorflow\\python\\ops\\math_ops.py:3066: to_int32 (from tensorflow.python.ops.math_ops) is deprecated and will be removed in a future version.\n",
      "Instructions for updating:\n",
      "Use tf.cast instead.\n",
      "Epoch 1/10\n",
      "6694/6694 [==============================] - ETA: 8:48 - loss: 0.6927 - acc: 0.640 - ETA: 4:49 - loss: 0.6909 - acc: 0.710 - ETA: 3:29 - loss: 0.6885 - acc: 0.760 - ETA: 2:49 - loss: 0.6864 - acc: 0.769 - ETA: 2:25 - loss: 0.6830 - acc: 0.793 - ETA: 2:08 - loss: 0.6797 - acc: 0.804 - ETA: 1:56 - loss: 0.6774 - acc: 0.799 - ETA: 1:47 - loss: 0.6722 - acc: 0.810 - ETA: 1:40 - loss: 0.6678 - acc: 0.812 - ETA: 1:34 - loss: 0.6620 - acc: 0.814 - ETA: 1:29 - loss: 0.6525 - acc: 0.822 - ETA: 1:25 - loss: 0.6423 - acc: 0.825 - ETA: 1:22 - loss: 0.6289 - acc: 0.826 - ETA: 1:18 - loss: 0.6283 - acc: 0.821 - ETA: 1:16 - loss: 0.6131 - acc: 0.824 - ETA: 1:13 - loss: 0.6080 - acc: 0.821 - ETA: 1:11 - loss: 0.6001 - acc: 0.820 - ETA: 1:09 - loss: 0.5857 - acc: 0.826 - ETA: 1:07 - loss: 0.5788 - acc: 0.826 - ETA: 1:06 - loss: 0.5734 - acc: 0.825 - ETA: 1:05 - loss: 0.5763 - acc: 0.819 - ETA: 1:03 - loss: 0.5704 - acc: 0.820 - ETA: 1:02 - loss: 0.5625 - acc: 0.822 - ETA: 1:00 - loss: 0.5550 - acc: 0.824 - ETA: 59s - loss: 0.5538 - acc: 0.823 - ETA: 58s - loss: 0.5538 - acc: 0.82 - ETA: 57s - loss: 0.5482 - acc: 0.82 - ETA: 56s - loss: 0.5420 - acc: 0.82 - ETA: 55s - loss: 0.5397 - acc: 0.82 - ETA: 54s - loss: 0.5373 - acc: 0.82 - ETA: 53s - loss: 0.5349 - acc: 0.82 - ETA: 52s - loss: 0.5297 - acc: 0.82 - ETA: 51s - loss: 0.5258 - acc: 0.82 - ETA: 50s - loss: 0.5231 - acc: 0.82 - ETA: 49s - loss: 0.5253 - acc: 0.82 - ETA: 48s - loss: 0.5196 - acc: 0.82 - ETA: 47s - loss: 0.5179 - acc: 0.82 - ETA: 46s - loss: 0.5135 - acc: 0.82 - ETA: 45s - loss: 0.5071 - acc: 0.82 - ETA: 44s - loss: 0.5048 - acc: 0.83 - ETA: 43s - loss: 0.5022 - acc: 0.83 - ETA: 42s - loss: 0.5016 - acc: 0.83 - ETA: 42s - loss: 0.4992 - acc: 0.83 - ETA: 41s - loss: 0.4998 - acc: 0.82 - ETA: 40s - loss: 0.4968 - acc: 0.83 - ETA: 39s - loss: 0.4984 - acc: 0.82 - ETA: 38s - loss: 0.4999 - acc: 0.82 - ETA: 37s - loss: 0.4996 - acc: 0.82 - ETA: 37s - loss: 0.4977 - acc: 0.82 - ETA: 36s - loss: 0.4950 - acc: 0.82 - ETA: 35s - loss: 0.4945 - acc: 0.82 - ETA: 34s - loss: 0.4913 - acc: 0.82 - ETA: 33s - loss: 0.4896 - acc: 0.83 - ETA: 33s - loss: 0.4897 - acc: 0.82 - ETA: 32s - loss: 0.4883 - acc: 0.82 - ETA: 31s - loss: 0.4844 - acc: 0.83 - ETA: 31s - loss: 0.4865 - acc: 0.82 - ETA: 30s - loss: 0.4859 - acc: 0.82 - ETA: 29s - loss: 0.4857 - acc: 0.82 - ETA: 28s - loss: 0.4841 - acc: 0.82 - ETA: 28s - loss: 0.4824 - acc: 0.82 - ETA: 27s - loss: 0.4809 - acc: 0.82 - ETA: 26s - loss: 0.4807 - acc: 0.82 - ETA: 26s - loss: 0.4796 - acc: 0.82 - ETA: 25s - loss: 0.4801 - acc: 0.82 - ETA: 24s - loss: 0.4787 - acc: 0.82 - ETA: 24s - loss: 0.4773 - acc: 0.82 - ETA: 23s - loss: 0.4752 - acc: 0.82 - ETA: 22s - loss: 0.4764 - acc: 0.82 - ETA: 22s - loss: 0.4747 - acc: 0.82 - ETA: 21s - loss: 0.4732 - acc: 0.82 - ETA: 20s - loss: 0.4720 - acc: 0.82 - ETA: 20s - loss: 0.4707 - acc: 0.82 - ETA: 19s - loss: 0.4699 - acc: 0.82 - ETA: 18s - loss: 0.4687 - acc: 0.82 - ETA: 18s - loss: 0.4662 - acc: 0.82 - ETA: 17s - loss: 0.4651 - acc: 0.82 - ETA: 16s - loss: 0.4639 - acc: 0.82 - ETA: 16s - loss: 0.4623 - acc: 0.82 - ETA: 15s - loss: 0.4607 - acc: 0.82 - ETA: 15s - loss: 0.4582 - acc: 0.82 - ETA: 14s - loss: 0.4561 - acc: 0.82 - ETA: 13s - loss: 0.4560 - acc: 0.82 - ETA: 13s - loss: 0.4534 - acc: 0.82 - ETA: 12s - loss: 0.4526 - acc: 0.82 - ETA: 11s - loss: 0.4501 - acc: 0.82 - ETA: 11s - loss: 0.4501 - acc: 0.82 - ETA: 10s - loss: 0.4491 - acc: 0.82 - ETA: 9s - loss: 0.4481 - acc: 0.8283 - ETA: 9s - loss: 0.4456 - acc: 0.829 - ETA: 8s - loss: 0.4435 - acc: 0.830 - ETA: 7s - loss: 0.4409 - acc: 0.831 - ETA: 7s - loss: 0.4401 - acc: 0.830 - ETA: 6s - loss: 0.4380 - acc: 0.831 - ETA: 6s - loss: 0.4372 - acc: 0.830 - ETA: 5s - loss: 0.4357 - acc: 0.831 - ETA: 4s - loss: 0.4348 - acc: 0.831 - ETA: 4s - loss: 0.4330 - acc: 0.831 - ETA: 3s - loss: 0.4329 - acc: 0.830 - ETA: 2s - loss: 0.4309 - acc: 0.831 - ETA: 2s - loss: 0.4287 - acc: 0.832 - ETA: 1s - loss: 0.4285 - acc: 0.832 - ETA: 0s - loss: 0.4264 - acc: 0.833 - ETA: 0s - loss: 0.4250 - acc: 0.834 - 65s 10ms/step - loss: 0.4235 - acc: 0.8352\n",
      "Epoch 2/10\n"
     ]
    },
    {
     "name": "stdout",
     "output_type": "stream",
     "text": [
      "6694/6694 [==============================] - ETA: 56s - loss: 0.4649 - acc: 0.82 - ETA: 56s - loss: 0.3598 - acc: 0.84 - ETA: 56s - loss: 0.3241 - acc: 0.84 - ETA: 56s - loss: 0.3135 - acc: 0.86 - ETA: 55s - loss: 0.2990 - acc: 0.86 - ETA: 57s - loss: 0.3726 - acc: 0.86 - ETA: 57s - loss: 0.3639 - acc: 0.86 - ETA: 56s - loss: 0.3416 - acc: 0.87 - ETA: 55s - loss: 0.3342 - acc: 0.87 - ETA: 55s - loss: 0.3279 - acc: 0.87 - ETA: 54s - loss: 0.3197 - acc: 0.87 - ETA: 55s - loss: 0.3167 - acc: 0.87 - ETA: 54s - loss: 0.3073 - acc: 0.87 - ETA: 54s - loss: 0.3027 - acc: 0.87 - ETA: 53s - loss: 0.2967 - acc: 0.88 - ETA: 52s - loss: 0.3011 - acc: 0.87 - ETA: 52s - loss: 0.3002 - acc: 0.87 - ETA: 51s - loss: 0.3032 - acc: 0.87 - ETA: 51s - loss: 0.3050 - acc: 0.87 - ETA: 50s - loss: 0.3061 - acc: 0.87 - ETA: 49s - loss: 0.3008 - acc: 0.87 - ETA: 49s - loss: 0.2979 - acc: 0.87 - ETA: 48s - loss: 0.2991 - acc: 0.87 - ETA: 48s - loss: 0.2956 - acc: 0.87 - ETA: 48s - loss: 0.2942 - acc: 0.87 - ETA: 47s - loss: 0.2920 - acc: 0.87 - ETA: 46s - loss: 0.2921 - acc: 0.88 - ETA: 45s - loss: 0.2880 - acc: 0.88 - ETA: 45s - loss: 0.2846 - acc: 0.88 - ETA: 44s - loss: 0.2843 - acc: 0.88 - ETA: 43s - loss: 0.2797 - acc: 0.88 - ETA: 43s - loss: 0.2795 - acc: 0.88 - ETA: 42s - loss: 0.2849 - acc: 0.88 - ETA: 41s - loss: 0.2838 - acc: 0.88 - ETA: 41s - loss: 0.2812 - acc: 0.88 - ETA: 40s - loss: 0.2823 - acc: 0.88 - ETA: 39s - loss: 0.2809 - acc: 0.88 - ETA: 39s - loss: 0.2816 - acc: 0.88 - ETA: 38s - loss: 0.2820 - acc: 0.88 - ETA: 37s - loss: 0.2812 - acc: 0.88 - ETA: 37s - loss: 0.2805 - acc: 0.88 - ETA: 36s - loss: 0.2807 - acc: 0.88 - ETA: 36s - loss: 0.2807 - acc: 0.88 - ETA: 35s - loss: 0.2803 - acc: 0.88 - ETA: 34s - loss: 0.2803 - acc: 0.88 - ETA: 34s - loss: 0.2796 - acc: 0.88 - ETA: 33s - loss: 0.2785 - acc: 0.89 - ETA: 32s - loss: 0.2767 - acc: 0.89 - ETA: 32s - loss: 0.2754 - acc: 0.89 - ETA: 31s - loss: 0.2746 - acc: 0.89 - ETA: 31s - loss: 0.2745 - acc: 0.88 - ETA: 30s - loss: 0.2735 - acc: 0.88 - ETA: 30s - loss: 0.2721 - acc: 0.88 - ETA: 29s - loss: 0.2718 - acc: 0.88 - ETA: 28s - loss: 0.2715 - acc: 0.88 - ETA: 28s - loss: 0.2713 - acc: 0.88 - ETA: 27s - loss: 0.2699 - acc: 0.88 - ETA: 27s - loss: 0.2703 - acc: 0.88 - ETA: 26s - loss: 0.2720 - acc: 0.88 - ETA: 25s - loss: 0.2730 - acc: 0.88 - ETA: 25s - loss: 0.2727 - acc: 0.88 - ETA: 24s - loss: 0.2721 - acc: 0.88 - ETA: 24s - loss: 0.2713 - acc: 0.88 - ETA: 23s - loss: 0.2722 - acc: 0.88 - ETA: 22s - loss: 0.2718 - acc: 0.88 - ETA: 22s - loss: 0.2748 - acc: 0.88 - ETA: 21s - loss: 0.2733 - acc: 0.88 - ETA: 21s - loss: 0.2740 - acc: 0.88 - ETA: 20s - loss: 0.2734 - acc: 0.88 - ETA: 20s - loss: 0.2745 - acc: 0.88 - ETA: 19s - loss: 0.2743 - acc: 0.88 - ETA: 18s - loss: 0.2744 - acc: 0.88 - ETA: 18s - loss: 0.2747 - acc: 0.88 - ETA: 17s - loss: 0.2736 - acc: 0.88 - ETA: 17s - loss: 0.2717 - acc: 0.88 - ETA: 16s - loss: 0.2706 - acc: 0.88 - ETA: 15s - loss: 0.2703 - acc: 0.88 - ETA: 15s - loss: 0.2682 - acc: 0.89 - ETA: 14s - loss: 0.2691 - acc: 0.89 - ETA: 14s - loss: 0.2686 - acc: 0.89 - ETA: 13s - loss: 0.2687 - acc: 0.88 - ETA: 13s - loss: 0.2687 - acc: 0.88 - ETA: 12s - loss: 0.2686 - acc: 0.88 - ETA: 11s - loss: 0.2693 - acc: 0.88 - ETA: 11s - loss: 0.2697 - acc: 0.88 - ETA: 10s - loss: 0.2695 - acc: 0.88 - ETA: 10s - loss: 0.2684 - acc: 0.88 - ETA: 9s - loss: 0.2684 - acc: 0.8890 - ETA: 8s - loss: 0.2676 - acc: 0.889 - ETA: 8s - loss: 0.2669 - acc: 0.890 - ETA: 7s - loss: 0.2676 - acc: 0.889 - ETA: 7s - loss: 0.2662 - acc: 0.890 - ETA: 6s - loss: 0.2660 - acc: 0.890 - ETA: 6s - loss: 0.2658 - acc: 0.891 - ETA: 5s - loss: 0.2645 - acc: 0.891 - ETA: 4s - loss: 0.2631 - acc: 0.892 - ETA: 4s - loss: 0.2633 - acc: 0.891 - ETA: 3s - loss: 0.2634 - acc: 0.892 - ETA: 3s - loss: 0.2627 - acc: 0.892 - ETA: 2s - loss: 0.2623 - acc: 0.892 - ETA: 2s - loss: 0.2612 - acc: 0.892 - ETA: 1s - loss: 0.2619 - acc: 0.892 - ETA: 0s - loss: 0.2611 - acc: 0.893 - ETA: 0s - loss: 0.2616 - acc: 0.893 - 60s 9ms/step - loss: 0.2614 - acc: 0.8933\n",
      "Epoch 3/10\n",
      "6694/6694 [==============================] - ETA: 56s - loss: 0.2041 - acc: 0.93 - ETA: 55s - loss: 0.2086 - acc: 0.92 - ETA: 55s - loss: 0.2018 - acc: 0.94 - ETA: 54s - loss: 0.1871 - acc: 0.94 - ETA: 54s - loss: 0.1741 - acc: 0.94 - ETA: 53s - loss: 0.1691 - acc: 0.94 - ETA: 54s - loss: 0.1717 - acc: 0.93 - ETA: 53s - loss: 0.1716 - acc: 0.93 - ETA: 52s - loss: 0.1743 - acc: 0.94 - ETA: 52s - loss: 0.1861 - acc: 0.93 - ETA: 51s - loss: 0.1959 - acc: 0.92 - ETA: 51s - loss: 0.1905 - acc: 0.93 - ETA: 50s - loss: 0.1939 - acc: 0.93 - ETA: 50s - loss: 0.1922 - acc: 0.93 - ETA: 49s - loss: 0.1963 - acc: 0.92 - ETA: 48s - loss: 0.2004 - acc: 0.92 - ETA: 48s - loss: 0.2026 - acc: 0.92 - ETA: 47s - loss: 0.2000 - acc: 0.92 - ETA: 47s - loss: 0.2023 - acc: 0.91 - ETA: 46s - loss: 0.2007 - acc: 0.91 - ETA: 46s - loss: 0.1974 - acc: 0.91 - ETA: 45s - loss: 0.2033 - acc: 0.91 - ETA: 44s - loss: 0.2074 - acc: 0.91 - ETA: 44s - loss: 0.2047 - acc: 0.91 - ETA: 44s - loss: 0.2045 - acc: 0.91 - ETA: 43s - loss: 0.2086 - acc: 0.91 - ETA: 43s - loss: 0.2087 - acc: 0.91 - ETA: 42s - loss: 0.2078 - acc: 0.91 - ETA: 42s - loss: 0.2080 - acc: 0.91 - ETA: 41s - loss: 0.2068 - acc: 0.91 - ETA: 41s - loss: 0.2065 - acc: 0.91 - ETA: 40s - loss: 0.2081 - acc: 0.91 - ETA: 39s - loss: 0.2076 - acc: 0.91 - ETA: 39s - loss: 0.2053 - acc: 0.91 - ETA: 38s - loss: 0.2077 - acc: 0.91 - ETA: 38s - loss: 0.2082 - acc: 0.91 - ETA: 37s - loss: 0.2128 - acc: 0.91 - ETA: 37s - loss: 0.2141 - acc: 0.91 - ETA: 36s - loss: 0.2135 - acc: 0.91 - ETA: 35s - loss: 0.2137 - acc: 0.91 - ETA: 35s - loss: 0.2148 - acc: 0.91 - ETA: 34s - loss: 0.2164 - acc: 0.91 - ETA: 34s - loss: 0.2154 - acc: 0.91 - ETA: 33s - loss: 0.2162 - acc: 0.91 - ETA: 33s - loss: 0.2155 - acc: 0.91 - ETA: 32s - loss: 0.2165 - acc: 0.91 - ETA: 32s - loss: 0.2146 - acc: 0.91 - ETA: 31s - loss: 0.2131 - acc: 0.91 - ETA: 31s - loss: 0.2131 - acc: 0.91 - ETA: 30s - loss: 0.2127 - acc: 0.91 - ETA: 29s - loss: 0.2108 - acc: 0.91 - ETA: 29s - loss: 0.2109 - acc: 0.91 - ETA: 28s - loss: 0.2090 - acc: 0.91 - ETA: 28s - loss: 0.2110 - acc: 0.91 - ETA: 27s - loss: 0.2100 - acc: 0.91 - ETA: 27s - loss: 0.2090 - acc: 0.91 - ETA: 26s - loss: 0.2079 - acc: 0.91 - ETA: 25s - loss: 0.2093 - acc: 0.91 - ETA: 25s - loss: 0.2090 - acc: 0.91 - ETA: 24s - loss: 0.2122 - acc: 0.91 - ETA: 24s - loss: 0.2138 - acc: 0.91 - ETA: 23s - loss: 0.2157 - acc: 0.90 - ETA: 23s - loss: 0.2169 - acc: 0.90 - ETA: 22s - loss: 0.2165 - acc: 0.90 - ETA: 22s - loss: 0.2166 - acc: 0.90 - ETA: 21s - loss: 0.2160 - acc: 0.90 - ETA: 20s - loss: 0.2167 - acc: 0.90 - ETA: 20s - loss: 0.2173 - acc: 0.90 - ETA: 19s - loss: 0.2172 - acc: 0.90 - ETA: 19s - loss: 0.2179 - acc: 0.90 - ETA: 18s - loss: 0.2173 - acc: 0.90 - ETA: 18s - loss: 0.2173 - acc: 0.90 - ETA: 17s - loss: 0.2173 - acc: 0.90 - ETA: 17s - loss: 0.2161 - acc: 0.90 - ETA: 16s - loss: 0.2171 - acc: 0.90 - ETA: 15s - loss: 0.2161 - acc: 0.91 - ETA: 15s - loss: 0.2174 - acc: 0.90 - ETA: 14s - loss: 0.2177 - acc: 0.90 - ETA: 14s - loss: 0.2177 - acc: 0.90 - ETA: 13s - loss: 0.2181 - acc: 0.90 - ETA: 13s - loss: 0.2183 - acc: 0.90 - ETA: 12s - loss: 0.2178 - acc: 0.90 - ETA: 12s - loss: 0.2173 - acc: 0.90 - ETA: 11s - loss: 0.2175 - acc: 0.90 - ETA: 10s - loss: 0.2172 - acc: 0.90 - ETA: 10s - loss: 0.2174 - acc: 0.90 - ETA: 9s - loss: 0.2176 - acc: 0.9091 - ETA: 9s - loss: 0.2168 - acc: 0.909 - ETA: 8s - loss: 0.2161 - acc: 0.910 - ETA: 8s - loss: 0.2153 - acc: 0.910 - ETA: 7s - loss: 0.2145 - acc: 0.910 - ETA: 7s - loss: 0.2147 - acc: 0.910 - ETA: 6s - loss: 0.2140 - acc: 0.911 - ETA: 6s - loss: 0.2144 - acc: 0.911 - ETA: 5s - loss: 0.2181 - acc: 0.910 - ETA: 4s - loss: 0.2176 - acc: 0.911 - ETA: 4s - loss: 0.2170 - acc: 0.911 - ETA: 3s - loss: 0.2164 - acc: 0.911 - ETA: 3s - loss: 0.2157 - acc: 0.911 - ETA: 2s - loss: 0.2146 - acc: 0.912 - ETA: 2s - loss: 0.2149 - acc: 0.912 - ETA: 1s - loss: 0.2151 - acc: 0.912 - ETA: 0s - loss: 0.2150 - acc: 0.912 - ETA: 0s - loss: 0.2154 - acc: 0.912 - 60s 9ms/step - loss: 0.2155 - acc: 0.9122\n",
      "Epoch 4/10\n"
     ]
    },
    {
     "name": "stdout",
     "output_type": "stream",
     "text": [
      "6694/6694 [==============================] - ETA: 1:04 - loss: 0.2080 - acc: 0.906 - ETA: 1:00 - loss: 0.1787 - acc: 0.929 - ETA: 58s - loss: 0.2188 - acc: 0.901 - ETA: 1:02 - loss: 0.2373 - acc: 0.902 - ETA: 1:07 - loss: 0.2236 - acc: 0.909 - ETA: 1:07 - loss: 0.2340 - acc: 0.901 - ETA: 1:07 - loss: 0.2224 - acc: 0.910 - ETA: 1:06 - loss: 0.2098 - acc: 0.919 - ETA: 1:04 - loss: 0.1947 - acc: 0.927 - ETA: 1:02 - loss: 0.1796 - acc: 0.934 - ETA: 1:01 - loss: 0.1835 - acc: 0.933 - ETA: 59s - loss: 0.1790 - acc: 0.936 - ETA: 58s - loss: 0.1809 - acc: 0.93 - ETA: 58s - loss: 0.1808 - acc: 0.93 - ETA: 58s - loss: 0.1808 - acc: 0.93 - ETA: 57s - loss: 0.1828 - acc: 0.92 - ETA: 56s - loss: 0.1772 - acc: 0.93 - ETA: 55s - loss: 0.1767 - acc: 0.93 - ETA: 54s - loss: 0.1769 - acc: 0.93 - ETA: 53s - loss: 0.1838 - acc: 0.92 - ETA: 52s - loss: 0.1833 - acc: 0.93 - ETA: 51s - loss: 0.1806 - acc: 0.93 - ETA: 50s - loss: 0.1808 - acc: 0.93 - ETA: 49s - loss: 0.1801 - acc: 0.93 - ETA: 49s - loss: 0.1796 - acc: 0.93 - ETA: 48s - loss: 0.1818 - acc: 0.92 - ETA: 47s - loss: 0.1850 - acc: 0.92 - ETA: 46s - loss: 0.1828 - acc: 0.92 - ETA: 46s - loss: 0.1850 - acc: 0.92 - ETA: 45s - loss: 0.1814 - acc: 0.93 - ETA: 45s - loss: 0.1816 - acc: 0.93 - ETA: 44s - loss: 0.1841 - acc: 0.92 - ETA: 43s - loss: 0.1855 - acc: 0.92 - ETA: 43s - loss: 0.1867 - acc: 0.92 - ETA: 42s - loss: 0.1873 - acc: 0.92 - ETA: 42s - loss: 0.1865 - acc: 0.93 - ETA: 42s - loss: 0.1889 - acc: 0.92 - ETA: 41s - loss: 0.1886 - acc: 0.92 - ETA: 40s - loss: 0.1886 - acc: 0.92 - ETA: 40s - loss: 0.1878 - acc: 0.92 - ETA: 39s - loss: 0.1909 - acc: 0.92 - ETA: 38s - loss: 0.1888 - acc: 0.92 - ETA: 38s - loss: 0.1900 - acc: 0.92 - ETA: 37s - loss: 0.1873 - acc: 0.92 - ETA: 36s - loss: 0.1857 - acc: 0.92 - ETA: 36s - loss: 0.1864 - acc: 0.92 - ETA: 35s - loss: 0.1856 - acc: 0.92 - ETA: 34s - loss: 0.1839 - acc: 0.93 - ETA: 34s - loss: 0.1816 - acc: 0.93 - ETA: 33s - loss: 0.1843 - acc: 0.93 - ETA: 32s - loss: 0.1841 - acc: 0.92 - ETA: 32s - loss: 0.1860 - acc: 0.92 - ETA: 31s - loss: 0.1858 - acc: 0.92 - ETA: 31s - loss: 0.1854 - acc: 0.92 - ETA: 30s - loss: 0.1845 - acc: 0.92 - ETA: 29s - loss: 0.1837 - acc: 0.93 - ETA: 29s - loss: 0.1832 - acc: 0.93 - ETA: 28s - loss: 0.1830 - acc: 0.93 - ETA: 27s - loss: 0.1824 - acc: 0.93 - ETA: 27s - loss: 0.1832 - acc: 0.93 - ETA: 26s - loss: 0.1843 - acc: 0.93 - ETA: 25s - loss: 0.1837 - acc: 0.93 - ETA: 25s - loss: 0.1846 - acc: 0.92 - ETA: 24s - loss: 0.1870 - acc: 0.92 - ETA: 23s - loss: 0.1851 - acc: 0.93 - ETA: 23s - loss: 0.1863 - acc: 0.92 - ETA: 22s - loss: 0.1858 - acc: 0.92 - ETA: 22s - loss: 0.1847 - acc: 0.92 - ETA: 21s - loss: 0.1852 - acc: 0.93 - ETA: 20s - loss: 0.1863 - acc: 0.92 - ETA: 20s - loss: 0.1874 - acc: 0.92 - ETA: 19s - loss: 0.1872 - acc: 0.92 - ETA: 18s - loss: 0.1861 - acc: 0.93 - ETA: 18s - loss: 0.1866 - acc: 0.93 - ETA: 17s - loss: 0.1856 - acc: 0.93 - ETA: 17s - loss: 0.1853 - acc: 0.93 - ETA: 16s - loss: 0.1847 - acc: 0.93 - ETA: 15s - loss: 0.1846 - acc: 0.93 - ETA: 15s - loss: 0.1862 - acc: 0.92 - ETA: 14s - loss: 0.1854 - acc: 0.93 - ETA: 13s - loss: 0.1859 - acc: 0.92 - ETA: 13s - loss: 0.1878 - acc: 0.92 - ETA: 12s - loss: 0.1877 - acc: 0.92 - ETA: 12s - loss: 0.1862 - acc: 0.92 - ETA: 11s - loss: 0.1879 - acc: 0.92 - ETA: 10s - loss: 0.1882 - acc: 0.92 - ETA: 10s - loss: 0.1880 - acc: 0.92 - ETA: 9s - loss: 0.1886 - acc: 0.9268 - ETA: 9s - loss: 0.1889 - acc: 0.926 - ETA: 8s - loss: 0.1890 - acc: 0.926 - ETA: 7s - loss: 0.1911 - acc: 0.925 - ETA: 7s - loss: 0.1922 - acc: 0.925 - ETA: 6s - loss: 0.1915 - acc: 0.925 - ETA: 6s - loss: 0.1916 - acc: 0.925 - ETA: 5s - loss: 0.1914 - acc: 0.925 - ETA: 5s - loss: 0.1914 - acc: 0.925 - ETA: 4s - loss: 0.1921 - acc: 0.925 - ETA: 3s - loss: 0.1917 - acc: 0.925 - ETA: 3s - loss: 0.1906 - acc: 0.926 - ETA: 2s - loss: 0.1903 - acc: 0.926 - ETA: 2s - loss: 0.1894 - acc: 0.927 - ETA: 1s - loss: 0.1893 - acc: 0.926 - ETA: 0s - loss: 0.1894 - acc: 0.926 - ETA: 0s - loss: 0.1899 - acc: 0.926 - 61s 9ms/step - loss: 0.1895 - acc: 0.9268\n",
      "Epoch 5/10\n",
      "6694/6694 [==============================] - ETA: 56s - loss: 0.1549 - acc: 0.95 - ETA: 55s - loss: 0.1771 - acc: 0.92 - ETA: 54s - loss: 0.1683 - acc: 0.93 - ETA: 54s - loss: 0.1847 - acc: 0.92 - ETA: 54s - loss: 0.1640 - acc: 0.93 - ETA: 53s - loss: 0.1580 - acc: 0.93 - ETA: 52s - loss: 0.1651 - acc: 0.93 - ETA: 52s - loss: 0.1725 - acc: 0.93 - ETA: 51s - loss: 0.1755 - acc: 0.93 - ETA: 51s - loss: 0.1762 - acc: 0.93 - ETA: 50s - loss: 0.1721 - acc: 0.93 - ETA: 49s - loss: 0.1727 - acc: 0.93 - ETA: 49s - loss: 0.1766 - acc: 0.93 - ETA: 48s - loss: 0.1774 - acc: 0.93 - ETA: 48s - loss: 0.1738 - acc: 0.93 - ETA: 47s - loss: 0.1756 - acc: 0.93 - ETA: 47s - loss: 0.1769 - acc: 0.93 - ETA: 46s - loss: 0.1754 - acc: 0.93 - ETA: 46s - loss: 0.1792 - acc: 0.93 - ETA: 45s - loss: 0.1802 - acc: 0.93 - ETA: 45s - loss: 0.1757 - acc: 0.93 - ETA: 44s - loss: 0.1752 - acc: 0.93 - ETA: 44s - loss: 0.1753 - acc: 0.93 - ETA: 43s - loss: 0.1763 - acc: 0.93 - ETA: 42s - loss: 0.1752 - acc: 0.93 - ETA: 42s - loss: 0.1757 - acc: 0.93 - ETA: 41s - loss: 0.1769 - acc: 0.93 - ETA: 41s - loss: 0.1738 - acc: 0.93 - ETA: 40s - loss: 0.1702 - acc: 0.93 - ETA: 40s - loss: 0.1710 - acc: 0.93 - ETA: 39s - loss: 0.1712 - acc: 0.93 - ETA: 39s - loss: 0.1719 - acc: 0.93 - ETA: 38s - loss: 0.1707 - acc: 0.94 - ETA: 38s - loss: 0.1719 - acc: 0.94 - ETA: 37s - loss: 0.1724 - acc: 0.94 - ETA: 37s - loss: 0.1735 - acc: 0.93 - ETA: 36s - loss: 0.1729 - acc: 0.93 - ETA: 35s - loss: 0.1722 - acc: 0.93 - ETA: 35s - loss: 0.1732 - acc: 0.93 - ETA: 34s - loss: 0.1757 - acc: 0.93 - ETA: 34s - loss: 0.1779 - acc: 0.93 - ETA: 33s - loss: 0.1776 - acc: 0.93 - ETA: 33s - loss: 0.1768 - acc: 0.93 - ETA: 32s - loss: 0.1770 - acc: 0.93 - ETA: 32s - loss: 0.1776 - acc: 0.93 - ETA: 31s - loss: 0.1781 - acc: 0.93 - ETA: 31s - loss: 0.1815 - acc: 0.93 - ETA: 30s - loss: 0.1840 - acc: 0.93 - ETA: 29s - loss: 0.1860 - acc: 0.93 - ETA: 29s - loss: 0.1850 - acc: 0.93 - ETA: 28s - loss: 0.1850 - acc: 0.93 - ETA: 28s - loss: 0.1830 - acc: 0.93 - ETA: 27s - loss: 0.1832 - acc: 0.93 - ETA: 27s - loss: 0.1826 - acc: 0.93 - ETA: 26s - loss: 0.1821 - acc: 0.93 - ETA: 26s - loss: 0.1801 - acc: 0.93 - ETA: 25s - loss: 0.1801 - acc: 0.93 - ETA: 25s - loss: 0.1803 - acc: 0.93 - ETA: 24s - loss: 0.1812 - acc: 0.93 - ETA: 24s - loss: 0.1806 - acc: 0.93 - ETA: 23s - loss: 0.1797 - acc: 0.93 - ETA: 22s - loss: 0.1800 - acc: 0.93 - ETA: 22s - loss: 0.1795 - acc: 0.93 - ETA: 21s - loss: 0.1790 - acc: 0.93 - ETA: 21s - loss: 0.1807 - acc: 0.93 - ETA: 20s - loss: 0.1804 - acc: 0.93 - ETA: 20s - loss: 0.1790 - acc: 0.93 - ETA: 19s - loss: 0.1778 - acc: 0.93 - ETA: 19s - loss: 0.1765 - acc: 0.93 - ETA: 18s - loss: 0.1772 - acc: 0.93 - ETA: 18s - loss: 0.1771 - acc: 0.93 - ETA: 17s - loss: 0.1775 - acc: 0.93 - ETA: 17s - loss: 0.1788 - acc: 0.93 - ETA: 16s - loss: 0.1788 - acc: 0.93 - ETA: 15s - loss: 0.1776 - acc: 0.93 - ETA: 15s - loss: 0.1790 - acc: 0.93 - ETA: 14s - loss: 0.1785 - acc: 0.93 - ETA: 14s - loss: 0.1801 - acc: 0.93 - ETA: 13s - loss: 0.1795 - acc: 0.93 - ETA: 13s - loss: 0.1780 - acc: 0.93 - ETA: 12s - loss: 0.1799 - acc: 0.93 - ETA: 12s - loss: 0.1805 - acc: 0.93 - ETA: 11s - loss: 0.1800 - acc: 0.93 - ETA: 11s - loss: 0.1806 - acc: 0.93 - ETA: 10s - loss: 0.1809 - acc: 0.93 - ETA: 10s - loss: 0.1812 - acc: 0.93 - ETA: 9s - loss: 0.1815 - acc: 0.9307 - ETA: 8s - loss: 0.1826 - acc: 0.930 - ETA: 8s - loss: 0.1830 - acc: 0.929 - ETA: 7s - loss: 0.1827 - acc: 0.929 - ETA: 7s - loss: 0.1822 - acc: 0.929 - ETA: 6s - loss: 0.1823 - acc: 0.930 - ETA: 6s - loss: 0.1832 - acc: 0.929 - ETA: 5s - loss: 0.1841 - acc: 0.929 - ETA: 5s - loss: 0.1848 - acc: 0.928 - ETA: 4s - loss: 0.1841 - acc: 0.928 - ETA: 4s - loss: 0.1847 - acc: 0.928 - ETA: 3s - loss: 0.1845 - acc: 0.927 - ETA: 3s - loss: 0.1848 - acc: 0.927 - ETA: 2s - loss: 0.1845 - acc: 0.927 - ETA: 1s - loss: 0.1845 - acc: 0.927 - ETA: 1s - loss: 0.1838 - acc: 0.927 - ETA: 0s - loss: 0.1832 - acc: 0.928 - ETA: 0s - loss: 0.1827 - acc: 0.928 - 57s 8ms/step - loss: 0.1821 - acc: 0.9287\n",
      "Epoch 6/10\n"
     ]
    },
    {
     "name": "stdout",
     "output_type": "stream",
     "text": [
      "6694/6694 [==============================] - ETA: 54s - loss: 0.1150 - acc: 0.95 - ETA: 54s - loss: 0.1614 - acc: 0.94 - ETA: 53s - loss: 0.1829 - acc: 0.93 - ETA: 53s - loss: 0.1910 - acc: 0.92 - ETA: 52s - loss: 0.1858 - acc: 0.92 - ETA: 52s - loss: 0.1933 - acc: 0.91 - ETA: 51s - loss: 0.1824 - acc: 0.92 - ETA: 51s - loss: 0.1905 - acc: 0.91 - ETA: 51s - loss: 0.1825 - acc: 0.92 - ETA: 50s - loss: 0.1843 - acc: 0.92 - ETA: 50s - loss: 0.1775 - acc: 0.92 - ETA: 49s - loss: 0.1766 - acc: 0.92 - ETA: 49s - loss: 0.1737 - acc: 0.92 - ETA: 48s - loss: 0.1727 - acc: 0.92 - ETA: 48s - loss: 0.1720 - acc: 0.92 - ETA: 47s - loss: 0.1699 - acc: 0.92 - ETA: 47s - loss: 0.1664 - acc: 0.92 - ETA: 46s - loss: 0.1656 - acc: 0.92 - ETA: 46s - loss: 0.1653 - acc: 0.92 - ETA: 45s - loss: 0.1679 - acc: 0.92 - ETA: 44s - loss: 0.1672 - acc: 0.93 - ETA: 44s - loss: 0.1642 - acc: 0.93 - ETA: 43s - loss: 0.1654 - acc: 0.93 - ETA: 43s - loss: 0.1593 - acc: 0.93 - ETA: 42s - loss: 0.1575 - acc: 0.93 - ETA: 42s - loss: 0.1575 - acc: 0.93 - ETA: 41s - loss: 0.1605 - acc: 0.93 - ETA: 41s - loss: 0.1611 - acc: 0.93 - ETA: 40s - loss: 0.1606 - acc: 0.93 - ETA: 40s - loss: 0.1638 - acc: 0.93 - ETA: 39s - loss: 0.1637 - acc: 0.93 - ETA: 39s - loss: 0.1663 - acc: 0.93 - ETA: 38s - loss: 0.1635 - acc: 0.93 - ETA: 38s - loss: 0.1614 - acc: 0.93 - ETA: 37s - loss: 0.1662 - acc: 0.93 - ETA: 36s - loss: 0.1653 - acc: 0.93 - ETA: 36s - loss: 0.1629 - acc: 0.93 - ETA: 35s - loss: 0.1625 - acc: 0.93 - ETA: 35s - loss: 0.1618 - acc: 0.93 - ETA: 34s - loss: 0.1620 - acc: 0.93 - ETA: 34s - loss: 0.1636 - acc: 0.93 - ETA: 33s - loss: 0.1637 - acc: 0.93 - ETA: 33s - loss: 0.1617 - acc: 0.93 - ETA: 32s - loss: 0.1604 - acc: 0.93 - ETA: 32s - loss: 0.1612 - acc: 0.93 - ETA: 31s - loss: 0.1633 - acc: 0.93 - ETA: 30s - loss: 0.1624 - acc: 0.93 - ETA: 30s - loss: 0.1629 - acc: 0.93 - ETA: 29s - loss: 0.1629 - acc: 0.93 - ETA: 29s - loss: 0.1635 - acc: 0.93 - ETA: 28s - loss: 0.1619 - acc: 0.93 - ETA: 28s - loss: 0.1614 - acc: 0.93 - ETA: 27s - loss: 0.1617 - acc: 0.93 - ETA: 27s - loss: 0.1605 - acc: 0.93 - ETA: 26s - loss: 0.1596 - acc: 0.93 - ETA: 26s - loss: 0.1585 - acc: 0.94 - ETA: 25s - loss: 0.1570 - acc: 0.94 - ETA: 25s - loss: 0.1560 - acc: 0.94 - ETA: 24s - loss: 0.1547 - acc: 0.94 - ETA: 24s - loss: 0.1552 - acc: 0.94 - ETA: 23s - loss: 0.1555 - acc: 0.94 - ETA: 22s - loss: 0.1583 - acc: 0.94 - ETA: 22s - loss: 0.1594 - acc: 0.93 - ETA: 21s - loss: 0.1606 - acc: 0.93 - ETA: 21s - loss: 0.1618 - acc: 0.93 - ETA: 20s - loss: 0.1619 - acc: 0.93 - ETA: 20s - loss: 0.1621 - acc: 0.93 - ETA: 19s - loss: 0.1630 - acc: 0.93 - ETA: 19s - loss: 0.1631 - acc: 0.93 - ETA: 18s - loss: 0.1631 - acc: 0.93 - ETA: 18s - loss: 0.1628 - acc: 0.93 - ETA: 17s - loss: 0.1626 - acc: 0.93 - ETA: 17s - loss: 0.1623 - acc: 0.93 - ETA: 16s - loss: 0.1618 - acc: 0.93 - ETA: 16s - loss: 0.1612 - acc: 0.93 - ETA: 15s - loss: 0.1615 - acc: 0.93 - ETA: 14s - loss: 0.1639 - acc: 0.93 - ETA: 14s - loss: 0.1640 - acc: 0.93 - ETA: 13s - loss: 0.1639 - acc: 0.93 - ETA: 13s - loss: 0.1642 - acc: 0.93 - ETA: 12s - loss: 0.1643 - acc: 0.93 - ETA: 12s - loss: 0.1632 - acc: 0.93 - ETA: 11s - loss: 0.1630 - acc: 0.93 - ETA: 11s - loss: 0.1630 - acc: 0.93 - ETA: 10s - loss: 0.1628 - acc: 0.93 - ETA: 10s - loss: 0.1636 - acc: 0.93 - ETA: 9s - loss: 0.1632 - acc: 0.9371 - ETA: 9s - loss: 0.1632 - acc: 0.937 - ETA: 8s - loss: 0.1638 - acc: 0.936 - ETA: 7s - loss: 0.1633 - acc: 0.937 - ETA: 7s - loss: 0.1640 - acc: 0.936 - ETA: 6s - loss: 0.1630 - acc: 0.936 - ETA: 6s - loss: 0.1653 - acc: 0.936 - ETA: 5s - loss: 0.1651 - acc: 0.936 - ETA: 5s - loss: 0.1644 - acc: 0.937 - ETA: 4s - loss: 0.1641 - acc: 0.937 - ETA: 4s - loss: 0.1644 - acc: 0.936 - ETA: 3s - loss: 0.1648 - acc: 0.936 - ETA: 3s - loss: 0.1647 - acc: 0.936 - ETA: 2s - loss: 0.1654 - acc: 0.936 - ETA: 1s - loss: 0.1654 - acc: 0.936 - ETA: 1s - loss: 0.1653 - acc: 0.936 - ETA: 0s - loss: 0.1651 - acc: 0.936 - ETA: 0s - loss: 0.1650 - acc: 0.936 - 57s 8ms/step - loss: 0.1651 - acc: 0.9364\n",
      "Epoch 7/10\n",
      "6694/6694 [==============================] - ETA: 58s - loss: 0.1439 - acc: 0.92 - ETA: 57s - loss: 0.1756 - acc: 0.93 - ETA: 55s - loss: 0.1643 - acc: 0.94 - ETA: 55s - loss: 0.1556 - acc: 0.94 - ETA: 54s - loss: 0.1397 - acc: 0.95 - ETA: 54s - loss: 0.1484 - acc: 0.95 - ETA: 53s - loss: 0.1424 - acc: 0.95 - ETA: 52s - loss: 0.1356 - acc: 0.95 - ETA: 52s - loss: 0.1361 - acc: 0.95 - ETA: 51s - loss: 0.1398 - acc: 0.94 - ETA: 50s - loss: 0.1350 - acc: 0.95 - ETA: 50s - loss: 0.1310 - acc: 0.95 - ETA: 49s - loss: 0.1369 - acc: 0.94 - ETA: 49s - loss: 0.1353 - acc: 0.94 - ETA: 48s - loss: 0.1380 - acc: 0.95 - ETA: 47s - loss: 0.1370 - acc: 0.94 - ETA: 47s - loss: 0.1361 - acc: 0.94 - ETA: 46s - loss: 0.1385 - acc: 0.94 - ETA: 46s - loss: 0.1430 - acc: 0.94 - ETA: 45s - loss: 0.1447 - acc: 0.94 - ETA: 45s - loss: 0.1450 - acc: 0.94 - ETA: 44s - loss: 0.1477 - acc: 0.94 - ETA: 44s - loss: 0.1518 - acc: 0.94 - ETA: 43s - loss: 0.1534 - acc: 0.94 - ETA: 43s - loss: 0.1550 - acc: 0.94 - ETA: 42s - loss: 0.1541 - acc: 0.94 - ETA: 42s - loss: 0.1503 - acc: 0.94 - ETA: 41s - loss: 0.1503 - acc: 0.94 - ETA: 41s - loss: 0.1479 - acc: 0.94 - ETA: 40s - loss: 0.1504 - acc: 0.94 - ETA: 39s - loss: 0.1517 - acc: 0.94 - ETA: 39s - loss: 0.1539 - acc: 0.94 - ETA: 38s - loss: 0.1540 - acc: 0.94 - ETA: 38s - loss: 0.1530 - acc: 0.94 - ETA: 37s - loss: 0.1527 - acc: 0.94 - ETA: 37s - loss: 0.1520 - acc: 0.94 - ETA: 36s - loss: 0.1516 - acc: 0.94 - ETA: 36s - loss: 0.1542 - acc: 0.94 - ETA: 35s - loss: 0.1541 - acc: 0.94 - ETA: 35s - loss: 0.1528 - acc: 0.94 - ETA: 34s - loss: 0.1521 - acc: 0.94 - ETA: 33s - loss: 0.1545 - acc: 0.94 - ETA: 33s - loss: 0.1543 - acc: 0.94 - ETA: 32s - loss: 0.1548 - acc: 0.94 - ETA: 32s - loss: 0.1549 - acc: 0.94 - ETA: 31s - loss: 0.1548 - acc: 0.94 - ETA: 31s - loss: 0.1528 - acc: 0.94 - ETA: 30s - loss: 0.1535 - acc: 0.94 - ETA: 30s - loss: 0.1536 - acc: 0.94 - ETA: 29s - loss: 0.1532 - acc: 0.94 - ETA: 28s - loss: 0.1527 - acc: 0.94 - ETA: 28s - loss: 0.1512 - acc: 0.94 - ETA: 27s - loss: 0.1499 - acc: 0.94 - ETA: 27s - loss: 0.1505 - acc: 0.94 - ETA: 26s - loss: 0.1511 - acc: 0.94 - ETA: 26s - loss: 0.1504 - acc: 0.94 - ETA: 25s - loss: 0.1510 - acc: 0.94 - ETA: 25s - loss: 0.1500 - acc: 0.94 - ETA: 24s - loss: 0.1488 - acc: 0.94 - ETA: 24s - loss: 0.1478 - acc: 0.94 - ETA: 23s - loss: 0.1485 - acc: 0.94 - ETA: 23s - loss: 0.1496 - acc: 0.94 - ETA: 22s - loss: 0.1490 - acc: 0.94 - ETA: 21s - loss: 0.1484 - acc: 0.94 - ETA: 21s - loss: 0.1482 - acc: 0.94 - ETA: 20s - loss: 0.1497 - acc: 0.94 - ETA: 20s - loss: 0.1495 - acc: 0.94 - ETA: 19s - loss: 0.1482 - acc: 0.94 - ETA: 19s - loss: 0.1481 - acc: 0.94 - ETA: 18s - loss: 0.1477 - acc: 0.94 - ETA: 18s - loss: 0.1479 - acc: 0.94 - ETA: 17s - loss: 0.1469 - acc: 0.94 - ETA: 17s - loss: 0.1467 - acc: 0.94 - ETA: 16s - loss: 0.1474 - acc: 0.94 - ETA: 16s - loss: 0.1489 - acc: 0.94 - ETA: 15s - loss: 0.1508 - acc: 0.94 - ETA: 14s - loss: 0.1524 - acc: 0.94 - ETA: 14s - loss: 0.1523 - acc: 0.94 - ETA: 13s - loss: 0.1540 - acc: 0.94 - ETA: 13s - loss: 0.1554 - acc: 0.94 - ETA: 12s - loss: 0.1560 - acc: 0.94 - ETA: 12s - loss: 0.1564 - acc: 0.94 - ETA: 11s - loss: 0.1575 - acc: 0.93 - ETA: 11s - loss: 0.1577 - acc: 0.93 - ETA: 10s - loss: 0.1587 - acc: 0.93 - ETA: 10s - loss: 0.1598 - acc: 0.93 - ETA: 9s - loss: 0.1609 - acc: 0.9380 - ETA: 8s - loss: 0.1620 - acc: 0.937 - ETA: 8s - loss: 0.1624 - acc: 0.937 - ETA: 7s - loss: 0.1623 - acc: 0.937 - ETA: 7s - loss: 0.1626 - acc: 0.937 - ETA: 6s - loss: 0.1625 - acc: 0.937 - ETA: 6s - loss: 0.1619 - acc: 0.937 - ETA: 5s - loss: 0.1620 - acc: 0.937 - ETA: 5s - loss: 0.1616 - acc: 0.937 - ETA: 4s - loss: 0.1620 - acc: 0.937 - ETA: 4s - loss: 0.1609 - acc: 0.938 - ETA: 3s - loss: 0.1614 - acc: 0.938 - ETA: 3s - loss: 0.1609 - acc: 0.938 - ETA: 2s - loss: 0.1604 - acc: 0.938 - ETA: 1s - loss: 0.1607 - acc: 0.938 - ETA: 1s - loss: 0.1618 - acc: 0.937 - ETA: 0s - loss: 0.1627 - acc: 0.937 - ETA: 0s - loss: 0.1630 - acc: 0.937 - 57s 8ms/step - loss: 0.1630 - acc: 0.9377\n",
      "Epoch 8/10\n"
     ]
    },
    {
     "name": "stdout",
     "output_type": "stream",
     "text": [
      "6694/6694 [==============================] - ETA: 55s - loss: 0.1418 - acc: 0.93 - ETA: 54s - loss: 0.1199 - acc: 0.96 - ETA: 54s - loss: 0.1097 - acc: 0.96 - ETA: 55s - loss: 0.1072 - acc: 0.96 - ETA: 54s - loss: 0.1225 - acc: 0.95 - ETA: 54s - loss: 0.1253 - acc: 0.95 - ETA: 53s - loss: 0.1270 - acc: 0.95 - ETA: 52s - loss: 0.1170 - acc: 0.95 - ETA: 52s - loss: 0.1095 - acc: 0.96 - ETA: 51s - loss: 0.1189 - acc: 0.95 - ETA: 51s - loss: 0.1146 - acc: 0.95 - ETA: 50s - loss: 0.1116 - acc: 0.95 - ETA: 50s - loss: 0.1107 - acc: 0.95 - ETA: 49s - loss: 0.1062 - acc: 0.95 - ETA: 49s - loss: 0.1135 - acc: 0.95 - ETA: 48s - loss: 0.1116 - acc: 0.95 - ETA: 48s - loss: 0.1192 - acc: 0.95 - ETA: 47s - loss: 0.1254 - acc: 0.95 - ETA: 46s - loss: 0.1237 - acc: 0.95 - ETA: 46s - loss: 0.1227 - acc: 0.95 - ETA: 45s - loss: 0.1250 - acc: 0.94 - ETA: 45s - loss: 0.1262 - acc: 0.94 - ETA: 44s - loss: 0.1258 - acc: 0.94 - ETA: 44s - loss: 0.1281 - acc: 0.94 - ETA: 43s - loss: 0.1310 - acc: 0.94 - ETA: 42s - loss: 0.1314 - acc: 0.94 - ETA: 42s - loss: 0.1327 - acc: 0.94 - ETA: 41s - loss: 0.1336 - acc: 0.94 - ETA: 41s - loss: 0.1351 - acc: 0.94 - ETA: 40s - loss: 0.1343 - acc: 0.94 - ETA: 40s - loss: 0.1356 - acc: 0.94 - ETA: 39s - loss: 0.1346 - acc: 0.94 - ETA: 39s - loss: 0.1343 - acc: 0.94 - ETA: 38s - loss: 0.1339 - acc: 0.94 - ETA: 37s - loss: 0.1322 - acc: 0.94 - ETA: 37s - loss: 0.1316 - acc: 0.94 - ETA: 36s - loss: 0.1326 - acc: 0.94 - ETA: 36s - loss: 0.1331 - acc: 0.94 - ETA: 35s - loss: 0.1333 - acc: 0.94 - ETA: 35s - loss: 0.1326 - acc: 0.94 - ETA: 34s - loss: 0.1325 - acc: 0.94 - ETA: 34s - loss: 0.1314 - acc: 0.94 - ETA: 33s - loss: 0.1342 - acc: 0.94 - ETA: 32s - loss: 0.1383 - acc: 0.94 - ETA: 32s - loss: 0.1395 - acc: 0.94 - ETA: 31s - loss: 0.1402 - acc: 0.94 - ETA: 31s - loss: 0.1410 - acc: 0.94 - ETA: 30s - loss: 0.1416 - acc: 0.94 - ETA: 30s - loss: 0.1431 - acc: 0.94 - ETA: 29s - loss: 0.1424 - acc: 0.94 - ETA: 29s - loss: 0.1430 - acc: 0.94 - ETA: 28s - loss: 0.1432 - acc: 0.94 - ETA: 28s - loss: 0.1457 - acc: 0.94 - ETA: 27s - loss: 0.1447 - acc: 0.94 - ETA: 26s - loss: 0.1442 - acc: 0.94 - ETA: 26s - loss: 0.1464 - acc: 0.94 - ETA: 25s - loss: 0.1517 - acc: 0.94 - ETA: 25s - loss: 0.1515 - acc: 0.94 - ETA: 24s - loss: 0.1518 - acc: 0.94 - ETA: 24s - loss: 0.1511 - acc: 0.94 - ETA: 23s - loss: 0.1524 - acc: 0.94 - ETA: 23s - loss: 0.1526 - acc: 0.94 - ETA: 22s - loss: 0.1514 - acc: 0.94 - ETA: 22s - loss: 0.1516 - acc: 0.94 - ETA: 21s - loss: 0.1510 - acc: 0.94 - ETA: 20s - loss: 0.1507 - acc: 0.94 - ETA: 20s - loss: 0.1509 - acc: 0.94 - ETA: 19s - loss: 0.1521 - acc: 0.94 - ETA: 19s - loss: 0.1517 - acc: 0.94 - ETA: 18s - loss: 0.1535 - acc: 0.94 - ETA: 18s - loss: 0.1541 - acc: 0.94 - ETA: 17s - loss: 0.1533 - acc: 0.94 - ETA: 17s - loss: 0.1550 - acc: 0.94 - ETA: 16s - loss: 0.1540 - acc: 0.94 - ETA: 16s - loss: 0.1549 - acc: 0.94 - ETA: 15s - loss: 0.1537 - acc: 0.94 - ETA: 14s - loss: 0.1538 - acc: 0.94 - ETA: 14s - loss: 0.1532 - acc: 0.94 - ETA: 13s - loss: 0.1525 - acc: 0.94 - ETA: 13s - loss: 0.1527 - acc: 0.94 - ETA: 12s - loss: 0.1541 - acc: 0.94 - ETA: 12s - loss: 0.1538 - acc: 0.94 - ETA: 11s - loss: 0.1541 - acc: 0.94 - ETA: 11s - loss: 0.1532 - acc: 0.94 - ETA: 10s - loss: 0.1524 - acc: 0.94 - ETA: 10s - loss: 0.1535 - acc: 0.94 - ETA: 9s - loss: 0.1534 - acc: 0.9434 - ETA: 9s - loss: 0.1521 - acc: 0.943 - ETA: 8s - loss: 0.1532 - acc: 0.943 - ETA: 7s - loss: 0.1532 - acc: 0.943 - ETA: 7s - loss: 0.1535 - acc: 0.943 - ETA: 6s - loss: 0.1535 - acc: 0.943 - ETA: 6s - loss: 0.1543 - acc: 0.942 - ETA: 5s - loss: 0.1541 - acc: 0.942 - ETA: 5s - loss: 0.1540 - acc: 0.942 - ETA: 4s - loss: 0.1544 - acc: 0.942 - ETA: 4s - loss: 0.1555 - acc: 0.941 - ETA: 3s - loss: 0.1555 - acc: 0.942 - ETA: 3s - loss: 0.1558 - acc: 0.941 - ETA: 2s - loss: 0.1553 - acc: 0.942 - ETA: 1s - loss: 0.1556 - acc: 0.941 - ETA: 1s - loss: 0.1549 - acc: 0.941 - ETA: 0s - loss: 0.1544 - acc: 0.942 - ETA: 0s - loss: 0.1545 - acc: 0.942 - 58s 9ms/step - loss: 0.1554 - acc: 0.9420\n",
      "Epoch 9/10\n",
      "6694/6694 [==============================] - ETA: 1:01 - loss: 0.1691 - acc: 0.937 - ETA: 1:02 - loss: 0.2019 - acc: 0.937 - ETA: 1:00 - loss: 0.1745 - acc: 0.947 - ETA: 1:00 - loss: 0.1626 - acc: 0.949 - ETA: 1:00 - loss: 0.1625 - acc: 0.953 - ETA: 59s - loss: 0.1488 - acc: 0.958 - ETA: 58s - loss: 0.1497 - acc: 0.95 - ETA: 57s - loss: 0.1403 - acc: 0.96 - ETA: 57s - loss: 0.1507 - acc: 0.95 - ETA: 56s - loss: 0.1456 - acc: 0.95 - ETA: 55s - loss: 0.1454 - acc: 0.95 - ETA: 55s - loss: 0.1403 - acc: 0.95 - ETA: 54s - loss: 0.1392 - acc: 0.95 - ETA: 53s - loss: 0.1387 - acc: 0.95 - ETA: 53s - loss: 0.1371 - acc: 0.95 - ETA: 52s - loss: 0.1338 - acc: 0.95 - ETA: 52s - loss: 0.1304 - acc: 0.95 - ETA: 51s - loss: 0.1368 - acc: 0.95 - ETA: 50s - loss: 0.1458 - acc: 0.94 - ETA: 50s - loss: 0.1476 - acc: 0.94 - ETA: 49s - loss: 0.1455 - acc: 0.94 - ETA: 49s - loss: 0.1469 - acc: 0.94 - ETA: 48s - loss: 0.1494 - acc: 0.94 - ETA: 47s - loss: 0.1479 - acc: 0.94 - ETA: 47s - loss: 0.1475 - acc: 0.94 - ETA: 46s - loss: 0.1449 - acc: 0.94 - ETA: 46s - loss: 0.1461 - acc: 0.94 - ETA: 45s - loss: 0.1498 - acc: 0.94 - ETA: 44s - loss: 0.1493 - acc: 0.94 - ETA: 44s - loss: 0.1478 - acc: 0.94 - ETA: 43s - loss: 0.1489 - acc: 0.94 - ETA: 43s - loss: 0.1480 - acc: 0.94 - ETA: 42s - loss: 0.1506 - acc: 0.93 - ETA: 41s - loss: 0.1476 - acc: 0.94 - ETA: 41s - loss: 0.1472 - acc: 0.94 - ETA: 40s - loss: 0.1486 - acc: 0.94 - ETA: 39s - loss: 0.1467 - acc: 0.94 - ETA: 39s - loss: 0.1483 - acc: 0.94 - ETA: 38s - loss: 0.1462 - acc: 0.94 - ETA: 38s - loss: 0.1466 - acc: 0.94 - ETA: 37s - loss: 0.1473 - acc: 0.94 - ETA: 37s - loss: 0.1457 - acc: 0.94 - ETA: 36s - loss: 0.1441 - acc: 0.94 - ETA: 35s - loss: 0.1437 - acc: 0.94 - ETA: 35s - loss: 0.1432 - acc: 0.94 - ETA: 34s - loss: 0.1425 - acc: 0.94 - ETA: 34s - loss: 0.1420 - acc: 0.94 - ETA: 33s - loss: 0.1436 - acc: 0.94 - ETA: 32s - loss: 0.1428 - acc: 0.94 - ETA: 32s - loss: 0.1429 - acc: 0.94 - ETA: 31s - loss: 0.1414 - acc: 0.94 - ETA: 31s - loss: 0.1404 - acc: 0.94 - ETA: 30s - loss: 0.1399 - acc: 0.94 - ETA: 29s - loss: 0.1400 - acc: 0.94 - ETA: 29s - loss: 0.1414 - acc: 0.94 - ETA: 28s - loss: 0.1409 - acc: 0.94 - ETA: 28s - loss: 0.1398 - acc: 0.94 - ETA: 27s - loss: 0.1401 - acc: 0.94 - ETA: 26s - loss: 0.1399 - acc: 0.94 - ETA: 26s - loss: 0.1426 - acc: 0.94 - ETA: 25s - loss: 0.1418 - acc: 0.94 - ETA: 25s - loss: 0.1427 - acc: 0.94 - ETA: 24s - loss: 0.1428 - acc: 0.94 - ETA: 23s - loss: 0.1416 - acc: 0.94 - ETA: 23s - loss: 0.1412 - acc: 0.94 - ETA: 22s - loss: 0.1425 - acc: 0.94 - ETA: 22s - loss: 0.1417 - acc: 0.94 - ETA: 21s - loss: 0.1410 - acc: 0.94 - ETA: 21s - loss: 0.1416 - acc: 0.94 - ETA: 20s - loss: 0.1417 - acc: 0.94 - ETA: 19s - loss: 0.1417 - acc: 0.94 - ETA: 19s - loss: 0.1412 - acc: 0.94 - ETA: 18s - loss: 0.1426 - acc: 0.94 - ETA: 18s - loss: 0.1434 - acc: 0.94 - ETA: 17s - loss: 0.1438 - acc: 0.94 - ETA: 16s - loss: 0.1442 - acc: 0.94 - ETA: 16s - loss: 0.1447 - acc: 0.94 - ETA: 15s - loss: 0.1441 - acc: 0.94 - ETA: 15s - loss: 0.1440 - acc: 0.94 - ETA: 14s - loss: 0.1453 - acc: 0.94 - ETA: 13s - loss: 0.1449 - acc: 0.94 - ETA: 13s - loss: 0.1453 - acc: 0.94 - ETA: 12s - loss: 0.1457 - acc: 0.94 - ETA: 12s - loss: 0.1452 - acc: 0.94 - ETA: 11s - loss: 0.1442 - acc: 0.94 - ETA: 10s - loss: 0.1446 - acc: 0.94 - ETA: 10s - loss: 0.1439 - acc: 0.94 - ETA: 9s - loss: 0.1451 - acc: 0.9455 - ETA: 9s - loss: 0.1453 - acc: 0.945 - ETA: 8s - loss: 0.1449 - acc: 0.945 - ETA: 8s - loss: 0.1457 - acc: 0.945 - ETA: 7s - loss: 0.1453 - acc: 0.945 - ETA: 6s - loss: 0.1454 - acc: 0.945 - ETA: 6s - loss: 0.1454 - acc: 0.945 - ETA: 5s - loss: 0.1450 - acc: 0.945 - ETA: 5s - loss: 0.1443 - acc: 0.945 - ETA: 4s - loss: 0.1443 - acc: 0.945 - ETA: 3s - loss: 0.1449 - acc: 0.945 - ETA: 3s - loss: 0.1456 - acc: 0.944 - ETA: 2s - loss: 0.1450 - acc: 0.945 - ETA: 2s - loss: 0.1447 - acc: 0.945 - ETA: 1s - loss: 0.1449 - acc: 0.945 - ETA: 0s - loss: 0.1445 - acc: 0.945 - ETA: 0s - loss: 0.1449 - acc: 0.945 - 62s 9ms/step - loss: 0.1452 - acc: 0.9452\n",
      "Epoch 10/10\n"
     ]
    },
    {
     "name": "stdout",
     "output_type": "stream",
     "text": [
      "6694/6694 [==============================] - ETA: 1:00 - loss: 0.1306 - acc: 0.953 - ETA: 59s - loss: 0.1194 - acc: 0.953 - ETA: 59s - loss: 0.1288 - acc: 0.95 - ETA: 59s - loss: 0.1111 - acc: 0.96 - ETA: 58s - loss: 0.1071 - acc: 0.96 - ETA: 57s - loss: 0.1132 - acc: 0.96 - ETA: 57s - loss: 0.1260 - acc: 0.95 - ETA: 57s - loss: 0.1399 - acc: 0.95 - ETA: 56s - loss: 0.1364 - acc: 0.95 - ETA: 56s - loss: 0.1263 - acc: 0.95 - ETA: 55s - loss: 0.1220 - acc: 0.96 - ETA: 54s - loss: 0.1260 - acc: 0.96 - ETA: 54s - loss: 0.1264 - acc: 0.96 - ETA: 53s - loss: 0.1264 - acc: 0.95 - ETA: 52s - loss: 0.1258 - acc: 0.95 - ETA: 52s - loss: 0.1204 - acc: 0.96 - ETA: 51s - loss: 0.1243 - acc: 0.96 - ETA: 51s - loss: 0.1262 - acc: 0.96 - ETA: 50s - loss: 0.1275 - acc: 0.95 - ETA: 49s - loss: 0.1264 - acc: 0.95 - ETA: 49s - loss: 0.1257 - acc: 0.95 - ETA: 48s - loss: 0.1266 - acc: 0.95 - ETA: 48s - loss: 0.1284 - acc: 0.95 - ETA: 47s - loss: 0.1303 - acc: 0.95 - ETA: 47s - loss: 0.1317 - acc: 0.95 - ETA: 46s - loss: 0.1320 - acc: 0.95 - ETA: 45s - loss: 0.1335 - acc: 0.95 - ETA: 45s - loss: 0.1372 - acc: 0.95 - ETA: 44s - loss: 0.1381 - acc: 0.95 - ETA: 44s - loss: 0.1432 - acc: 0.95 - ETA: 43s - loss: 0.1468 - acc: 0.95 - ETA: 42s - loss: 0.1478 - acc: 0.95 - ETA: 42s - loss: 0.1478 - acc: 0.95 - ETA: 41s - loss: 0.1455 - acc: 0.95 - ETA: 41s - loss: 0.1445 - acc: 0.95 - ETA: 40s - loss: 0.1443 - acc: 0.95 - ETA: 39s - loss: 0.1443 - acc: 0.95 - ETA: 39s - loss: 0.1445 - acc: 0.95 - ETA: 38s - loss: 0.1434 - acc: 0.95 - ETA: 38s - loss: 0.1419 - acc: 0.95 - ETA: 37s - loss: 0.1428 - acc: 0.95 - ETA: 36s - loss: 0.1429 - acc: 0.95 - ETA: 36s - loss: 0.1422 - acc: 0.95 - ETA: 35s - loss: 0.1410 - acc: 0.95 - ETA: 35s - loss: 0.1397 - acc: 0.95 - ETA: 34s - loss: 0.1412 - acc: 0.95 - ETA: 33s - loss: 0.1395 - acc: 0.95 - ETA: 33s - loss: 0.1382 - acc: 0.95 - ETA: 32s - loss: 0.1376 - acc: 0.95 - ETA: 32s - loss: 0.1372 - acc: 0.95 - ETA: 31s - loss: 0.1375 - acc: 0.95 - ETA: 30s - loss: 0.1365 - acc: 0.95 - ETA: 30s - loss: 0.1349 - acc: 0.95 - ETA: 29s - loss: 0.1338 - acc: 0.95 - ETA: 29s - loss: 0.1333 - acc: 0.95 - ETA: 28s - loss: 0.1340 - acc: 0.95 - ETA: 28s - loss: 0.1351 - acc: 0.95 - ETA: 27s - loss: 0.1338 - acc: 0.95 - ETA: 26s - loss: 0.1338 - acc: 0.95 - ETA: 26s - loss: 0.1357 - acc: 0.95 - ETA: 25s - loss: 0.1364 - acc: 0.95 - ETA: 25s - loss: 0.1360 - acc: 0.95 - ETA: 24s - loss: 0.1357 - acc: 0.95 - ETA: 23s - loss: 0.1365 - acc: 0.95 - ETA: 23s - loss: 0.1382 - acc: 0.95 - ETA: 22s - loss: 0.1394 - acc: 0.95 - ETA: 22s - loss: 0.1382 - acc: 0.95 - ETA: 21s - loss: 0.1390 - acc: 0.95 - ETA: 20s - loss: 0.1380 - acc: 0.95 - ETA: 20s - loss: 0.1378 - acc: 0.95 - ETA: 19s - loss: 0.1390 - acc: 0.95 - ETA: 19s - loss: 0.1388 - acc: 0.95 - ETA: 18s - loss: 0.1379 - acc: 0.95 - ETA: 18s - loss: 0.1370 - acc: 0.95 - ETA: 17s - loss: 0.1367 - acc: 0.95 - ETA: 16s - loss: 0.1365 - acc: 0.95 - ETA: 16s - loss: 0.1360 - acc: 0.95 - ETA: 15s - loss: 0.1355 - acc: 0.95 - ETA: 15s - loss: 0.1360 - acc: 0.95 - ETA: 14s - loss: 0.1365 - acc: 0.95 - ETA: 13s - loss: 0.1366 - acc: 0.95 - ETA: 13s - loss: 0.1360 - acc: 0.95 - ETA: 12s - loss: 0.1378 - acc: 0.95 - ETA: 12s - loss: 0.1392 - acc: 0.95 - ETA: 11s - loss: 0.1392 - acc: 0.95 - ETA: 10s - loss: 0.1387 - acc: 0.95 - ETA: 10s - loss: 0.1385 - acc: 0.95 - ETA: 9s - loss: 0.1380 - acc: 0.9508 - ETA: 9s - loss: 0.1388 - acc: 0.950 - ETA: 8s - loss: 0.1386 - acc: 0.950 - ETA: 8s - loss: 0.1374 - acc: 0.950 - ETA: 7s - loss: 0.1370 - acc: 0.950 - ETA: 6s - loss: 0.1372 - acc: 0.950 - ETA: 6s - loss: 0.1373 - acc: 0.950 - ETA: 5s - loss: 0.1372 - acc: 0.950 - ETA: 5s - loss: 0.1371 - acc: 0.950 - ETA: 4s - loss: 0.1364 - acc: 0.950 - ETA: 3s - loss: 0.1373 - acc: 0.950 - ETA: 3s - loss: 0.1383 - acc: 0.950 - ETA: 2s - loss: 0.1388 - acc: 0.949 - ETA: 2s - loss: 0.1400 - acc: 0.949 - ETA: 1s - loss: 0.1395 - acc: 0.949 - ETA: 0s - loss: 0.1400 - acc: 0.949 - ETA: 0s - loss: 0.1396 - acc: 0.949 - 62s 9ms/step - loss: 0.1397 - acc: 0.9492\n",
      "Accuracy: 87.67%\n"
     ]
    }
   ],
   "source": [
    "model.fit(X_train, y_train, nb_epoch=10, batch_size=64)\n",
    "# Final evaluation of the model\n",
    "scores = model.evaluate(X_test, y_test, verbose=0)\n",
    "print(\"Accuracy: %.2f%%\" % (scores[1]*100))"
   ]
  },
  {
   "cell_type": "code",
   "execution_count": null,
   "metadata": {},
   "outputs": [],
   "source": []
  }
 ],
 "metadata": {
  "kernelspec": {
   "display_name": "Python 3",
   "language": "python",
   "name": "python3"
  },
  "language_info": {
   "codemirror_mode": {
    "name": "ipython",
    "version": 3
   },
   "file_extension": ".py",
   "mimetype": "text/x-python",
   "name": "python",
   "nbconvert_exporter": "python",
   "pygments_lexer": "ipython3",
   "version": "3.7.1"
  }
 },
 "nbformat": 4,
 "nbformat_minor": 2
}
