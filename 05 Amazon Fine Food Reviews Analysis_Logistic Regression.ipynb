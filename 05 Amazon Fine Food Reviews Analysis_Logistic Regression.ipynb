{
 "cells": [
  {
   "cell_type": "markdown",
   "metadata": {
    "colab_type": "text",
    "id": "AM7jsfwALPlp"
   },
   "source": [
    "# Amazon Fine Food Reviews Analysis\n",
    "\n",
    "\n",
    "Data Source: https://www.kaggle.com/snap/amazon-fine-food-reviews <br>\n",
    "\n",
    "EDA: https://nycdatascience.com/blog/student-works/amazon-fine-foods-visualization/\n",
    "\n",
    "\n",
    "The Amazon Fine Food Reviews dataset consists of reviews of fine foods from Amazon.<br>\n",
    "\n",
    "Number of reviews: 568,454<br>\n",
    "Number of users: 256,059<br>\n",
    "Number of products: 74,258<br>\n",
    "Timespan: Oct 1999 - Oct 2012<br>\n",
    "Number of Attributes/Columns in data: 10 \n",
    "\n",
    "Attribute Information:\n",
    "\n",
    "1. Id\n",
    "2. ProductId - unique identifier for the product\n",
    "3. UserId - unqiue identifier for the user\n",
    "4. ProfileName\n",
    "5. HelpfulnessNumerator - number of users who found the review helpful\n",
    "6. HelpfulnessDenominator - number of users who indicated whether they found the review helpful or not\n",
    "7. Score - rating between 1 and 5\n",
    "8. Time - timestamp for the review\n",
    "9. Summary - brief summary of the review\n",
    "10. Text - text of the review\n",
    "\n",
    "\n",
    "#### Objective:\n",
    "Given a review, determine whether the review is positive (rating of 4 or 5) or negative (rating of 1 or 2).\n",
    "\n",
    "<br>\n",
    "[Q] How to determine if a review is positive or negative?<br>\n",
    "<br> \n",
    "[Ans] We could use Score/Rating. A rating of 4 or 5 can be cosnidered as a positive review. A rating of 1 or 2 can be considered as negative one. A review of rating 3 is considered nuetral and such reviews are ignored from our analysis. This is an approximate and proxy way of determining the polarity (positivity/negativity) of a review.\n",
    "\n",
    "\n"
   ]
  },
  {
   "cell_type": "markdown",
   "metadata": {
    "colab_type": "text",
    "id": "CaQ7XJ4OLPls"
   },
   "source": [
    "# [1]. Reading Data"
   ]
  },
  {
   "cell_type": "markdown",
   "metadata": {
    "colab_type": "text",
    "id": "5VnEBjKRLPlu"
   },
   "source": [
    "## [1.1] Loading the data\n",
    "\n",
    "The dataset is available in two forms\n",
    "1. .csv file\n",
    "2. SQLite Database\n",
    "\n",
    "In order to load the data, We have used the SQLITE dataset as it is easier to query the data and visualise the data efficiently.\n",
    "<br> \n",
    "\n",
    "Here as we only want to get the global sentiment of the recommendations (positive or negative), we will purposefully ignore all Scores equal to 3. If the score is above 3, then the recommendation wil be set to \"positive\". Otherwise, it will be set to \"negative\"."
   ]
  },
  {
   "cell_type": "code",
   "execution_count": 1,
   "metadata": {
    "colab": {},
    "colab_type": "code",
    "id": "x6YclOzXLPlv"
   },
   "outputs": [
    {
     "name": "stderr",
     "output_type": "stream",
     "text": [
      "C:\\Users\\aksha\\Anaconda3\\lib\\site-packages\\gensim\\utils.py:1209: UserWarning: detected Windows; aliasing chunkize to chunkize_serial\n",
      "  warnings.warn(\"detected Windows; aliasing chunkize to chunkize_serial\")\n"
     ]
    }
   ],
   "source": [
    "%matplotlib inline\n",
    "import warnings\n",
    "warnings.filterwarnings(\"ignore\")\n",
    "\n",
    "\n",
    "import sqlite3\n",
    "import pandas as pd\n",
    "import numpy as np\n",
    "import nltk\n",
    "import string\n",
    "import matplotlib.pyplot as plt\n",
    "import seaborn as sns\n",
    "from sklearn.feature_extraction.text import TfidfTransformer\n",
    "from sklearn.feature_extraction.text import TfidfVectorizer\n",
    "\n",
    "from sklearn.feature_extraction.text import CountVectorizer\n",
    "from sklearn.metrics import confusion_matrix\n",
    "from sklearn import metrics\n",
    "from sklearn.metrics import roc_curve, auc\n",
    "from nltk.stem.porter import PorterStemmer\n",
    "\n",
    "import re\n",
    "# Tutorial about Python regular expressions: https://pymotw.com/2/re/\n",
    "import string\n",
    "from nltk.corpus import stopwords\n",
    "from nltk.stem import PorterStemmer\n",
    "from nltk.stem.wordnet import WordNetLemmatizer\n",
    "\n",
    "from gensim.models import Word2Vec\n",
    "from gensim.models import KeyedVectors\n",
    "import pickle\n",
    "\n",
    "from tqdm import tqdm\n",
    "import os"
   ]
  },
  {
   "cell_type": "code",
   "execution_count": 2,
   "metadata": {
    "colab": {},
    "colab_type": "code",
    "id": "NZ4OSpSiLPl0",
    "outputId": "241c4c64-6186-4351-e38f-fcd06c6896dd"
   },
   "outputs": [
    {
     "name": "stdout",
     "output_type": "stream",
     "text": [
      "Number of data points in our data (100000, 10)\n"
     ]
    },
    {
     "data": {
      "text/html": [
       "<div>\n",
       "<style scoped>\n",
       "    .dataframe tbody tr th:only-of-type {\n",
       "        vertical-align: middle;\n",
       "    }\n",
       "\n",
       "    .dataframe tbody tr th {\n",
       "        vertical-align: top;\n",
       "    }\n",
       "\n",
       "    .dataframe thead th {\n",
       "        text-align: right;\n",
       "    }\n",
       "</style>\n",
       "<table border=\"1\" class=\"dataframe\">\n",
       "  <thead>\n",
       "    <tr style=\"text-align: right;\">\n",
       "      <th></th>\n",
       "      <th>Id</th>\n",
       "      <th>ProductId</th>\n",
       "      <th>UserId</th>\n",
       "      <th>ProfileName</th>\n",
       "      <th>HelpfulnessNumerator</th>\n",
       "      <th>HelpfulnessDenominator</th>\n",
       "      <th>Score</th>\n",
       "      <th>Time</th>\n",
       "      <th>Summary</th>\n",
       "      <th>Text</th>\n",
       "    </tr>\n",
       "  </thead>\n",
       "  <tbody>\n",
       "    <tr>\n",
       "      <th>0</th>\n",
       "      <td>1</td>\n",
       "      <td>B001E4KFG0</td>\n",
       "      <td>A3SGXH7AUHU8GW</td>\n",
       "      <td>delmartian</td>\n",
       "      <td>1</td>\n",
       "      <td>1</td>\n",
       "      <td>1</td>\n",
       "      <td>1303862400</td>\n",
       "      <td>Good Quality Dog Food</td>\n",
       "      <td>I have bought several of the Vitality canned d...</td>\n",
       "    </tr>\n",
       "    <tr>\n",
       "      <th>1</th>\n",
       "      <td>2</td>\n",
       "      <td>B00813GRG4</td>\n",
       "      <td>A1D87F6ZCVE5NK</td>\n",
       "      <td>dll pa</td>\n",
       "      <td>0</td>\n",
       "      <td>0</td>\n",
       "      <td>0</td>\n",
       "      <td>1346976000</td>\n",
       "      <td>Not as Advertised</td>\n",
       "      <td>Product arrived labeled as Jumbo Salted Peanut...</td>\n",
       "    </tr>\n",
       "    <tr>\n",
       "      <th>2</th>\n",
       "      <td>3</td>\n",
       "      <td>B000LQOCH0</td>\n",
       "      <td>ABXLMWJIXXAIN</td>\n",
       "      <td>Natalia Corres \"Natalia Corres\"</td>\n",
       "      <td>1</td>\n",
       "      <td>1</td>\n",
       "      <td>1</td>\n",
       "      <td>1219017600</td>\n",
       "      <td>\"Delight\" says it all</td>\n",
       "      <td>This is a confection that has been around a fe...</td>\n",
       "    </tr>\n",
       "  </tbody>\n",
       "</table>\n",
       "</div>"
      ],
      "text/plain": [
       "   Id   ProductId          UserId                      ProfileName  \\\n",
       "0   1  B001E4KFG0  A3SGXH7AUHU8GW                       delmartian   \n",
       "1   2  B00813GRG4  A1D87F6ZCVE5NK                           dll pa   \n",
       "2   3  B000LQOCH0   ABXLMWJIXXAIN  Natalia Corres \"Natalia Corres\"   \n",
       "\n",
       "   HelpfulnessNumerator  HelpfulnessDenominator  Score        Time  \\\n",
       "0                     1                       1      1  1303862400   \n",
       "1                     0                       0      0  1346976000   \n",
       "2                     1                       1      1  1219017600   \n",
       "\n",
       "                 Summary                                               Text  \n",
       "0  Good Quality Dog Food  I have bought several of the Vitality canned d...  \n",
       "1      Not as Advertised  Product arrived labeled as Jumbo Salted Peanut...  \n",
       "2  \"Delight\" says it all  This is a confection that has been around a fe...  "
      ]
     },
     "execution_count": 2,
     "metadata": {},
     "output_type": "execute_result"
    }
   ],
   "source": [
    "# using SQLite Table to read data.\n",
    "con = sqlite3.connect('database.sqlite') \n",
    "\n",
    "# filtering only positive and negative reviews i.e. \n",
    "# not taking into consideration those reviews with Score=3\n",
    "# SELECT * FROM Reviews WHERE Score != 3 LIMIT 500000, will give top 500000 data points\n",
    "# you can change the number to any other number based on your computing power\n",
    "\n",
    "# filtered_data = pd.read_sql_query(\"\"\" SELECT * FROM Reviews WHERE Score != 3 LIMIT 500000\"\"\", con) \n",
    "# for tsne assignment you can take 5k data points\n",
    "\n",
    "filtered_data = pd.read_sql_query(\"\"\" SELECT * FROM Reviews WHERE Score != 3 LIMIT 100000\"\"\", con) \n",
    "\n",
    "# Give reviews with Score>3 a positive rating(1), and reviews with a score<3 a negative rating(0).\n",
    "def partition(x):\n",
    "    if x < 3:\n",
    "        return 0\n",
    "    return 1\n",
    "\n",
    "#changing reviews with score less than 3 to be positive and vice-versa\n",
    "actualScore = filtered_data['Score']\n",
    "positiveNegative = actualScore.map(partition) \n",
    "filtered_data['Score'] = positiveNegative\n",
    "print(\"Number of data points in our data\", filtered_data.shape)\n",
    "filtered_data.head(3)"
   ]
  },
  {
   "cell_type": "code",
   "execution_count": 3,
   "metadata": {
    "colab": {},
    "colab_type": "code",
    "id": "r44Y4VDjLPl7"
   },
   "outputs": [],
   "source": [
    "display = pd.read_sql_query(\"\"\"\n",
    "SELECT UserId, ProductId, ProfileName, Time, Score, Text, COUNT(*)\n",
    "FROM Reviews\n",
    "GROUP BY UserId\n",
    "HAVING COUNT(*)>1\n",
    "\"\"\", con)"
   ]
  },
  {
   "cell_type": "code",
   "execution_count": 4,
   "metadata": {
    "colab": {},
    "colab_type": "code",
    "id": "tTwINQv1LPl_",
    "outputId": "0385b9ca-0a35-4c2b-b656-8e8494414e6f",
    "scrolled": true
   },
   "outputs": [
    {
     "name": "stdout",
     "output_type": "stream",
     "text": [
      "(80668, 7)\n"
     ]
    },
    {
     "data": {
      "text/html": [
       "<div>\n",
       "<style scoped>\n",
       "    .dataframe tbody tr th:only-of-type {\n",
       "        vertical-align: middle;\n",
       "    }\n",
       "\n",
       "    .dataframe tbody tr th {\n",
       "        vertical-align: top;\n",
       "    }\n",
       "\n",
       "    .dataframe thead th {\n",
       "        text-align: right;\n",
       "    }\n",
       "</style>\n",
       "<table border=\"1\" class=\"dataframe\">\n",
       "  <thead>\n",
       "    <tr style=\"text-align: right;\">\n",
       "      <th></th>\n",
       "      <th>UserId</th>\n",
       "      <th>ProductId</th>\n",
       "      <th>ProfileName</th>\n",
       "      <th>Time</th>\n",
       "      <th>Score</th>\n",
       "      <th>Text</th>\n",
       "      <th>COUNT(*)</th>\n",
       "    </tr>\n",
       "  </thead>\n",
       "  <tbody>\n",
       "    <tr>\n",
       "      <th>0</th>\n",
       "      <td>#oc-R115TNMSPFT9I7</td>\n",
       "      <td>B005ZBZLT4</td>\n",
       "      <td>Breyton</td>\n",
       "      <td>1331510400</td>\n",
       "      <td>2</td>\n",
       "      <td>Overall its just OK when considering the price...</td>\n",
       "      <td>2</td>\n",
       "    </tr>\n",
       "    <tr>\n",
       "      <th>1</th>\n",
       "      <td>#oc-R11D9D7SHXIJB9</td>\n",
       "      <td>B005HG9ESG</td>\n",
       "      <td>Louis E. Emory \"hoppy\"</td>\n",
       "      <td>1342396800</td>\n",
       "      <td>5</td>\n",
       "      <td>My wife has recurring extreme muscle spasms, u...</td>\n",
       "      <td>3</td>\n",
       "    </tr>\n",
       "    <tr>\n",
       "      <th>2</th>\n",
       "      <td>#oc-R11DNU2NBKQ23Z</td>\n",
       "      <td>B005ZBZLT4</td>\n",
       "      <td>Kim Cieszykowski</td>\n",
       "      <td>1348531200</td>\n",
       "      <td>1</td>\n",
       "      <td>This coffee is horrible and unfortunately not ...</td>\n",
       "      <td>2</td>\n",
       "    </tr>\n",
       "    <tr>\n",
       "      <th>3</th>\n",
       "      <td>#oc-R11O5J5ZVQE25C</td>\n",
       "      <td>B005HG9ESG</td>\n",
       "      <td>Penguin Chick</td>\n",
       "      <td>1346889600</td>\n",
       "      <td>5</td>\n",
       "      <td>This will be the bottle that you grab from the...</td>\n",
       "      <td>3</td>\n",
       "    </tr>\n",
       "    <tr>\n",
       "      <th>4</th>\n",
       "      <td>#oc-R12KPBODL2B5ZD</td>\n",
       "      <td>B007OSBEV0</td>\n",
       "      <td>Christopher P. Presta</td>\n",
       "      <td>1348617600</td>\n",
       "      <td>1</td>\n",
       "      <td>I didnt like this coffee. Instead of telling y...</td>\n",
       "      <td>2</td>\n",
       "    </tr>\n",
       "  </tbody>\n",
       "</table>\n",
       "</div>"
      ],
      "text/plain": [
       "               UserId   ProductId             ProfileName        Time  Score  \\\n",
       "0  #oc-R115TNMSPFT9I7  B005ZBZLT4                 Breyton  1331510400      2   \n",
       "1  #oc-R11D9D7SHXIJB9  B005HG9ESG  Louis E. Emory \"hoppy\"  1342396800      5   \n",
       "2  #oc-R11DNU2NBKQ23Z  B005ZBZLT4        Kim Cieszykowski  1348531200      1   \n",
       "3  #oc-R11O5J5ZVQE25C  B005HG9ESG           Penguin Chick  1346889600      5   \n",
       "4  #oc-R12KPBODL2B5ZD  B007OSBEV0   Christopher P. Presta  1348617600      1   \n",
       "\n",
       "                                                Text  COUNT(*)  \n",
       "0  Overall its just OK when considering the price...         2  \n",
       "1  My wife has recurring extreme muscle spasms, u...         3  \n",
       "2  This coffee is horrible and unfortunately not ...         2  \n",
       "3  This will be the bottle that you grab from the...         3  \n",
       "4  I didnt like this coffee. Instead of telling y...         2  "
      ]
     },
     "execution_count": 4,
     "metadata": {},
     "output_type": "execute_result"
    }
   ],
   "source": [
    "print(display.shape)\n",
    "display.head()"
   ]
  },
  {
   "cell_type": "code",
   "execution_count": 5,
   "metadata": {
    "colab": {},
    "colab_type": "code",
    "id": "EOslHQgnLPmF",
    "outputId": "cb28598d-470a-42bb-e742-4763f953c8cb"
   },
   "outputs": [
    {
     "data": {
      "text/html": [
       "<div>\n",
       "<style scoped>\n",
       "    .dataframe tbody tr th:only-of-type {\n",
       "        vertical-align: middle;\n",
       "    }\n",
       "\n",
       "    .dataframe tbody tr th {\n",
       "        vertical-align: top;\n",
       "    }\n",
       "\n",
       "    .dataframe thead th {\n",
       "        text-align: right;\n",
       "    }\n",
       "</style>\n",
       "<table border=\"1\" class=\"dataframe\">\n",
       "  <thead>\n",
       "    <tr style=\"text-align: right;\">\n",
       "      <th></th>\n",
       "      <th>UserId</th>\n",
       "      <th>ProductId</th>\n",
       "      <th>ProfileName</th>\n",
       "      <th>Time</th>\n",
       "      <th>Score</th>\n",
       "      <th>Text</th>\n",
       "      <th>COUNT(*)</th>\n",
       "    </tr>\n",
       "  </thead>\n",
       "  <tbody>\n",
       "    <tr>\n",
       "      <th>80638</th>\n",
       "      <td>AZY10LLTJ71NX</td>\n",
       "      <td>B001ATMQK2</td>\n",
       "      <td>undertheshrine \"undertheshrine\"</td>\n",
       "      <td>1296691200</td>\n",
       "      <td>5</td>\n",
       "      <td>I bought this 6 pack because for the price tha...</td>\n",
       "      <td>5</td>\n",
       "    </tr>\n",
       "  </tbody>\n",
       "</table>\n",
       "</div>"
      ],
      "text/plain": [
       "              UserId   ProductId                      ProfileName        Time  \\\n",
       "80638  AZY10LLTJ71NX  B001ATMQK2  undertheshrine \"undertheshrine\"  1296691200   \n",
       "\n",
       "       Score                                               Text  COUNT(*)  \n",
       "80638      5  I bought this 6 pack because for the price tha...         5  "
      ]
     },
     "execution_count": 5,
     "metadata": {},
     "output_type": "execute_result"
    }
   ],
   "source": [
    "display[display['UserId']=='AZY10LLTJ71NX']"
   ]
  },
  {
   "cell_type": "code",
   "execution_count": 6,
   "metadata": {
    "colab": {},
    "colab_type": "code",
    "id": "pSwF4sdoLPmM",
    "outputId": "2f3bd7f2-0eea-45f7-eab6-bf08c630d9a3"
   },
   "outputs": [
    {
     "data": {
      "text/plain": [
       "393063"
      ]
     },
     "execution_count": 6,
     "metadata": {},
     "output_type": "execute_result"
    }
   ],
   "source": [
    "display['COUNT(*)'].sum()"
   ]
  },
  {
   "cell_type": "markdown",
   "metadata": {
    "colab_type": "text",
    "id": "PuNkhjz0LPmQ"
   },
   "source": [
    "#  [2] Exploratory Data Analysis"
   ]
  },
  {
   "cell_type": "markdown",
   "metadata": {
    "colab_type": "text",
    "id": "oCJaTWrTLPmS"
   },
   "source": [
    "## [2.1] Data Cleaning: Deduplication\n",
    "\n",
    "It is observed (as shown in the table below) that the reviews data had many duplicate entries. Hence it was necessary to remove duplicates in order to get unbiased results for the analysis of the data.  Following is an example:"
   ]
  },
  {
   "cell_type": "code",
   "execution_count": 7,
   "metadata": {
    "colab": {},
    "colab_type": "code",
    "id": "3lvzRwWVLPmT",
    "outputId": "96ba6f90-6c40-4972-ecd2-d2d208e48877",
    "scrolled": false
   },
   "outputs": [
    {
     "data": {
      "text/html": [
       "<div>\n",
       "<style scoped>\n",
       "    .dataframe tbody tr th:only-of-type {\n",
       "        vertical-align: middle;\n",
       "    }\n",
       "\n",
       "    .dataframe tbody tr th {\n",
       "        vertical-align: top;\n",
       "    }\n",
       "\n",
       "    .dataframe thead th {\n",
       "        text-align: right;\n",
       "    }\n",
       "</style>\n",
       "<table border=\"1\" class=\"dataframe\">\n",
       "  <thead>\n",
       "    <tr style=\"text-align: right;\">\n",
       "      <th></th>\n",
       "      <th>Id</th>\n",
       "      <th>ProductId</th>\n",
       "      <th>UserId</th>\n",
       "      <th>ProfileName</th>\n",
       "      <th>HelpfulnessNumerator</th>\n",
       "      <th>HelpfulnessDenominator</th>\n",
       "      <th>Score</th>\n",
       "      <th>Time</th>\n",
       "      <th>Summary</th>\n",
       "      <th>Text</th>\n",
       "    </tr>\n",
       "  </thead>\n",
       "  <tbody>\n",
       "    <tr>\n",
       "      <th>0</th>\n",
       "      <td>78445</td>\n",
       "      <td>B000HDL1RQ</td>\n",
       "      <td>AR5J8UI46CURR</td>\n",
       "      <td>Geetha Krishnan</td>\n",
       "      <td>2</td>\n",
       "      <td>2</td>\n",
       "      <td>5</td>\n",
       "      <td>1199577600</td>\n",
       "      <td>LOACKER QUADRATINI VANILLA WAFERS</td>\n",
       "      <td>DELICIOUS WAFERS. I FIND THAT EUROPEAN WAFERS ...</td>\n",
       "    </tr>\n",
       "    <tr>\n",
       "      <th>1</th>\n",
       "      <td>138317</td>\n",
       "      <td>B000HDOPYC</td>\n",
       "      <td>AR5J8UI46CURR</td>\n",
       "      <td>Geetha Krishnan</td>\n",
       "      <td>2</td>\n",
       "      <td>2</td>\n",
       "      <td>5</td>\n",
       "      <td>1199577600</td>\n",
       "      <td>LOACKER QUADRATINI VANILLA WAFERS</td>\n",
       "      <td>DELICIOUS WAFERS. I FIND THAT EUROPEAN WAFERS ...</td>\n",
       "    </tr>\n",
       "    <tr>\n",
       "      <th>2</th>\n",
       "      <td>138277</td>\n",
       "      <td>B000HDOPYM</td>\n",
       "      <td>AR5J8UI46CURR</td>\n",
       "      <td>Geetha Krishnan</td>\n",
       "      <td>2</td>\n",
       "      <td>2</td>\n",
       "      <td>5</td>\n",
       "      <td>1199577600</td>\n",
       "      <td>LOACKER QUADRATINI VANILLA WAFERS</td>\n",
       "      <td>DELICIOUS WAFERS. I FIND THAT EUROPEAN WAFERS ...</td>\n",
       "    </tr>\n",
       "    <tr>\n",
       "      <th>3</th>\n",
       "      <td>73791</td>\n",
       "      <td>B000HDOPZG</td>\n",
       "      <td>AR5J8UI46CURR</td>\n",
       "      <td>Geetha Krishnan</td>\n",
       "      <td>2</td>\n",
       "      <td>2</td>\n",
       "      <td>5</td>\n",
       "      <td>1199577600</td>\n",
       "      <td>LOACKER QUADRATINI VANILLA WAFERS</td>\n",
       "      <td>DELICIOUS WAFERS. I FIND THAT EUROPEAN WAFERS ...</td>\n",
       "    </tr>\n",
       "    <tr>\n",
       "      <th>4</th>\n",
       "      <td>155049</td>\n",
       "      <td>B000PAQ75C</td>\n",
       "      <td>AR5J8UI46CURR</td>\n",
       "      <td>Geetha Krishnan</td>\n",
       "      <td>2</td>\n",
       "      <td>2</td>\n",
       "      <td>5</td>\n",
       "      <td>1199577600</td>\n",
       "      <td>LOACKER QUADRATINI VANILLA WAFERS</td>\n",
       "      <td>DELICIOUS WAFERS. I FIND THAT EUROPEAN WAFERS ...</td>\n",
       "    </tr>\n",
       "  </tbody>\n",
       "</table>\n",
       "</div>"
      ],
      "text/plain": [
       "       Id   ProductId         UserId      ProfileName  HelpfulnessNumerator  \\\n",
       "0   78445  B000HDL1RQ  AR5J8UI46CURR  Geetha Krishnan                     2   \n",
       "1  138317  B000HDOPYC  AR5J8UI46CURR  Geetha Krishnan                     2   \n",
       "2  138277  B000HDOPYM  AR5J8UI46CURR  Geetha Krishnan                     2   \n",
       "3   73791  B000HDOPZG  AR5J8UI46CURR  Geetha Krishnan                     2   \n",
       "4  155049  B000PAQ75C  AR5J8UI46CURR  Geetha Krishnan                     2   \n",
       "\n",
       "   HelpfulnessDenominator  Score        Time  \\\n",
       "0                       2      5  1199577600   \n",
       "1                       2      5  1199577600   \n",
       "2                       2      5  1199577600   \n",
       "3                       2      5  1199577600   \n",
       "4                       2      5  1199577600   \n",
       "\n",
       "                             Summary  \\\n",
       "0  LOACKER QUADRATINI VANILLA WAFERS   \n",
       "1  LOACKER QUADRATINI VANILLA WAFERS   \n",
       "2  LOACKER QUADRATINI VANILLA WAFERS   \n",
       "3  LOACKER QUADRATINI VANILLA WAFERS   \n",
       "4  LOACKER QUADRATINI VANILLA WAFERS   \n",
       "\n",
       "                                                Text  \n",
       "0  DELICIOUS WAFERS. I FIND THAT EUROPEAN WAFERS ...  \n",
       "1  DELICIOUS WAFERS. I FIND THAT EUROPEAN WAFERS ...  \n",
       "2  DELICIOUS WAFERS. I FIND THAT EUROPEAN WAFERS ...  \n",
       "3  DELICIOUS WAFERS. I FIND THAT EUROPEAN WAFERS ...  \n",
       "4  DELICIOUS WAFERS. I FIND THAT EUROPEAN WAFERS ...  "
      ]
     },
     "execution_count": 7,
     "metadata": {},
     "output_type": "execute_result"
    }
   ],
   "source": [
    "display= pd.read_sql_query(\"\"\"\n",
    "SELECT *\n",
    "FROM Reviews\n",
    "WHERE Score != 3 AND UserId=\"AR5J8UI46CURR\"\n",
    "ORDER BY ProductID\n",
    "\"\"\", con)\n",
    "display.head()"
   ]
  },
  {
   "cell_type": "markdown",
   "metadata": {
    "colab_type": "text",
    "id": "uT7p9_deLPmb"
   },
   "source": [
    "As it can be seen above that same user has multiple reviews with same values for HelpfulnessNumerator, HelpfulnessDenominator, Score, Time, Summary and Text and on doing analysis it was found that <br>\n",
    "<br> \n",
    "ProductId=B000HDOPZG was Loacker Quadratini Vanilla Wafer Cookies, 8.82-Ounce Packages (Pack of 8)<br>\n",
    "<br> \n",
    "ProductId=B000HDL1RQ was Loacker Quadratini Lemon Wafer Cookies, 8.82-Ounce Packages (Pack of 8) and so on<br>\n",
    "\n",
    "It was inferred after analysis that reviews with same parameters other than ProductId belonged to the same product just having different flavour or quantity. Hence in order to reduce redundancy it was decided to eliminate the rows having same parameters.<br>\n",
    "\n",
    "The method used for the same was that we first sort the data according to ProductId and then just keep the first similar product review and delelte the others. for eg. in the above just the review for ProductId=B000HDL1RQ remains. This method ensures that there is only one representative for each product and deduplication without sorting would lead to possibility of different representatives still existing for the same product."
   ]
  },
  {
   "cell_type": "code",
   "execution_count": 8,
   "metadata": {
    "colab": {},
    "colab_type": "code",
    "id": "mdsKFc50LPme"
   },
   "outputs": [],
   "source": [
    "#Sorting data according to ProductId in ascending order\n",
    "sorted_data=filtered_data.sort_values('ProductId', axis=0, ascending=True, inplace=False, kind='quicksort', na_position='last')"
   ]
  },
  {
   "cell_type": "code",
   "execution_count": 9,
   "metadata": {
    "colab": {},
    "colab_type": "code",
    "id": "2itLgX-NLPmk",
    "outputId": "ac765625-dfdc-4e4e-f886-bd3b7ca3635a"
   },
   "outputs": [
    {
     "data": {
      "text/plain": [
       "(87775, 10)"
      ]
     },
     "execution_count": 9,
     "metadata": {},
     "output_type": "execute_result"
    }
   ],
   "source": [
    "#Deduplication of entries\n",
    "final=sorted_data.drop_duplicates(subset={\"UserId\",\"ProfileName\",\"Time\",\"Text\"}, keep='first', inplace=False)\n",
    "final.shape"
   ]
  },
  {
   "cell_type": "code",
   "execution_count": 10,
   "metadata": {
    "colab": {},
    "colab_type": "code",
    "id": "IBU4iZk4LPmt",
    "outputId": "ceeba223-fe3f-407a-b4e5-0d46c08f69dd"
   },
   "outputs": [
    {
     "data": {
      "text/plain": [
       "87.775"
      ]
     },
     "execution_count": 10,
     "metadata": {},
     "output_type": "execute_result"
    }
   ],
   "source": [
    "#Checking to see how much % of data still remains\n",
    "(final['Id'].size*1.0)/(filtered_data['Id'].size*1.0)*100"
   ]
  },
  {
   "cell_type": "markdown",
   "metadata": {
    "colab_type": "text",
    "id": "gFBOfSe4LPmy"
   },
   "source": [
    "<b>Observation:-</b> It was also seen that in two rows given below the value of HelpfulnessNumerator is greater than HelpfulnessDenominator which is not practically possible hence these two rows too are removed from calcualtions"
   ]
  },
  {
   "cell_type": "code",
   "execution_count": 11,
   "metadata": {
    "colab": {},
    "colab_type": "code",
    "id": "50flE40lLPmz",
    "outputId": "b6c7e38e-25c1-4a48-be1f-70fdf31aba13"
   },
   "outputs": [
    {
     "data": {
      "text/html": [
       "<div>\n",
       "<style scoped>\n",
       "    .dataframe tbody tr th:only-of-type {\n",
       "        vertical-align: middle;\n",
       "    }\n",
       "\n",
       "    .dataframe tbody tr th {\n",
       "        vertical-align: top;\n",
       "    }\n",
       "\n",
       "    .dataframe thead th {\n",
       "        text-align: right;\n",
       "    }\n",
       "</style>\n",
       "<table border=\"1\" class=\"dataframe\">\n",
       "  <thead>\n",
       "    <tr style=\"text-align: right;\">\n",
       "      <th></th>\n",
       "      <th>Id</th>\n",
       "      <th>ProductId</th>\n",
       "      <th>UserId</th>\n",
       "      <th>ProfileName</th>\n",
       "      <th>HelpfulnessNumerator</th>\n",
       "      <th>HelpfulnessDenominator</th>\n",
       "      <th>Score</th>\n",
       "      <th>Time</th>\n",
       "      <th>Summary</th>\n",
       "      <th>Text</th>\n",
       "    </tr>\n",
       "  </thead>\n",
       "  <tbody>\n",
       "    <tr>\n",
       "      <th>0</th>\n",
       "      <td>64422</td>\n",
       "      <td>B000MIDROQ</td>\n",
       "      <td>A161DK06JJMCYF</td>\n",
       "      <td>J. E. Stephens \"Jeanne\"</td>\n",
       "      <td>3</td>\n",
       "      <td>1</td>\n",
       "      <td>5</td>\n",
       "      <td>1224892800</td>\n",
       "      <td>Bought This for My Son at College</td>\n",
       "      <td>My son loves spaghetti so I didn't hesitate or...</td>\n",
       "    </tr>\n",
       "    <tr>\n",
       "      <th>1</th>\n",
       "      <td>44737</td>\n",
       "      <td>B001EQ55RW</td>\n",
       "      <td>A2V0I904FH7ABY</td>\n",
       "      <td>Ram</td>\n",
       "      <td>3</td>\n",
       "      <td>2</td>\n",
       "      <td>4</td>\n",
       "      <td>1212883200</td>\n",
       "      <td>Pure cocoa taste with crunchy almonds inside</td>\n",
       "      <td>It was almost a 'love at first bite' - the per...</td>\n",
       "    </tr>\n",
       "  </tbody>\n",
       "</table>\n",
       "</div>"
      ],
      "text/plain": [
       "      Id   ProductId          UserId              ProfileName  \\\n",
       "0  64422  B000MIDROQ  A161DK06JJMCYF  J. E. Stephens \"Jeanne\"   \n",
       "1  44737  B001EQ55RW  A2V0I904FH7ABY                      Ram   \n",
       "\n",
       "   HelpfulnessNumerator  HelpfulnessDenominator  Score        Time  \\\n",
       "0                     3                       1      5  1224892800   \n",
       "1                     3                       2      4  1212883200   \n",
       "\n",
       "                                        Summary  \\\n",
       "0             Bought This for My Son at College   \n",
       "1  Pure cocoa taste with crunchy almonds inside   \n",
       "\n",
       "                                                Text  \n",
       "0  My son loves spaghetti so I didn't hesitate or...  \n",
       "1  It was almost a 'love at first bite' - the per...  "
      ]
     },
     "execution_count": 11,
     "metadata": {},
     "output_type": "execute_result"
    }
   ],
   "source": [
    "display= pd.read_sql_query(\"\"\"\n",
    "SELECT *\n",
    "FROM Reviews\n",
    "WHERE Score != 3 AND Id=44737 OR Id=64422\n",
    "ORDER BY ProductID\n",
    "\"\"\", con)\n",
    "\n",
    "display.head()"
   ]
  },
  {
   "cell_type": "code",
   "execution_count": 12,
   "metadata": {
    "colab": {},
    "colab_type": "code",
    "id": "0YTPJMLTLPm7"
   },
   "outputs": [],
   "source": [
    "final=final[final.HelpfulnessNumerator<=final.HelpfulnessDenominator]"
   ]
  },
  {
   "cell_type": "code",
   "execution_count": 13,
   "metadata": {
    "colab": {},
    "colab_type": "code",
    "id": "LVJ_l-x2LPnC",
    "outputId": "d4a19c7a-16fe-4b5b-c3d1-aa1ef0f948a0"
   },
   "outputs": [
    {
     "name": "stdout",
     "output_type": "stream",
     "text": [
      "(87773, 10)\n"
     ]
    },
    {
     "data": {
      "text/plain": [
       "1    73592\n",
       "0    14181\n",
       "Name: Score, dtype: int64"
      ]
     },
     "execution_count": 13,
     "metadata": {},
     "output_type": "execute_result"
    }
   ],
   "source": [
    "#Before starting the next phase of preprocessing lets see the number of entries left\n",
    "print(final.shape)\n",
    "\n",
    "#How many positive and negative reviews are present in our dataset?\n",
    "final['Score'].value_counts()"
   ]
  },
  {
   "cell_type": "markdown",
   "metadata": {
    "colab_type": "text",
    "id": "GrTYWzYrLPnH"
   },
   "source": [
    "#  [3] Preprocessing"
   ]
  },
  {
   "cell_type": "markdown",
   "metadata": {
    "colab_type": "text",
    "id": "zbvLitZeLPnI"
   },
   "source": [
    "## [3.1].  Preprocessing Review Text\n",
    "\n",
    "Now that we have finished deduplication our data requires some preprocessing before we go on further with analysis and making the prediction model.\n",
    "\n",
    "Hence in the Preprocessing phase we do the following in the order below:-\n",
    "\n",
    "1. Begin by removing the html tags\n",
    "2. Remove any punctuations or limited set of special characters like , or . or # etc.\n",
    "3. Check if the word is made up of english letters and is not alpha-numeric\n",
    "4. Check to see if the length of the word is greater than 2 (as it was researched that there is no adjective in 2-letters)\n",
    "5. Convert the word to lowercase\n",
    "6. Remove Stopwords\n",
    "7. Finally Snowball Stemming the word (it was obsereved to be better than Porter Stemming)<br>\n",
    "\n",
    "After which we collect the words used to describe positive and negative reviews"
   ]
  },
  {
   "cell_type": "code",
   "execution_count": 14,
   "metadata": {
    "colab": {},
    "colab_type": "code",
    "id": "yYDc0ZXALPnK",
    "outputId": "5403fab9-796a-493d-f9d3-2a410d004f64"
   },
   "outputs": [
    {
     "name": "stdout",
     "output_type": "stream",
     "text": [
      "My dogs loves this chicken but its a product from China, so we wont be buying it anymore.  Its very hard to find any chicken products made in the USA but they are out there, but this one isnt.  Its too bad too because its a good product but I wont take any chances till they know what is going on with the china imports.\n",
      "==================================================\n",
      "The Candy Blocks were a nice visual for the Lego Birthday party but the candy has little taste to it.  Very little of the 2 lbs that I bought were eaten and I threw the rest away.  I would not buy the candy again.\n",
      "==================================================\n",
      "was way to hot for my blood, took a bite and did a jig  lol\n",
      "==================================================\n",
      "My dog LOVES these treats. They tend to have a very strong fish oil smell. So if you are afraid of the fishy smell, don't get it. But I think my dog likes it because of the smell. These treats are really small in size. They are great for training. You can give your dog several of these without worrying about him over eating. Amazon's price was much more reasonable than any other retailer. You can buy a 1 pound bag on Amazon for almost the same price as a 6 ounce bag at other retailers. It's definitely worth it to buy a big bag if your dog eats them a lot.\n",
      "==================================================\n"
     ]
    }
   ],
   "source": [
    "# printing some random reviews\n",
    "sent_0 = final['Text'].values[0]\n",
    "print(sent_0)\n",
    "print(\"=\"*50)\n",
    "\n",
    "sent_1000 = final['Text'].values[1000]\n",
    "print(sent_1000)\n",
    "print(\"=\"*50)\n",
    "\n",
    "sent_1500 = final['Text'].values[1500]\n",
    "print(sent_1500)\n",
    "print(\"=\"*50)\n",
    "\n",
    "sent_4900 = final['Text'].values[4900]\n",
    "print(sent_4900)\n",
    "print(\"=\"*50)"
   ]
  },
  {
   "cell_type": "code",
   "execution_count": 15,
   "metadata": {
    "colab": {},
    "colab_type": "code",
    "id": "AxYh-wPiLPnS",
    "outputId": "31bddcb2-6c52-4b16-f9fb-c03d5b3bb7c8"
   },
   "outputs": [
    {
     "name": "stdout",
     "output_type": "stream",
     "text": [
      "My dogs loves this chicken but its a product from China, so we wont be buying it anymore.  Its very hard to find any chicken products made in the USA but they are out there, but this one isnt.  Its too bad too because its a good product but I wont take any chances till they know what is going on with the china imports.\n"
     ]
    }
   ],
   "source": [
    "# remove urls from text python: https://stackoverflow.com/a/40823105/4084039\n",
    "sent_0 = re.sub(r\"http\\S+\", \"\", sent_0)\n",
    "sent_1000 = re.sub(r\"http\\S+\", \"\", sent_1000)\n",
    "sent_150 = re.sub(r\"http\\S+\", \"\", sent_1500)\n",
    "sent_4900 = re.sub(r\"http\\S+\", \"\", sent_4900)\n",
    "\n",
    "print(sent_0)"
   ]
  },
  {
   "cell_type": "code",
   "execution_count": 16,
   "metadata": {
    "colab": {},
    "colab_type": "code",
    "id": "JMSSWjZqLPne",
    "outputId": "eb1bae4e-6f37-45ee-84a3-ef3bebf4e30a"
   },
   "outputs": [
    {
     "name": "stdout",
     "output_type": "stream",
     "text": [
      "My dogs loves this chicken but its a product from China, so we wont be buying it anymore.  Its very hard to find any chicken products made in the USA but they are out there, but this one isnt.  Its too bad too because its a good product but I wont take any chances till they know what is going on with the china imports.\n",
      "==================================================\n",
      "The Candy Blocks were a nice visual for the Lego Birthday party but the candy has little taste to it.  Very little of the 2 lbs that I bought were eaten and I threw the rest away.  I would not buy the candy again.\n",
      "==================================================\n",
      "was way to hot for my blood, took a bite and did a jig  lol\n",
      "==================================================\n",
      "My dog LOVES these treats. They tend to have a very strong fish oil smell. So if you are afraid of the fishy smell, don't get it. But I think my dog likes it because of the smell. These treats are really small in size. They are great for training. You can give your dog several of these without worrying about him over eating. Amazon's price was much more reasonable than any other retailer. You can buy a 1 pound bag on Amazon for almost the same price as a 6 ounce bag at other retailers. It's definitely worth it to buy a big bag if your dog eats them a lot.\n"
     ]
    }
   ],
   "source": [
    "# https://stackoverflow.com/questions/16206380/python-beautifulsoup-how-to-remove-all-tags-from-an-element\n",
    "from bs4 import BeautifulSoup\n",
    "\n",
    "soup = BeautifulSoup(sent_0, 'lxml')\n",
    "text = soup.get_text()\n",
    "print(text)\n",
    "print(\"=\"*50)\n",
    "\n",
    "soup = BeautifulSoup(sent_1000, 'lxml')\n",
    "text = soup.get_text()\n",
    "print(text)\n",
    "print(\"=\"*50)\n",
    "\n",
    "soup = BeautifulSoup(sent_1500, 'lxml')\n",
    "text = soup.get_text()\n",
    "print(text)\n",
    "print(\"=\"*50)\n",
    "\n",
    "soup = BeautifulSoup(sent_4900, 'lxml')\n",
    "text = soup.get_text()\n",
    "print(text)"
   ]
  },
  {
   "cell_type": "code",
   "execution_count": 17,
   "metadata": {
    "colab": {},
    "colab_type": "code",
    "id": "BEtpMkhULPnt"
   },
   "outputs": [],
   "source": [
    "# https://stackoverflow.com/a/47091490/4084039\n",
    "import re\n",
    "\n",
    "def decontracted(phrase):\n",
    "    # specific\n",
    "    phrase = re.sub(r\"won't\", \"will not\", phrase)\n",
    "    phrase = re.sub(r\"can\\'t\", \"can not\", phrase)\n",
    "\n",
    "    # general\n",
    "    phrase = re.sub(r\"n\\'t\", \" not\", phrase)\n",
    "    phrase = re.sub(r\"\\'re\", \" are\", phrase)\n",
    "    phrase = re.sub(r\"\\'s\", \" is\", phrase)\n",
    "    phrase = re.sub(r\"\\'d\", \" would\", phrase)\n",
    "    phrase = re.sub(r\"\\'ll\", \" will\", phrase)\n",
    "    phrase = re.sub(r\"\\'t\", \" not\", phrase)\n",
    "    phrase = re.sub(r\"\\'ve\", \" have\", phrase)\n",
    "    phrase = re.sub(r\"\\'m\", \" am\", phrase)\n",
    "    return phrase"
   ]
  },
  {
   "cell_type": "code",
   "execution_count": 18,
   "metadata": {
    "colab": {},
    "colab_type": "code",
    "id": "GavAnzNjLPnx",
    "outputId": "517fca9a-b1b6-4c6c-ab33-4c5ac4a5bd62"
   },
   "outputs": [
    {
     "name": "stdout",
     "output_type": "stream",
     "text": [
      "was way to hot for my blood, took a bite and did a jig  lol\n",
      "==================================================\n"
     ]
    }
   ],
   "source": [
    "sent_1500 = decontracted(sent_1500)\n",
    "print(sent_1500)\n",
    "print(\"=\"*50)"
   ]
  },
  {
   "cell_type": "code",
   "execution_count": 19,
   "metadata": {
    "colab": {},
    "colab_type": "code",
    "id": "Kl8nOoL-LPn3",
    "outputId": "16742d57-2529-4fc0-9d28-e9332dbbca97"
   },
   "outputs": [
    {
     "name": "stdout",
     "output_type": "stream",
     "text": [
      "My dogs loves this chicken but its a product from China, so we wont be buying it anymore.  Its very hard to find any chicken products made in the USA but they are out there, but this one isnt.  Its too bad too because its a good product but I wont take any chances till they know what is going on with the china imports.\n"
     ]
    }
   ],
   "source": [
    "#remove words with numbers python: https://stackoverflow.com/a/18082370/4084039\n",
    "sent_0 = re.sub(\"\\S*\\d\\S*\", \"\", sent_0).strip()\n",
    "print(sent_0)"
   ]
  },
  {
   "cell_type": "code",
   "execution_count": 20,
   "metadata": {
    "colab": {},
    "colab_type": "code",
    "id": "EGB6X2uxLPn7",
    "outputId": "dbd754e5-eb73-4b3a-f3c3-7b1b40952851"
   },
   "outputs": [
    {
     "name": "stdout",
     "output_type": "stream",
     "text": [
      "was way to hot for my blood took a bite and did a jig lol\n"
     ]
    }
   ],
   "source": [
    "#remove spacial character: https://stackoverflow.com/a/5843547/4084039\n",
    "sent_1500 = re.sub('[^A-Za-z0-9]+', ' ', sent_1500)\n",
    "print(sent_1500)"
   ]
  },
  {
   "cell_type": "code",
   "execution_count": 21,
   "metadata": {
    "colab": {},
    "colab_type": "code",
    "id": "CCurSJJ2LPn_"
   },
   "outputs": [],
   "source": [
    "# https://gist.github.com/sebleier/554280\n",
    "# we are removing the words from the stop words list: 'no', 'nor', 'not'\n",
    "# <br /><br /> ==> after the above steps, we are getting \"br br\"\n",
    "# we are including them into stop words list\n",
    "# instead of <br /> if we have <br/> these tags would have revmoved in the 1st step\n",
    "\n",
    "stopwords= set(['br', 'the', 'i', 'me', 'my', 'myself', 'we', 'our', 'ours', 'ourselves', 'you', \"you're\", \"you've\",\\\n",
    "            \"you'll\", \"you'd\", 'your', 'yours', 'yourself', 'yourselves', 'he', 'him', 'his', 'himself', \\\n",
    "            'she', \"she's\", 'her', 'hers', 'herself', 'it', \"it's\", 'its', 'itself', 'they', 'them', 'their',\\\n",
    "            'theirs', 'themselves', 'what', 'which', 'who', 'whom', 'this', 'that', \"that'll\", 'these', 'those', \\\n",
    "            'am', 'is', 'are', 'was', 'were', 'be', 'been', 'being', 'have', 'has', 'had', 'having', 'do', 'does', \\\n",
    "            'did', 'doing', 'a', 'an', 'the', 'and', 'but', 'if', 'or', 'because', 'as', 'until', 'while', 'of', \\\n",
    "            'at', 'by', 'for', 'with', 'about', 'against', 'between', 'into', 'through', 'during', 'before', 'after',\\\n",
    "            'above', 'below', 'to', 'from', 'up', 'down', 'in', 'out', 'on', 'off', 'over', 'under', 'again', 'further',\\\n",
    "            'then', 'once', 'here', 'there', 'when', 'where', 'why', 'how', 'all', 'any', 'both', 'each', 'few', 'more',\\\n",
    "            'most', 'other', 'some', 'such', 'only', 'own', 'same', 'so', 'than', 'too', 'very', \\\n",
    "            's', 't', 'can', 'will', 'just', 'don', \"don't\", 'should', \"should've\", 'now', 'd', 'll', 'm', 'o', 're', \\\n",
    "            've', 'y', 'ain', 'aren', \"aren't\", 'couldn', \"couldn't\", 'didn', \"didn't\", 'doesn', \"doesn't\", 'hadn',\\\n",
    "            \"hadn't\", 'hasn', \"hasn't\", 'haven', \"haven't\", 'isn', \"isn't\", 'ma', 'mightn', \"mightn't\", 'mustn',\\\n",
    "            \"mustn't\", 'needn', \"needn't\", 'shan', \"shan't\", 'shouldn', \"shouldn't\", 'wasn', \"wasn't\", 'weren', \"weren't\", \\\n",
    "            'won', \"won't\", 'wouldn', \"wouldn't\"])"
   ]
  },
  {
   "cell_type": "code",
   "execution_count": 22,
   "metadata": {
    "colab": {},
    "colab_type": "code",
    "id": "mFHQEvfnLPoF",
    "outputId": "5cd6bcc3-54fe-4a8e-a39d-d6dabf3f37f9"
   },
   "outputs": [
    {
     "name": "stderr",
     "output_type": "stream",
     "text": [
      "100%|██████████████████████████████████████████████████████████████████████████| 87773/87773 [00:41<00:00, 2119.12it/s]\n"
     ]
    }
   ],
   "source": [
    "# Combining all the above stundents \n",
    "from tqdm import tqdm\n",
    "preprocessed_reviews = []\n",
    "# tqdm is for printing the status bar\n",
    "for sentance in tqdm(final['Text'].values):\n",
    "    sentance = re.sub(r\"http\\S+\", \"\", sentance)\n",
    "    sentance = BeautifulSoup(sentance, 'lxml').get_text()\n",
    "    sentance = decontracted(sentance)\n",
    "    sentance = re.sub(\"\\S*\\d\\S*\", \"\", sentance).strip()\n",
    "    sentance = re.sub('[^A-Za-z]+', ' ', sentance)\n",
    "    # https://gist.github.com/sebleier/554280\n",
    "    sentance = ' '.join(e.lower() for e in sentance.split() if e.lower() not in stopwords)\n",
    "    preprocessed_reviews.append(sentance.strip())"
   ]
  },
  {
   "cell_type": "code",
   "execution_count": 23,
   "metadata": {
    "colab": {},
    "colab_type": "code",
    "id": "Tqx8QUeRLPoH",
    "outputId": "0182081c-6282-4113-b186-5b5bac596388"
   },
   "outputs": [
    {
     "data": {
      "text/plain": [
       "'way hot blood took bite jig lol'"
      ]
     },
     "execution_count": 23,
     "metadata": {},
     "output_type": "execute_result"
    }
   ],
   "source": [
    "preprocessed_reviews[1500]"
   ]
  },
  {
   "cell_type": "markdown",
   "metadata": {
    "colab_type": "text",
    "id": "B93jqKuhLPoQ"
   },
   "source": [
    "# [4] Featurization"
   ]
  },
  {
   "cell_type": "markdown",
   "metadata": {},
   "source": [
    "# to prevent data leakage we divide text then vectorize it"
   ]
  },
  {
   "cell_type": "code",
   "execution_count": 24,
   "metadata": {},
   "outputs": [],
   "source": [
    "from sklearn.model_selection import train_test_split\n",
    "from sklearn import model_selection\n",
    "p= final['Score']\n",
    "X_1, X_test, y_1, y_test = model_selection.train_test_split(preprocessed_reviews, p, test_size=0.3, random_state=0)\n",
    "\n",
    "# split the train data set into cross validation train and cross validation test\n",
    "X_tr, X_cv, y_tr, y_cv = model_selection.train_test_split(X_1, y_1, test_size=0.3)\n"
   ]
  },
  {
   "cell_type": "markdown",
   "metadata": {
    "colab_type": "text",
    "id": "Mr4j2QhgLPoQ"
   },
   "source": [
    "## [4.1] BAG OF WORDS"
   ]
  },
  {
   "cell_type": "code",
   "execution_count": 25,
   "metadata": {},
   "outputs": [
    {
     "name": "stdout",
     "output_type": "stream",
     "text": [
      "some feature names  ['aback', 'abdominal', 'ability', 'able', 'absence', 'absent', 'absolute', 'absolutely', 'absolutly', 'absorb']\n",
      "==================================================\n",
      "the type of count vectorizer  <class 'scipy.sparse.csr.csr_matrix'>\n",
      "the shape of out text BOW vectorizer  (43008, 8102)\n",
      "the number of unique words  8102\n"
     ]
    }
   ],
   "source": [
    "#BoW\n",
    "count_vect = CountVectorizer(min_df=10) #in scikit-learn CountVectorizer(min_df=10, max_features=500) \n",
    "X_tr1=count_vect.fit_transform(X_tr)\n",
    "X_cv1=count_vect.transform(X_cv)\n",
    "X_test1=count_vect.transform(X_test)\n",
    "\n",
    "print(\"some feature names \", count_vect.get_feature_names()[:10])\n",
    "print('='*50)\n",
    "\n",
    "print(\"the type of count vectorizer \",type(X_tr1))\n",
    "print(\"the shape of out text BOW vectorizer \",X_tr1.get_shape())\n",
    "print(\"the number of unique words \", X_tr1.get_shape()[1])"
   ]
  },
  {
   "cell_type": "markdown",
   "metadata": {
    "colab_type": "text",
    "id": "-cEEpDx0LPoZ"
   },
   "source": [
    "## [4.3] TF-IDF"
   ]
  },
  {
   "cell_type": "code",
   "execution_count": 26,
   "metadata": {
    "colab": {},
    "colab_type": "code",
    "id": "TgP61HqBLPoa",
    "outputId": "15f1c123-d93b-414d-914b-d4e3f32a6ac1"
   },
   "outputs": [
    {
     "name": "stdout",
     "output_type": "stream",
     "text": [
      "some sample features(unique words in the corpus) ['aback', 'abdominal', 'ability', 'able', 'able buy', 'able chew', 'able drink', 'able eat', 'able enjoy', 'able find']\n",
      "==================================================\n",
      "the type of count vectorizer  <class 'scipy.sparse.csr.csr_matrix'>\n",
      "the shape of out text TFIDF vectorizer  (43008, 25468)\n",
      "the number of unique words including both unigrams and bigrams  25468\n"
     ]
    }
   ],
   "source": [
    "tf_idf_vect = TfidfVectorizer(ngram_range=(1,2), min_df=10)\n",
    "X_tr2=tf_idf_vect.fit_transform(X_tr)\n",
    "print(\"some sample features(unique words in the corpus)\",tf_idf_vect.get_feature_names()[0:10])\n",
    "print('='*50)\n",
    "\n",
    "X_cv2=tf_idf_vect.transform(X_cv)\n",
    "X_test2=tf_idf_vect.transform(X_test)\n",
    "\n",
    "print(\"the type of count vectorizer \",type(X_tr2))\n",
    "print(\"the shape of out text TFIDF vectorizer \",X_tr2.get_shape())\n",
    "print(\"the number of unique words including both unigrams and bigrams \", X_tr2.get_shape()[1])"
   ]
  },
  {
   "cell_type": "markdown",
   "metadata": {
    "colab_type": "text",
    "id": "m3YEHTLPLPod"
   },
   "source": [
    "## [4.4] Word2Vec"
   ]
  },
  {
   "cell_type": "markdown",
   "metadata": {},
   "source": [
    "# traning data"
   ]
  },
  {
   "cell_type": "code",
   "execution_count": 27,
   "metadata": {
    "colab": {},
    "colab_type": "code",
    "id": "zwPZCf8cLPoe"
   },
   "outputs": [],
   "source": [
    "# Train your own Word2Vec model using your own text corpus\n",
    "i=0\n",
    "list_of_sentancetr=[]\n",
    "for sentance in X_tr:\n",
    "    list_of_sentancetr.append(sentance.split())"
   ]
  },
  {
   "cell_type": "code",
   "execution_count": 28,
   "metadata": {
    "colab": {},
    "colab_type": "code",
    "id": "8ddGZNUfLPog",
    "outputId": "390d4ccb-cda2-4391-83e9-0e502b578171",
    "scrolled": true
   },
   "outputs": [
    {
     "name": "stdout",
     "output_type": "stream",
     "text": [
      "[('awesome', 0.8596317172050476), ('fantastic', 0.8213964700698853), ('good', 0.8070213794708252), ('excellent', 0.8028271198272705), ('wonderful', 0.7920513153076172), ('amazing', 0.7747787237167358), ('perfect', 0.7549577951431274), ('terrific', 0.7212434411048889), ('outstanding', 0.686055064201355), ('nice', 0.6691122055053711)]\n",
      "==================================================\n",
      "[('greatest', 0.7852150201797485), ('best', 0.7722549438476562), ('tastiest', 0.7413580417633057), ('horrible', 0.6581193804740906), ('disgusting', 0.6532695293426514), ('coolest', 0.6435155868530273), ('hottest', 0.6364163756370544), ('awful', 0.6312845945358276), ('ive', 0.6281837821006775), ('closest', 0.6195602416992188)]\n"
     ]
    }
   ],
   "source": [
    "\n",
    "# in this project we are using a pretrained model by google\n",
    "# its 3.3G file, once you load this into your memory \n",
    "# it occupies ~9Gb, so please do this step only if you have >12G of ram\n",
    "# we will provide a pickle file wich contains a dict , \n",
    "# and it contains all our courpus words as keys and  model[word] as values\n",
    "# To use this code-snippet, download \"GoogleNews-vectors-negative300.bin\" \n",
    "# from https://drive.google.com/file/d/0B7XkCwpI5KDYNlNUTTlSS21pQmM/edit\n",
    "# it's 1.9GB in size.\n",
    "\n",
    "\n",
    "# http://kavita-ganesan.com/gensim-word2vec-tutorial-starter-code/#.W17SRFAzZPY\n",
    "# you can comment this whole cell\n",
    "# or change these varible according to your need\n",
    "\n",
    "is_your_ram_gt_16g=False\n",
    "want_to_use_google_w2v = False\n",
    "want_to_train_w2v = True\n",
    "\n",
    "if want_to_train_w2v:\n",
    "    # min_count = 5 considers only words that occured atleast 5 times\n",
    "    w2v_modeltr=Word2Vec(list_of_sentancetr,size=50,min_count=5, workers=4)\n",
    "    print(w2v_modeltr.wv.most_similar('great'))\n",
    "    print('='*50)\n",
    "    print(w2v_modeltr.wv.most_similar('worst'))\n",
    "    \n",
    "elif want_to_use_google_w2v and is_your_ram_gt_16g:\n",
    "    if os.path.isfile('GoogleNews-vectors-negative300.bin'):\n",
    "        w2v_model=KeyedVectors.load_word2vec_format('GoogleNews-vectors-negative300.bin', binary=True)\n",
    "        print(w2v_model.wv.most_similar('great'))\n",
    "        print(w2v_model.wv.most_similar('worst'))\n",
    "    else:\n",
    "        print(\"you don't have gogole's word2vec file, keep want_to_train_w2v = True, to train your own w2v \")"
   ]
  },
  {
   "cell_type": "code",
   "execution_count": 29,
   "metadata": {
    "colab": {},
    "colab_type": "code",
    "id": "bRWXmmnWLPoo",
    "outputId": "1cc345e7-d991-49b8-f1b7-a0d81f0b97e6"
   },
   "outputs": [
    {
     "name": "stdout",
     "output_type": "stream",
     "text": [
      "number of words that occured minimum 5 times  12594\n",
      "sample words  ['ordered', 'without', 'tried', 'similar', 'product', 'made', 'different', 'brand', 'possibly', 'slightly', 'flavor', 'loved', 'saw', 'thought', 'yes', 'bulk', 'pack', 'tasted', 'however', 'stomach', 'said', 'no', 'disgusting', 'repeat', 'taste', 'like', 'ketchup', 'mustard', 'lots', 'sugar', 'egg', 'mixed', 'together', 'tastes', 'vomit', 'say', 'might', 'expect', 'eating', 'cotton', 'candy', 'corn', 'dog', 'omelet', 'riding', 'tilt', 'whirl', 'several', 'times', 'see']\n"
     ]
    }
   ],
   "source": [
    "w2v_wordstr = list(w2v_modeltr.wv.vocab)\n",
    "print(\"number of words that occured minimum 5 times \",len(w2v_wordstr))\n",
    "print(\"sample words \", w2v_wordstr[0:50])"
   ]
  },
  {
   "cell_type": "markdown",
   "metadata": {},
   "source": [
    "# cross validation data"
   ]
  },
  {
   "cell_type": "code",
   "execution_count": 30,
   "metadata": {},
   "outputs": [],
   "source": [
    "i=0\n",
    "list_of_sentancecv=[]\n",
    "for sentance in X_cv:\n",
    "    list_of_sentancecv.append(sentance.split())"
   ]
  },
  {
   "cell_type": "code",
   "execution_count": 31,
   "metadata": {},
   "outputs": [
    {
     "name": "stdout",
     "output_type": "stream",
     "text": [
      "[('good', 0.8129618167877197), ('wonderful', 0.7862752676010132), ('amazing', 0.7790889143943787), ('fantastic', 0.7596303224563599), ('excellent', 0.7494366765022278), ('perfect', 0.7273918390274048), ('awesome', 0.7055378556251526), ('decent', 0.6982842683792114), ('terrific', 0.6891281008720398), ('delicious', 0.6805139183998108)]\n",
      "==================================================\n",
      "[('closest', 0.8542918562889099), ('remember', 0.8364803791046143), ('experienced', 0.835749626159668), ('greatest', 0.835422158241272), ('nastiest', 0.8329361081123352), ('hooked', 0.8295515179634094), ('fav', 0.8271950483322144), ('honest', 0.8240132331848145), ('freshest', 0.8168250322341919), ('addicted', 0.8145512342453003)]\n"
     ]
    }
   ],
   "source": [
    "is_your_ram_gt_16g=False\n",
    "want_to_use_google_w2v = False\n",
    "want_to_train_w2v = True\n",
    "\n",
    "if want_to_train_w2v:\n",
    "    # min_count = 5 considers only words that occured atleast 5 times\n",
    "    w2v_modelcv=Word2Vec(list_of_sentancecv,min_count=5,size=50, workers=4)\n",
    "    print(w2v_modelcv.wv.most_similar('great'))\n",
    "    print('='*50)\n",
    "    print(w2v_modelcv.wv.most_similar('worst'))\n",
    "    \n",
    "elif want_to_use_google_w2v and is_your_ram_gt_16g:\n",
    "    if os.path.isfile('GoogleNews-vectors-negative300.bin'):\n",
    "        w2v_model=KeyedVectors.load_word2vec_format('GoogleNews-vectors-negative300.bin', binary=True)\n",
    "        print(w2v_model.wv.most_similar('great'))\n",
    "        print(w2v_model.wv.most_similar('worst'))\n",
    "    else:\n",
    "        print(\"you don't have gogole's word2vec file, keep want_to_train_w2v = True, to train your own w2v \")"
   ]
  },
  {
   "cell_type": "code",
   "execution_count": 32,
   "metadata": {},
   "outputs": [
    {
     "name": "stdout",
     "output_type": "stream",
     "text": [
      "number of words that occured minimum 5 times  8362\n",
      "sample words  ['received', 'item', 'days', 'ago', 'decided', 'try', 'recipe', 'drop', 'biscuits', 'delicious', 'not', 'get', 'taste', 'real', 'thing', 'craving', 'baked', 'good', 'satisfy', 'like', 'ready', 'take', 'pad', 'blast', 'charge', 'cup', 'extra', 'bold', 'face', 'robust', 'meet', 'day', 'new', 'coffee', 'people', 'jet', 'fuel', 'k', 'cups', 'keurig', 'brewers', 'tried', 'minutes', 'smells', 'tastes', 'medicine', 'strawberry', 'finest', 'fairly', 'blueberry']\n"
     ]
    }
   ],
   "source": [
    "w2v_wordscv = list(w2v_modelcv.wv.vocab)\n",
    "print(\"number of words that occured minimum 5 times \",len(w2v_wordscv))\n",
    "print(\"sample words \", w2v_wordscv[0:50])"
   ]
  },
  {
   "cell_type": "markdown",
   "metadata": {},
   "source": [
    "# test data"
   ]
  },
  {
   "cell_type": "code",
   "execution_count": 33,
   "metadata": {},
   "outputs": [],
   "source": [
    "i=0\n",
    "list_of_sentancetest=[]\n",
    "for sentance in X_test:\n",
    "    list_of_sentancetest.append(sentance.split())"
   ]
  },
  {
   "cell_type": "code",
   "execution_count": 34,
   "metadata": {},
   "outputs": [
    {
     "name": "stdout",
     "output_type": "stream",
     "text": [
      "[('awesome', 0.8373816013336182), ('good', 0.8037992715835571), ('wonderful', 0.7847806215286255), ('amazing', 0.7741374373435974), ('excellent', 0.7696704864501953), ('fantastic', 0.7649224996566772), ('terrific', 0.7437756061553955), ('perfect', 0.7322821617126465), ('satisfied', 0.6748486757278442), ('nice', 0.6687310934066772)]\n",
      "==================================================\n",
      "[('best', 0.7844250202178955), ('ever', 0.7557579278945923), ('smoothest', 0.7283267378807068), ('tastiest', 0.7016235589981079), ('closest', 0.6877609491348267), ('nastiest', 0.6814031600952148), ('tasted', 0.6773760914802551), ('awful', 0.6730085015296936), ('honestly', 0.6714893579483032), ('experienced', 0.6656630635261536)]\n"
     ]
    }
   ],
   "source": [
    "is_your_ram_gt_16g=False\n",
    "want_to_use_google_w2v = False\n",
    "want_to_train_w2v = True\n",
    "\n",
    "if want_to_train_w2v:\n",
    "    # min_count = 5 considers only words that occured atleast 5 times\n",
    "    w2v_modeltest=Word2Vec(list_of_sentancetest,min_count=5,size=50, workers=4)\n",
    "    print(w2v_modeltest.wv.most_similar('great'))\n",
    "    print('='*50)\n",
    "    print(w2v_modeltest.wv.most_similar('worst'))\n",
    "    \n",
    "elif want_to_use_google_w2v and is_your_ram_gt_16g:\n",
    "    if os.path.isfile('GoogleNews-vectors-negative300.bin'):\n",
    "        w2v_model=KeyedVectors.load_word2vec_format('GoogleNews-vectors-negative300.bin', binary=True)\n",
    "        print(w2v_model.wv.most_similar('great'))\n",
    "        print(w2v_model.wv.most_similar('worst'))\n",
    "    else:\n",
    "        print(\"you don't have gogole's word2vec file, keep want_to_train_w2v = True, to train your own w2v \")"
   ]
  },
  {
   "cell_type": "code",
   "execution_count": 35,
   "metadata": {},
   "outputs": [
    {
     "name": "stdout",
     "output_type": "stream",
     "text": [
      "number of words that occured minimum 5 times  9806\n",
      "sample words  ['used', 'use', 'cheaper', 'grocery', 'store', 'brands', 'two', 'cats', 'got', 'sick', 'no', 'idea', 'causing', 'changed', 'cat', 'food', 'anyway', 'love', 'healthy', 'made', 'good', 'cheese', 'corn', 'big', 'round', 'fresh', 'popcorn', 'evenly', 'seasoned', 'really', 'cheesy', 'flavor', 'not', 'salty', 'greasy', 'taste', 'sensational', 'ordering', 'disappointment', 'searching', 'awhile', 'find', 'flavored', 'water', 'artificial', 'sweetener', 'kind', 'saw', 'reviews', 'thought']\n"
     ]
    }
   ],
   "source": [
    "w2v_wordstest = list(w2v_modeltest.wv.vocab)\n",
    "print(\"number of words that occured minimum 5 times \",len(w2v_wordstest))\n",
    "print(\"sample words \", w2v_wordstest[0:50])"
   ]
  },
  {
   "cell_type": "markdown",
   "metadata": {
    "colab_type": "text",
    "id": "TtWqibqfLPos"
   },
   "source": [
    "## [4.4.1] Converting text into vectors using Avg W2V, TFIDF-W2V"
   ]
  },
  {
   "cell_type": "markdown",
   "metadata": {
    "colab_type": "text",
    "id": "JriP5nZCLPot"
   },
   "source": [
    "#### [4.4.1.1] Avg W2v"
   ]
  },
  {
   "cell_type": "markdown",
   "metadata": {},
   "source": [
    "# traning data"
   ]
  },
  {
   "cell_type": "code",
   "execution_count": 36,
   "metadata": {
    "colab": {},
    "colab_type": "code",
    "id": "UnXI9NHTLPot",
    "outputId": "ecbe8256-9718-4bad-de33-e5ce1ee69038"
   },
   "outputs": [
    {
     "name": "stderr",
     "output_type": "stream",
     "text": [
      "100%|███████████████████████████████████████████████████████████████████████████| 43008/43008 [01:11<00:00, 597.55it/s]\n"
     ]
    },
    {
     "name": "stdout",
     "output_type": "stream",
     "text": [
      "43008\n",
      "50\n"
     ]
    }
   ],
   "source": [
    "# average Word2Vec\n",
    "# compute average word2vec for each review.\n",
    "sent_vectorstr = []; # the avg-w2v for each sentence/review is stored in this list\n",
    "for sent in tqdm(list_of_sentancetr): # for each review/sentence\n",
    "    sent_vec = np.zeros(50) # as word vectors are of zero length 50, you might need to change this to 300 if you use google's w2v\n",
    "    cnt_words =0; # num of words with a valid vector in the sentence/review\n",
    "    for word in sent: # for each word in a review/sentence\n",
    "        if word in w2v_wordstr:\n",
    "            vec = w2v_modeltr.wv[word]\n",
    "            sent_vec += vec\n",
    "            cnt_words += 1\n",
    "    if cnt_words != 0:\n",
    "        sent_vec /= cnt_words\n",
    "    sent_vectorstr.append(sent_vec)\n",
    "print(len(sent_vectorstr))\n",
    "print(len(sent_vectorstr[0]))"
   ]
  },
  {
   "cell_type": "markdown",
   "metadata": {},
   "source": [
    "# crossvalidation data"
   ]
  },
  {
   "cell_type": "code",
   "execution_count": 37,
   "metadata": {},
   "outputs": [
    {
     "name": "stderr",
     "output_type": "stream",
     "text": [
      "100%|███████████████████████████████████████████████████████████████████████████| 18433/18433 [00:23<00:00, 771.92it/s]\n"
     ]
    },
    {
     "name": "stdout",
     "output_type": "stream",
     "text": [
      "18433\n",
      "50\n"
     ]
    }
   ],
   "source": [
    "sent_vectorscv = [];\n",
    "for sent in tqdm(list_of_sentancecv): # for each review/sentence\n",
    "    sent_vec = np.zeros(50) # as word vectors are of zero length 50, you might need to change this to 300 if you use google's w2v\n",
    "    cnt_words =0; # num of words with a valid vector in the sentence/review\n",
    "    for word in sent: # for each word in a review/sentence\n",
    "        if word in w2v_wordscv:\n",
    "            vec = w2v_modelcv.wv[word]\n",
    "            sent_vec += vec\n",
    "            cnt_words += 1\n",
    "    if cnt_words != 0:\n",
    "        sent_vec /= cnt_words\n",
    "    sent_vectorscv.append(sent_vec)\n",
    "print(len(sent_vectorscv))\n",
    "print(len(sent_vectorscv[0]))"
   ]
  },
  {
   "cell_type": "markdown",
   "metadata": {},
   "source": [
    "# test data"
   ]
  },
  {
   "cell_type": "code",
   "execution_count": 38,
   "metadata": {},
   "outputs": [
    {
     "name": "stderr",
     "output_type": "stream",
     "text": [
      "100%|███████████████████████████████████████████████████████████████████████████| 26332/26332 [00:35<00:00, 740.55it/s]\n"
     ]
    },
    {
     "name": "stdout",
     "output_type": "stream",
     "text": [
      "26332\n",
      "50\n"
     ]
    }
   ],
   "source": [
    "sent_vectorstest = [];\n",
    "for sent in tqdm(list_of_sentancetest): # for each review/sentence\n",
    "    sent_vec = np.zeros(50) # as word vectors are of zero length 50, you might need to change this to 300 if you use google's w2v\n",
    "    cnt_words =0; # num of words with a valid vector in the sentence/review\n",
    "    for word in sent: # for each word in a review/sentence\n",
    "        if word in w2v_wordstest:\n",
    "            vec = w2v_modeltest.wv[word]\n",
    "            sent_vec += vec\n",
    "            cnt_words += 1\n",
    "    if cnt_words != 0:\n",
    "        sent_vec /= cnt_words\n",
    "    sent_vectorstest.append(sent_vec)\n",
    "print(len(sent_vectorstest))\n",
    "print(len(sent_vectorstest[0]))"
   ]
  },
  {
   "cell_type": "markdown",
   "metadata": {
    "colab_type": "text",
    "id": "2sHfb529LPow"
   },
   "source": [
    "#### [4.4.1.2] TFIDF weighted W2v"
   ]
  },
  {
   "cell_type": "markdown",
   "metadata": {},
   "source": [
    "# traning data"
   ]
  },
  {
   "cell_type": "code",
   "execution_count": 39,
   "metadata": {
    "colab": {},
    "colab_type": "code",
    "id": "sb_wDjAqLPow"
   },
   "outputs": [],
   "source": [
    "# S = [\"abc def pqr\", \"def def def abc\", \"pqr pqr def\"]\n",
    "model = TfidfVectorizer()\n",
    "tf_idf_matrix = model.fit_transform(X_tr)\n",
    "# we are converting a dictionary with word as a key, and the idf as a value\n",
    "dictionarytr = dict(zip(model.get_feature_names(), list(model.idf_)))"
   ]
  },
  {
   "cell_type": "code",
   "execution_count": 40,
   "metadata": {
    "colab": {},
    "colab_type": "code",
    "id": "3VrUzqx7LPoy",
    "outputId": "8480d5da-7b1d-4bbe-a4c9-fe0a5800b5d0",
    "scrolled": true
   },
   "outputs": [
    {
     "name": "stderr",
     "output_type": "stream",
     "text": [
      "100%|████████████████████████████████████████████████████████████████████████████| 43008/43008 [21:31<00:00, 33.29it/s]\n"
     ]
    }
   ],
   "source": [
    "# TF-IDF weighted Word2Vec\n",
    "tfidf_feattr = model.get_feature_names() # tfidf words/col-names\n",
    "\n",
    "tfidf_sent_vectorstr = []; # the tfidf-w2v for each traning sentence/review is stored in this list\n",
    "row=0;\n",
    "for sent in tqdm(list_of_sentancetr): # for each review/sentence in traning\n",
    "    sent_vec = np.zeros(50) # as word vectors are of zero length\n",
    "    weight_sum =0; # num of words with a valid vector in the sentence/review\n",
    "    for word in sent: # for each word in a traning review/sentence\n",
    "        if word in w2v_wordstr and word in tfidf_feattr:\n",
    "            vec = w2v_modeltr.wv[word]            \n",
    "            tf_idf = dictionarytr[word]*(sent.count(word)/len(sent))\n",
    "            sent_vec += (vec * tf_idf)\n",
    "            weight_sum += tf_idf\n",
    "    if weight_sum != 0:\n",
    "        sent_vec /= weight_sum\n",
    "    tfidf_sent_vectorstr.append(sent_vec)\n",
    "    row += 1"
   ]
  },
  {
   "cell_type": "markdown",
   "metadata": {},
   "source": [
    "# cross validation data"
   ]
  },
  {
   "cell_type": "code",
   "execution_count": 41,
   "metadata": {},
   "outputs": [],
   "source": [
    "model = TfidfVectorizer()\n",
    "tf_idf_matrix = model.fit_transform(X_cv)\n",
    "# we are converting a dictionary with word as a key, and the idf as a value\n",
    "dictionarycv = dict(zip(model.get_feature_names(), list(model.idf_)))\n",
    "\n",
    "\n"
   ]
  },
  {
   "cell_type": "code",
   "execution_count": 42,
   "metadata": {},
   "outputs": [
    {
     "name": "stderr",
     "output_type": "stream",
     "text": [
      "100%|████████████████████████████████████████████████████████████████████████████| 18433/18433 [04:29<00:00, 68.52it/s]\n"
     ]
    }
   ],
   "source": [
    "# TF-IDF weighted Word2Vec\n",
    "tfidf_featcv = model.get_feature_names() # tfidf words/col-names\n",
    "\n",
    "tfidf_sent_vectorscv = []; # the tfidf-w2v for each cv sentence/review is stored in this list\n",
    "row=0;\n",
    "for sent in tqdm(list_of_sentancecv): # for each cv  review/sentence \n",
    "    sent_vec = np.zeros(50) # as word vectors are of zero length\n",
    "    weight_sum =0; # num of words with a valid vector in the sentence/review\n",
    "    for word in sent: # for each word in a review/sentence\n",
    "        if word in w2v_wordscv and word in tfidf_featcv:\n",
    "            vec = w2v_modelcv.wv[word]\n",
    "#             tf_idf = tf_idf_matrix[row, tfidf_feat.index(word)]\n",
    "            # to reduce the computation we are \n",
    "            # dictionary[word] = idf value of word in whole courpus\n",
    "            # sent.count(word) = tf valeus of word in this review\n",
    "            tf_idf = dictionarycv[word]*(sent.count(word)/len(sent))\n",
    "            sent_vec += (vec * tf_idf)\n",
    "            weight_sum += tf_idf\n",
    "    if weight_sum != 0:\n",
    "        sent_vec /= weight_sum\n",
    "    tfidf_sent_vectorscv.append(sent_vec)\n",
    "    row += 1"
   ]
  },
  {
   "cell_type": "markdown",
   "metadata": {},
   "source": [
    "# test data"
   ]
  },
  {
   "cell_type": "code",
   "execution_count": 43,
   "metadata": {},
   "outputs": [],
   "source": [
    "model = TfidfVectorizer()\n",
    "tf_idf_matrix = model.fit_transform(X_test)\n",
    "# we are converting a dictionary with word as a key, and the idf as a value\n",
    "dictionarytest = dict(zip(model.get_feature_names(), list(model.idf_)))\n"
   ]
  },
  {
   "cell_type": "code",
   "execution_count": 44,
   "metadata": {},
   "outputs": [
    {
     "name": "stderr",
     "output_type": "stream",
     "text": [
      "100%|████████████████████████████████████████████████████████████████████████████| 26332/26332 [09:00<00:00, 48.68it/s]\n"
     ]
    }
   ],
   "source": [
    "tfidf_feattest = model.get_feature_names() # tfidf words/col-names\n",
    "# final_tf_idf is the sparse matrix with row= sentence, col=word and cell_val = tfidf\n",
    "\n",
    "tfidf_sent_vectorstest = []; # the tfidf-w2v for each sentence/review is stored in this list\n",
    "row=0;\n",
    "for sent in tqdm(list_of_sentancetest): # for each review/sentence \n",
    "    sent_vec = np.zeros(50) # as word vectors are of zero length\n",
    "    weight_sum =0; # num of words with a valid vector in the sentence/review\n",
    "    for word in sent: # for each word in a review/sentence\n",
    "        if word in w2v_wordstest and word in tfidf_feattest:\n",
    "            vec = w2v_modeltest.wv[word]\n",
    "#             tf_idf = tf_idf_matrix[row, tfidf_feat.index(word)]\n",
    "            # to reduce the computation we are \n",
    "            # dictionary[word] = idf value of word in whole courpus\n",
    "            # sent.count(word) = tf valeus of word in this review\n",
    "            tf_idf = dictionarytest[word]*(sent.count(word)/len(sent))\n",
    "            sent_vec += (vec * tf_idf)\n",
    "            weight_sum += tf_idf\n",
    "    if weight_sum != 0:\n",
    "        sent_vec /= weight_sum\n",
    "    tfidf_sent_vectorstest.append(sent_vec)\n",
    "    row += 1"
   ]
  },
  {
   "cell_type": "markdown",
   "metadata": {
    "colab_type": "text",
    "id": "Kxx72u1hLPo1"
   },
   "source": [
    "# [5] Assignment 5: Apply Logistic Regression"
   ]
  },
  {
   "cell_type": "markdown",
   "metadata": {
    "colab_type": "text",
    "id": "KDR9We0oLPo2"
   },
   "source": [
    "<ol>\n",
    "    <li><strong>Apply Logistic Regression on these feature sets</strong>\n",
    "        <ul>\n",
    "            <li><font color='red'>SET 1:</font>Review text, preprocessed one converted into vectors using (BOW)</li>\n",
    "            <li><font color='red'>SET 2:</font>Review text, preprocessed one converted into vectors using (TFIDF)</li>\n",
    "            <li><font color='red'>SET 3:</font>Review text, preprocessed one converted into vectors using (AVG W2v)</li>\n",
    "            <li><font color='red'>SET 4:</font>Review text, preprocessed one converted into vectors using (TFIDF W2v)</li>\n",
    "        </ul>\n",
    "    </li>\n",
    "    <br>\n",
    "    <li><strong>Hyper paramter tuning (find best hyper parameters corresponding the algorithm that you choose)</strong>\n",
    "        <ul>\n",
    "    <li>Find the best hyper parameter which will give the maximum <a href='https://www.appliedaicourse.com/course/applied-ai-course-online/lessons/receiver-operating-characteristic-curve-roc-curve-and-auc-1/'>AUC</a> value</li>\n",
    "    <li>Find the best hyper paramter using k-fold cross validation or simple cross validation data</li>\n",
    "    <li>Use gridsearch cv or randomsearch cv or you can also write your own for loops to do this task of hyperparameter tuning</li>          \n",
    "        </ul>\n",
    "    </li>\n",
    "    <br>\n",
    "    <li><strong>Pertubation Test</strong>\n",
    "        <ul>\n",
    "    <li>Get the weights W after fit your model with the data X i.e Train data.</li>\n",
    "    <li>Add a noise to the X (X' = X + e) and get the new data set X' (if X is a sparse\n",
    "matrix, X.data+=e)</li>\n",
    "    <li>Fit the model again on data X' and get the weights W'</li>\n",
    "    <li>Add a small eps value(to eliminate the divisible by zero error) to W and W’ i.e\n",
    "W=W+10^-6 and W’ = W’+10^-6</li>\n",
    "    <li>Now find the % change between W and W' (| (W-W') / (W) |)*100)</li>\n",
    "    <li>Calculate the 0th, 10th, 20th, 30th, ...100th percentiles, and observe any sudden rise in the values of percentage_change_vector</li>\n",
    "    <li> Ex: consider your 99th percentile is 1.3 and your 100th percentiles are 34.6, there is sudden rise from 1.3 to 34.6, now calculate the 99.1, 99.2, 99.3,..., 100th percentile values and get the proper value after which there is sudden rise the values, assume it is 2.5</li>\n",
    "            <li> Print the feature names whose % change is more than a threshold x(in our example it's 2.5)</li>\n",
    "        </ul>\n",
    "    </li>\n",
    "    <br>\n",
    "    <li><strong>Sparsity</strong>\n",
    "        <ul>\n",
    "    <li>Calculate sparsity on weight vector obtained after using L1 regularization</li>\n",
    "        </ul>\n",
    "    </li>\n",
    "    <br><font color='red'>NOTE: Do sparsity and multicollinearity for any one of the vectorizers. Bow or tf-idf is recommended.</font>\n",
    "    <br>\n",
    "    <br>\n",
    "    <li><strong>Feature importance</strong>\n",
    "        <ul>\n",
    "    <li>Get top 10 important features for both positive and negative classes separately.</li>\n",
    "        </ul>\n",
    "    </li>\n",
    "    <br>\n",
    "    <li><strong>Feature engineering</strong>\n",
    "        <ul>\n",
    "    <li>To increase the performance of your model, you can also experiment with with feature engineering like :</li>\n",
    "            <ul>\n",
    "            <li>Taking length of reviews as another feature.</li>\n",
    "            <li>Considering some features from review summary as well.</li>\n",
    "        </ul>\n",
    "        </ul>\n",
    "    </li>\n",
    "    <br>\n",
    "    <li><strong>Representation of results</strong>\n",
    "        <ul>\n",
    "    <li>You need to plot the performance of model both on train data and cross validation data for each hyper parameter, like shown in the figure.\n",
    "    <img src='train_cv_auc.JPG' width=300px></li>\n",
    "    <li>Once after you found the best hyper parameter, you need to train your model with it, and find the AUC on test data and plot the ROC curve on both train and test.\n",
    "    <img src='train_test_auc.JPG' width=300px></li>\n",
    "    <li>Along with plotting ROC curve, you need to print the <a href='https://www.appliedaicourse.com/course/applied-ai-course-online/lessons/confusion-matrix-tpr-fpr-fnr-tnr-1/'>confusion matrix</a> with predicted and original labels of test data points. Please visualize your confusion matrices using <a href='https://seaborn.pydata.org/generated/seaborn.heatmap.html'>seaborn heatmaps.\n",
    "    <img src='confusion_matrix.png' width=300px></li>\n",
    "        </ul>\n",
    "    </li>\n",
    "    <br>\n",
    "    <li><strong>Conclusion</strong>\n",
    "        <ul>\n",
    "    <li>You need to summarize the results at the end of the notebook, summarize it in the table format. To print out a table please refer to this prettytable library<a href='http://zetcode.com/python/prettytable/'>  link</a> \n",
    "        <img src='summary.JPG' width=400px>\n",
    "    </li>\n",
    "        </ul>\n",
    "</ol>"
   ]
  },
  {
   "cell_type": "markdown",
   "metadata": {
    "colab_type": "text",
    "id": "gilb-DOVLPo2"
   },
   "source": [
    "<h4><font color='red'>Note: Data Leakage</font></h4>\n",
    "\n",
    "1. There will be an issue of data-leakage if you vectorize the entire data and then split it into train/cv/test.\n",
    "2. To avoid the issue of data-leakag, make sure to split your data first and then vectorize it. \n",
    "3. While vectorizing your data, apply the method fit_transform() on you train data, and apply the method transform() on cv/test data.\n",
    "4. For more details please go through this <a href='https://soundcloud.com/applied-ai-course/leakage-bow-and-tfidf'>link.</a>"
   ]
  },
  {
   "cell_type": "markdown",
   "metadata": {
    "colab_type": "text",
    "id": "jiYocvSHLPo4"
   },
   "source": [
    "# Applying Logistic Regression"
   ]
  },
  {
   "cell_type": "markdown",
   "metadata": {},
   "source": [
    "# AUC vs hyperparameter"
   ]
  },
  {
   "cell_type": "code",
   "execution_count": 268,
   "metadata": {},
   "outputs": [],
   "source": [
    "import math\n",
    "param =  [0.000001,0.00001,0.0001,0.001,0.01,0.1,1,10,100,1000,10000]\n",
    "param1 = [math.log10(i) for i in param]\n",
    "def plot_auc(train_auc_list,cv_auc_list):\n",
    "    plt.title(\"AUC vs hyperparameter\")\n",
    "    plt.plot(param1,train_auc_list,label=\"Train AUC\")\n",
    "    plt.xlabel(\"log(hyperparam)\")\n",
    "    plt.ylabel(\"Area Under Curve\")\n",
    "    plt.plot(param1,cv_auc_list,label=\"Validation AUC\")\n",
    "    plt.legend()\n",
    "    plt.show()"
   ]
  },
  {
   "cell_type": "markdown",
   "metadata": {},
   "source": [
    "# ROC"
   ]
  },
  {
   "cell_type": "code",
   "execution_count": 269,
   "metadata": {},
   "outputs": [],
   "source": [
    "from sklearn.metrics import roc_curve\n",
    "def plot_roc(Y_test,predict_y_test,Y_train,predict_y_train):\n",
    "    fpr1,tpr1,threshold1 = roc_curve(Y_test,predict_y_test) # For test dataset\n",
    "    fpr2,tpr2,threshold2 = roc_curve(Y_train,predict_y_train) # For train dataset\n",
    "    plt.title(\"ROC curve\")\n",
    "    plt.plot([0,1],[0,1])\n",
    "    plt.plot(fpr1,tpr1,label=\"Validation AUC\")\n",
    "    plt.plot(fpr2,tpr2,label=\"Train AUC\")\n",
    "    plt.xlabel(\"fpr\")\n",
    "    plt.ylabel(\"tpr\")\n",
    "    plt.legend()\n",
    "    plt.show()"
   ]
  },
  {
   "cell_type": "markdown",
   "metadata": {},
   "source": [
    "# confusion matrix"
   ]
  },
  {
   "cell_type": "code",
   "execution_count": 270,
   "metadata": {},
   "outputs": [],
   "source": [
    "def confusion_matrix_plot(test_y, predict_y):\n",
    "    # C stores the confusion matrix \n",
    "    C = confusion_matrix(test_y, predict_y)\n",
    "    \n",
    "    # Class labels \n",
    "    labels_x = [\"Predicted No\",\"Predicted Yes\"]\n",
    "    labels_y = [\"Actual No\",\"Actual Yes\"]\n",
    "    \n",
    "    cmap=sns.light_palette(\"orange\")\n",
    "    print(\"Confusion matrix\")\n",
    "    plt.figure(figsize=(4,4))\n",
    "    sns.heatmap(C, annot=True, cmap=cmap, fmt=\".3f\", xticklabels=labels_x, yticklabels=labels_y)\n",
    "    plt.show()"
   ]
  },
  {
   "cell_type": "markdown",
   "metadata": {
    "colab_type": "text",
    "id": "LE_XPVZJLPo4"
   },
   "source": [
    "## [5.1] Logistic Regression on BOW,<font color='red'> SET 1</font>"
   ]
  },
  {
   "cell_type": "code",
   "execution_count": 271,
   "metadata": {},
   "outputs": [],
   "source": [
    "# Standarizing data\n",
    "from sklearn.preprocessing import StandardScaler\n",
    "X_tr1 = StandardScaler(with_mean=False).fit_transform(X_tr1)\n",
    "X_test1 = StandardScaler(with_mean=False).fit_transform(X_test1)\n",
    "X_cv1 = StandardScaler(with_mean=False).fit_transform(X_cv1)"
   ]
  },
  {
   "cell_type": "markdown",
   "metadata": {
    "colab_type": "text",
    "id": "_iciJvj2LPo4"
   },
   "source": [
    "### [5.1.1] Applying Logistic Regression with L1 regularization on BOW,<font color='red'> SET 1</font>"
   ]
  },
  {
   "cell_type": "code",
   "execution_count": 272,
   "metadata": {
    "colab": {},
    "colab_type": "code",
    "id": "MyOVi-xYLPo5"
   },
   "outputs": [
    {
     "name": "stderr",
     "output_type": "stream",
     "text": [
      "100%|██████████████████████████████████████████████████████████████████████████████████| 11/11 [00:01<00:00,  5.00it/s]\n"
     ]
    }
   ],
   "source": [
    "# Please write all the code with proper documentation\n",
    "from sklearn.model_selection import train_test_split\n",
    "from sklearn.datasets import *\n",
    "from sklearn.linear_model import LogisticRegression\n",
    "from sklearn.metrics import accuracy_score\n",
    "from sklearn.model_selection import cross_val_score\n",
    "from collections import Counter\n",
    "from sklearn.metrics import accuracy_score\n",
    "from sklearn import model_selection\n",
    "from sklearn.metrics import roc_auc_score\n",
    "train_auc_list=[]\n",
    "cv_auc_list=[]\n",
    "for i in tqdm(param):\n",
    "   clf = LogisticRegression(penalty='l1',C=i,max_iter=1000,tol=0.1)\n",
    "   clf.fit(X_tr1,y_tr)\n",
    "   trprob=clf.predict_proba(X_tr1)[:,1] # Returns probability of positive class\n",
    "   cvprob = clf.predict_proba(X_cv1)[:,1]  \n",
    "   auctr = roc_auc_score(y_tr,trprob)#auc of tranning data\n",
    "   auccv = roc_auc_score(y_cv,cvprob)#auc of cross validation data\n",
    "   train_auc_list.append(auctr)\n",
    "   cv_auc_list.append(auccv)"
   ]
  },
  {
   "cell_type": "code",
   "execution_count": 273,
   "metadata": {},
   "outputs": [
    {
     "data": {
      "image/png": "[encoded data removed]",
      "text/plain": [
       "<Figure size 432x288 with 1 Axes>"
      ]
     },
     "metadata": {
      "needs_background": "light"
     },
     "output_type": "display_data"
    }
   ],
   "source": [
    "plot_auc(train_auc_list,cv_auc_list)"
   ]
  },
  {
   "cell_type": "markdown",
   "metadata": {},
   "source": [
    "the best hyperparameter is at log(x)=-2 i.e C=0.01"
   ]
  },
  {
   "cell_type": "code",
   "execution_count": 274,
   "metadata": {},
   "outputs": [],
   "source": [
    "clf = LogisticRegression(penalty='l1',C=0.01,max_iter=1000,tol=0.1)\n",
    "clf.fit(X_tr1, y_tr)\n",
    "trpred=clf.predict(X_tr1)\n",
    "testpred = clf.predict(X_test1)\n",
    "trprob=clf.predict_proba(X_tr1)[:,1] # Returns probability of positive class\n",
    "testprob = clf.predict_proba(X_test1)[:,1] \n",
    "auctr = roc_auc_score(y_tr,trprob)#auc of tranning data\n",
    "auctest = roc_auc_score(y_test,testprob)#auc of cross validation data\n",
    "w = clf.coef_"
   ]
  },
  {
   "cell_type": "code",
   "execution_count": 275,
   "metadata": {},
   "outputs": [
    {
     "data": {
      "text/plain": [
       "0.9271841618412795"
      ]
     },
     "execution_count": 275,
     "metadata": {},
     "output_type": "execute_result"
    }
   ],
   "source": [
    "auctest"
   ]
  },
  {
   "cell_type": "code",
   "execution_count": 276,
   "metadata": {},
   "outputs": [
    {
     "data": {
      "image/png": "[encoded data removed]",
      "text/plain": [
       "<Figure size 432x288 with 1 Axes>"
      ]
     },
     "metadata": {
      "needs_background": "light"
     },
     "output_type": "display_data"
    }
   ],
   "source": [
    "plot_roc(y_test,testprob,y_tr,trprob)"
   ]
  },
  {
   "cell_type": "markdown",
   "metadata": {},
   "source": [
    "# Confusion matrix train\n"
   ]
  },
  {
   "cell_type": "code",
   "execution_count": 277,
   "metadata": {},
   "outputs": [
    {
     "name": "stdout",
     "output_type": "stream",
     "text": [
      "Confusion matrix\n"
     ]
    },
    {
     "data": {
      "image/png": "[encoded data removed]",
      "text/plain": [
       "<Figure size 288x288 with 2 Axes>"
      ]
     },
     "metadata": {
      "needs_background": "light"
     },
     "output_type": "display_data"
    }
   ],
   "source": [
    "confusion_matrix_plot(y_tr, trpred)"
   ]
  },
  {
   "cell_type": "markdown",
   "metadata": {},
   "source": [
    "# Confusion matrix test\n"
   ]
  },
  {
   "cell_type": "code",
   "execution_count": 278,
   "metadata": {},
   "outputs": [
    {
     "name": "stdout",
     "output_type": "stream",
     "text": [
      "Confusion matrix\n"
     ]
    },
    {
     "data": {
      "image/png": "[encoded data removed]",
      "text/plain": [
       "<Figure size 288x288 with 2 Axes>"
      ]
     },
     "metadata": {
      "needs_background": "light"
     },
     "output_type": "display_data"
    }
   ],
   "source": [
    "confusion_matrix_plot(y_test, testpred)"
   ]
  },
  {
   "cell_type": "markdown",
   "metadata": {
    "colab_type": "text",
    "id": "5h4NhywcLPo7"
   },
   "source": [
    "#### [5.1.1.1] Calculating sparsity on weight vector obtained using L1 regularization on BOW,<font color='red'> SET 1</font>"
   ]
  },
  {
   "cell_type": "code",
   "execution_count": 279,
   "metadata": {
    "colab": {},
    "colab_type": "code",
    "id": "-mmdLzUALPo-"
   },
   "outputs": [
    {
     "name": "stdout",
     "output_type": "stream",
     "text": [
      "82.79437176005925\n"
     ]
    }
   ],
   "source": [
    "p=np.count_nonzero(w)\n",
    "q=len(w[0])\n",
    "sparsity=(q-p)/q*100\n",
    "print(sparsity)"
   ]
  },
  {
   "cell_type": "markdown",
   "metadata": {
    "colab_type": "text",
    "id": "aRHMa52qLPpA"
   },
   "source": [
    "### [5.1.2] Applying Logistic Regression with L2 regularization on BOW,<font color='red'> SET 1</font>"
   ]
  },
  {
   "cell_type": "code",
   "execution_count": 280,
   "metadata": {
    "colab": {},
    "colab_type": "code",
    "id": "GBbb9lxlLPpB"
   },
   "outputs": [
    {
     "name": "stderr",
     "output_type": "stream",
     "text": [
      "100%|██████████████████████████████████████████████████████████████████████████████████| 11/11 [00:05<00:00,  1.64it/s]\n"
     ]
    }
   ],
   "source": [
    "# Please write all the code with proper documentation\n",
    "train_auc_list1=[]\n",
    "cv_auc_list1=[]\n",
    "for i in tqdm(param):\n",
    "   clf = LogisticRegression(penalty='l2',C=i,max_iter=1000,tol=0.1)\n",
    "   clf.fit(X_tr1,y_tr)\n",
    "   trprob=clf.predict_proba(X_tr1)[:,1] # Returns probability of positive class\n",
    "   cvprob = clf.predict_proba(X_cv1)[:,1]  \n",
    "   auctr = roc_auc_score(y_tr,trprob)#auc of tranning data\n",
    "   auccv = roc_auc_score(y_cv,cvprob)#auc of cross validation data\n",
    "   train_auc_list1.append(auctr)\n",
    "   cv_auc_list1.append(auccv)"
   ]
  },
  {
   "cell_type": "code",
   "execution_count": 281,
   "metadata": {},
   "outputs": [
    {
     "data": {
      "image/png": "[encoded data removed]",
      "text/plain": [
       "<Figure size 432x288 with 1 Axes>"
      ]
     },
     "metadata": {
      "needs_background": "light"
     },
     "output_type": "display_data"
    }
   ],
   "source": [
    "plot_auc(train_auc_list1,cv_auc_list1)"
   ]
  },
  {
   "cell_type": "markdown",
   "metadata": {},
   "source": [
    "the best hyperparameter is 0.001"
   ]
  },
  {
   "cell_type": "code",
   "execution_count": 282,
   "metadata": {},
   "outputs": [],
   "source": [
    "clf = LogisticRegression(penalty='l2',C=0.001,max_iter=1000,tol=0.1)\n",
    "clf.fit(X_tr1, y_tr)\n",
    "trpred=clf.predict(X_tr1)\n",
    "testpred = clf.predict(X_test1)\n",
    "trprob=clf.predict_proba(X_tr1)[:,1] # Returns probability of positive class\n",
    "testprob = clf.predict_proba(X_test1)[:,1] \n",
    "auctr = roc_auc_score(y_tr,trprob)#auc of tranning data\n",
    "auctest = roc_auc_score(y_test,testprob)#auc of cross validation data"
   ]
  },
  {
   "cell_type": "code",
   "execution_count": 283,
   "metadata": {},
   "outputs": [
    {
     "data": {
      "text/plain": [
       "0.9243233308200574"
      ]
     },
     "execution_count": 283,
     "metadata": {},
     "output_type": "execute_result"
    }
   ],
   "source": [
    "auctest"
   ]
  },
  {
   "cell_type": "code",
   "execution_count": 284,
   "metadata": {},
   "outputs": [
    {
     "data": {
      "image/png": "[encoded data removed]",
      "text/plain": [
       "<Figure size 432x288 with 1 Axes>"
      ]
     },
     "metadata": {
      "needs_background": "light"
     },
     "output_type": "display_data"
    }
   ],
   "source": [
    "plot_roc(y_test,testprob,y_tr,trprob)"
   ]
  },
  {
   "cell_type": "markdown",
   "metadata": {},
   "source": [
    "# Confusion matrix train\n"
   ]
  },
  {
   "cell_type": "code",
   "execution_count": 285,
   "metadata": {},
   "outputs": [
    {
     "name": "stdout",
     "output_type": "stream",
     "text": [
      "Confusion matrix\n"
     ]
    },
    {
     "data": {
      "image/png": "[encoded data removed]",
      "text/plain": [
       "<Figure size 288x288 with 2 Axes>"
      ]
     },
     "metadata": {
      "needs_background": "light"
     },
     "output_type": "display_data"
    }
   ],
   "source": [
    "confusion_matrix_plot(y_tr, trpred)"
   ]
  },
  {
   "cell_type": "markdown",
   "metadata": {},
   "source": [
    "# Confusion matrix test\n"
   ]
  },
  {
   "cell_type": "code",
   "execution_count": 286,
   "metadata": {},
   "outputs": [
    {
     "name": "stdout",
     "output_type": "stream",
     "text": [
      "Confusion matrix\n"
     ]
    },
    {
     "data": {
      "image/png": "[encoded data removed]",
      "text/plain": [
       "<Figure size 288x288 with 2 Axes>"
      ]
     },
     "metadata": {
      "needs_background": "light"
     },
     "output_type": "display_data"
    }
   ],
   "source": [
    "confusion_matrix_plot(y_test, testpred)"
   ]
  },
  {
   "cell_type": "markdown",
   "metadata": {
    "colab_type": "text",
    "id": "UaJkugTKLPpE"
   },
   "source": [
    "#### [5.1.2.1] Performing pertubation test (multicollinearity check) on BOW,<font color='red'> SET 1</font>"
   ]
  },
  {
   "cell_type": "code",
   "execution_count": 287,
   "metadata": {
    "colab": {},
    "colab_type": "code",
    "id": "E1c5B1nELPpF"
   },
   "outputs": [
    {
     "name": "stdout",
     "output_type": "stream",
     "text": [
      "(43008, 8102)\n"
     ]
    }
   ],
   "source": [
    "import copy\n",
    "X_trcopy = copy.deepcopy(X_tr1)\n",
    "\n",
    "import numpy as np\n",
    "e = np.random.normal(0,0.0000001)\n",
    "\n",
    "X_trcopy.data = X_tr1.data + e  # Adding noise to train vector.\n",
    "print(X_trcopy.shape)"
   ]
  },
  {
   "cell_type": "code",
   "execution_count": 288,
   "metadata": {},
   "outputs": [],
   "source": [
    "noise_clf = LogisticRegression(penalty='l1',C=0.1)\n",
    "\n",
    "# Training final model\n",
    "noise_clf.fit(X_trcopy,y_tr)\n",
    "\n",
    "noise_wtvect = noise_clf.coef_\n",
    "\n",
    "# To remove divide by zero error we are adding very small value to both weight vectors.\n",
    "w = w + 0.000001\n",
    "noise_wtvect= noise_wtvect + 0.000001"
   ]
  },
  {
   "cell_type": "code",
   "execution_count": 289,
   "metadata": {},
   "outputs": [
    {
     "name": "stdout",
     "output_type": "stream",
     "text": [
      "percentage change is [[      0.               0.         2306492.0751324  ... 1566853.52021065\n",
      "        0.               0.        ]]\n"
     ]
    }
   ],
   "source": [
    "per_change = abs(((w - noise_wtvect)/w)) * 100\n",
    "print(\"percentage change is\",per_change)"
   ]
  },
  {
   "cell_type": "code",
   "execution_count": 290,
   "metadata": {},
   "outputs": [
    {
     "name": "stdout",
     "output_type": "stream",
     "text": [
      "[   0 8100 4052 ... 2517 7693 4346]\n"
     ]
    }
   ],
   "source": [
    "# Sorting percentage change list for elbow method\n",
    "sort_index = np.argsort(per_change[0])\n",
    "print(sort_index)\n",
    "\n",
    "sort_per_change = [math.log1p(per_change[0][i]) for i in sort_index]\n"
   ]
  },
  {
   "cell_type": "code",
   "execution_count": 291,
   "metadata": {},
   "outputs": [],
   "source": [
    "l=np.arange(len(sort_index))# we take total no of features as x axis "
   ]
  },
  {
   "cell_type": "code",
   "execution_count": 344,
   "metadata": {},
   "outputs": [
    {
     "data": {
      "image/png": "[encoded data removed]",
      "text/plain": [
       "<Figure size 432x432 with 1 Axes>"
      ]
     },
     "metadata": {
      "needs_background": "light"
     },
     "output_type": "display_data"
    }
   ],
   "source": [
    "import matplotlib.pyplot as plt\n",
    "plt.figure(figsize=(6,6))\n",
    "plt.plot(l,sort_per_change)\n",
    "plt.xlabel(\"features\")\n",
    "plt.ylabel(\"Percentage_change\")\n",
    "plt.show()"
   ]
  },
  {
   "cell_type": "markdown",
   "metadata": {},
   "source": [
    "taking threshold as 4"
   ]
  },
  {
   "cell_type": "code",
   "execution_count": 293,
   "metadata": {},
   "outputs": [
    {
     "name": "stderr",
     "output_type": "stream",
     "text": [
      "100%|██████████████████████████████████████████████████████████████████████████| 8102/8102 [00:00<00:00, 507659.97it/s]\n"
     ]
    }
   ],
   "source": [
    "# Getting index of percentage change greater than the threshold change\n",
    "# Threshold value of percentage change is 0.00% . This means we will remove features whose weight changed more than 0.0%.\n",
    "per_change_index =[]\n",
    "for i in tqdm(range(len(per_change[0]))):\n",
    "    if(per_change[0][i]>4):\n",
    "        per_change_index.append(i)\n",
    "\n",
    "#print(len(per_change_index))"
   ]
  },
  {
   "cell_type": "code",
   "execution_count": 294,
   "metadata": {},
   "outputs": [
    {
     "name": "stderr",
     "output_type": "stream",
     "text": [
      "100%|█████████████████████████████████████████████████████████████████████████| 5429/5429 [00:00<00:00, 1089463.49it/s]\n"
     ]
    },
    {
     "name": "stdout",
     "output_type": "stream",
     "text": [
      "5429\n"
     ]
    }
   ],
   "source": [
    "multicolinear_features = []\n",
    "all_features = count_vect.get_feature_names()\n",
    "for i in tqdm(per_change_index):\n",
    "    multicolinear_features.append(all_features[i])\n",
    "\n",
    "print(len(multicolinear_features))"
   ]
  },
  {
   "cell_type": "code",
   "execution_count": 296,
   "metadata": {},
   "outputs": [
    {
     "name": "stdout",
     "output_type": "stream",
     "text": [
      "['ability', 'able', 'absent', 'absolute', 'absolutely', 'absolutly', 'absorb', 'absorbed', 'absurd', 'acai', 'accept', 'acceptable', 'accepted', 'access', 'accident', 'accidentally', 'accidents', 'accompanied', 'accompaniment', 'according', 'accordingly', 'accounts', 'accurate', 'accurately', 'accustomed', 'acerola', 'acesulfame', 'ache', 'aches', 'achieve', 'acid', 'acidic', 'acids', 'acquired', 'across', 'act', 'acted', 'active', 'activity', 'acts', 'actual', 'actually', 'ad', 'add', 'addict', 'addicted', 'addiction', 'addictive', 'adding', 'addition', 'additional', 'additionally', 'additions', 'additives', 'address', 'adds', 'adjusting', 'adjustment', 'adjustments', 'administration', 'admit', 'admittedly', 'adopted', 'adorable', 'adore', 'adores', 'ads', 'adult', 'advantage', 'advantages', 'adventure', 'adventurous', 'adverse', 'advertise', 'advertised', 'advertisement', 'advertises', 'advertising', 'advertized', 'advice', 'advised', 'affect', 'affected', 'affects', 'affordable', 'afghanistan', 'aficionado', 'aforementioned', 'afraid', 'africa', 'african', 'afterall', 'afternoon', 'aftertaste', 'aftertastes', 'afterward', 'afterwards', 'aged', 'ages', 'agility', 'aging', 'ago', 'agreed', 'ahead', 'ahmad', 'ahoy', 'ai', 'aid', 'aids', 'ailments', 'air', 'airtight', 'airy', 'akin', 'al', 'alas', 'alaska', 'alcohol', 'alcoholic', 'ale', 'alert', 'alertness', 'alfredo', 'alike', 'alittle', 'alkali', 'allergens', 'allergic', 'allergies', 'allow', 'allowance', 'allowed', 'allowing', 'allows', 'almonds', 'almost', 'alone', 'along', 'alongside', 'alot', 'already', 'alright', 'also', 'altered', 'alternate', 'alternative', 'alternatives', 'altho', 'although', 'altitude', 'altura', 'aluminum', 'alway', 'always', 'amateur', 'amazed', 'amazing', 'amazingly', 'amazon', 'amazons', 'amber', 'ambrosia', 'america', 'american', 'americano', 'amish', 'amon', 'among', 'amongst', 'amount', 'amounts', 'amy', 'analysis', 'anchovies', 'angeles', 'angry', 'animal', 'animals', 'anise', 'annie', 'annoying', 'another', 'answer', 'anticipate', 'anticipated', 'anticipation', 'antlers', 'ants', 'anxiety', 'anxious', 'anxiously', 'anybody', 'anymore', 'anyone', 'anything', 'anytime', 'anyway', 'anywhere', 'apart', 'apiece', 'apo', 'appalled', 'apparent', 'apparently', 'appealed', 'appealing', 'appeals', 'appearance', 'appeared', 'appears', 'appetite', 'appetizing', 'applaud', 'application', 'applications', 'applied', 'applies', 'apply', 'appreciate', 'appreciated', 'appreciates', 'appreciation', 'apprehensive', 'approach', 'approaching', 'appropriately', 'approval', 'approve', 'approx', 'approximately', 'april', 'arabic', 'arabica', 'area', 'argentina', 'argue', 'arizona', 'arm', 'aroma', 'aromas', 'aromatic', 'around', 'arrangement', 'arrival', 'arrive', 'arrived', 'arrives', 'arriving', 'art', 'article', 'artifical', 'artificial', 'artificially', 'asap', 'ascorbic', 'ash', 'ashamed', 'asian', 'ask', 'asked', 'asks', 'asleep', 'aspartame', 'aspect', 'assam', 'associate', 'associated', 'association', 'assorted', 'assumed', 'assuming', 'asthma', 'astronaut', 'ate', 'athlete', 'atlanta', 'attached', 'attack', 'attempted', 'attempting', 'attempts', 'attention', 'attitude', 'attracted', 'attraction', 'au', 'august', 'aunt', 'aussie', 'austin', 'australian', 'authentic', 'autumn', 'avail', 'available', 'average', 'avid', 'avocados', 'avoderm', 'avoid', 'avoided', 'avoiding', 'avoids', 'awaiting', 'award', 'away', 'awesome', 'awful', 'awfully', 'awhile', 'awkward', 'awsome', 'babies', 'baby', 'back', 'backed', 'background', 'backpack', 'backup', 'bacon', 'bad', 'badly', 'bagel', 'bagels', 'bagged', 'baggie', 'baggies', 'bags', 'bait', 'baked', 'baker', 'bakes', 'baking', 'balance', 'balanced', 'balances', 'balancing', 'balls', 'bamboo', 'banana', 'band', 'bang', 'bank', 'banned', 'barbara', 'barbecue', 'bare', 'barely', 'bargain', 'bariani', 'bark', 'barry', 'base', 'based', 'basically', 'basics', 'basil', 'basis', 'basket', 'basmati', 'bat', 'batch', 'bath', 'bathroom', 'bay', 'bb', 'bc', 'beach', 'beagles', 'beans', 'bear', 'bearable', 'bears', 'beast', 'beat', 'beaten', 'beating', 'beats', 'beautiful', 'beautifully', 'became', 'become', 'beef', 'beer', 'beet', 'beets', 'beforehand', 'beg', 'begged', 'begging', 'begin', 'begins', 'begs', 'behold', 'belgian', 'believe', 'believed', 'believer', 'believing', 'bellies', 'belong', 'beneath', 'benefits', 'beneful', 'bengal', 'bent', 'bentley', 'beside', 'besides', 'best', 'bet', 'better', 'betty', 'beverages', 'beware', 'bht', 'bi', 'biased', 'bicarbonate', 'bigelow', 'bigger', 'biggest', 'bill', 'bin', 'bird', 'birthday', 'biscuit', 'biscuits', 'bit', 'bite', 'bites', 'biting', 'bitter', 'bitters', 'bittersweet', 'bitty', 'bj', 'blackberry', 'blah', 'blair', 'blame', 'bland', 'blandness', 'blanket', 'blast', 'bleached', 'blech', 'bleeding', 'blend', 'blended', 'blending', 'blends', 'bless', 'blessed', 'blessing', 'blew', 'bliss', 'blob', 'blocks', 'blonde', 'blood', 'bloom', 'blow', 'blueberry', 'board', 'boat', 'bob', 'bodied', 'bodies', 'boiled', 'boiling', 'boils', 'bold', 'bolder', 'boldness', 'bomb', 'bombs', 'boneless', 'bonsai', 'bonus', 'boo', 'books', 'boost', 'boosting', 'boot', 'boring', 'boss', 'boston', 'bother', 'bothered', 'bothers', 'bottle', 'bottles', 'bottling', 'bottoms', 'bought', 'bouillon', 'bound', 'bourbon', 'bout', 'bowel', 'bowels', 'bowl', 'box', 'boxer', 'boxes', 'boy', 'boyardee', 'boyfriend', 'boys', 'brain', 'brainer', 'brains', 'bran', 'brand', 'brands', 'bravo', 'brazil', 'brazilian', 'bread', 'breaded', 'breads', 'break', 'breakage', 'breakdown', 'breakfast', 'breakfasts', 'breaks', 'breastfeeding', 'breastmilk', 'breasts', 'breath', 'breathe', 'breed', 'breeder', 'breeze', 'brew', 'brewed', 'brewers', 'brews', 'brick', 'brief', 'bright', 'brighter', 'bring', 'brings', 'british', 'brittle', 'broccoli', 'broke', 'broken', 'broth', 'brother', 'brothers', 'brought', 'brown', 'browned', 'brownie', 'brownies', 'brulee', 'brunch', 'brush', 'brushing', 'bubble', 'bubbles', 'buck', 'bucket', 'bucks', 'buckwheat', 'bud', 'buddies', 'buds', 'buffet', 'bugs', 'build', 'built', 'bulk', 'bulky', 'bull', 'bullion', 'bully', 'bummed', 'bummer', 'bump', 'bumps', 'bun', 'bundle', 'bunnies', 'buns', 'burgers', 'buried', 'burned', 'burning', 'burns', 'burnt', 'burrito', 'burritos', 'bursting', 'bury', 'business', 'butcher', 'buttered', 'buttermilk', 'butters', 'butterscotch', 'buy', 'buying', 'bye', 'byproducts', 'ca', 'cabinet', 'cabinets', 'cadbury', 'caesar', 'caff', 'caffe', 'cage', 'cairn', 'cajun', 'cal', 'calculate', 'call', 'called', 'calling', 'calm', 'calming', 'calms', 'caloric', 'calorie', 'calories', 'came', 'camp', 'camping', 'canadian', 'cancel', 'canceled', 'cancelled', 'cancer', 'candied', 'candies', 'candy', 'canidae', 'canin', 'canine', 'canister', 'canisters', 'canned', 'cannot', 'cans', 'cant', 'cappuccino', 'cappuccinos', 'caps', 'capsule', 'capsules', 'car', 'caramel', 'caramels', 'carb', 'carbohydrate', 'carbonated', 'carbs', 'card', 'cardamom', 'cardboard', 'cards', 'care', 'careful', 'carefully', 'cares', 'carmel', 'carnation', 'carnivores', 'carousel', 'carpet', 'carried', 'carries', 'carrots', 'carry', 'carrying', 'cart', 'carton', 'cartons', 'cascadian', 'case', 'casein', 'cases', 'cashews', 'casing', 'castor', 'cat', 'catching', 'category', 'cats', 'caught', 'cauliflower', 'cause', 'caused', 'causes', 'causing', 'caution', 'cautious', 'cavalier', 'caveat', 'cavities', 'cayenne', 'celestial', 'cellophane', 'cent', 'center', 'centers', 'cento', 'cents', 'century', 'ceramic', 'certainly', 'certified', 'cesar', 'cet', 'ceylon', 'chai', 'chain', 'chains', 'chalk', 'chamomile', 'champagne', 'chance', 'change', 'changed', 'changes', 'character', 'characteristic', 'characteristics', 'charge', 'charged', 'charges', 'charging', 'charity', 'charles', 'charm', 'chaser', 'cheap', 'cheaper', 'cheaply', 'cheated', 'cheating', 'check', 'checked', 'checking', 'cheddar', 'cheerios', 'cheese', 'cheeseburger', 'cheesecake', 'cheeses', 'cheesy', 'cheetos', 'cheez', 'chemical', 'chemically', 'chemicals', 'chest', 'chestnuts', 'chew', 'chewed', 'chewer', 'chewers', 'chewier', 'chewies', 'chewiness', 'chewing', 'chews', 'chewy', 'chick', 'chickens', 'chicory', 'chihuahua', 'child', 'childhood', 'chile', 'chilled', 'china', 'chinese', 'chip', 'chipotle', 'chips', 'chloride', 'chocoholic', 'chocolately', 'chocolates', 'chocolatey', 'chocolaty', 'choice', 'choices', 'choke', 'choked', 'choking', 'cholesterol', 'chomping', 'choose', 'chop', 'chopped', 'chore', 'chose', 'chosen', 'chow', 'christmas', 'chuck', 'chug', 'chunks', 'church', 'chutney', 'cinnamon', 'circle', 'citric', 'citrus', 'citrusy', 'city', 'claim', 'claimed', 'claiming', 'claims', 'clam', 'clams', 'class', 'classic', 'clean', 'cleaned', 'cleaner', 'cleaning', 'cleans', 'cleanse', 'cleanup', 'clearance', 'cleared', 'clearly', 'click', 'clicker', 'clients', 'clif', 'climate', 'climbing', 'clinic', 'clogged', 'close', 'closely', 'closer', 'closest', 'closet', 'closure', 'cloth', 'clothing', 'cloudy', 'clove', 'cloyingly', 'club', 'clubs', 'clump', 'clumped', 'clumping', 'clumps', 'clumpy', 'co', 'coarse', 'coat', 'coated', 'coats', 'cocaine', 'cocker', 'cocktail', 'cocoa', 'coconut', 'coconuts', 'code', 'cofee', 'coffee', 'coffeehouse', 'coffees', 'coins', 'coke', 'cola', 'colada', 'colas', 'cold', 'colder', 'colic', 'colleague', 'collection', 'college', 'collie', 'colombian', 'color', 'colored', 'colorings', 'colors', 'colour', 'columbia', 'columbian', 'combat', 'combination', 'combine', 'combines', 'come', 'comfortable', 'comfortably', 'comforting', 'command', 'commands', 'comment', 'commented', 'comments', 'commercials', 'commit', 'committed', 'common', 'community', 'companies', 'company', 'comparable', 'compare', 'compared', 'compares', 'comparing', 'compelled', 'competing', 'competitive', 'competitor', 'competitors', 'complain', 'complained', 'complaining', 'complaint', 'complaints', 'complements', 'complete', 'completed', 'completely', 'complex', 'compliments', 'components', 'compounds', 'compromise', 'compromised', 'computer', 'con', 'concentrate', 'concentration', 'concept', 'concerned', 'concerning', 'concerns', 'conclusion', 'concoctions', 'condiment', 'condiments', 'condition', 'conditioners', 'conditioning', 'conditions', 'cone', 'confections', 'confidence', 'confident', 'confirm', 'confirmed', 'confuse', 'confused', 'confusing', 'confusion', 'conjunction', 'connected', 'connection', 'conscience', 'conscious', 'consensus', 'consider', 'considerable', 'considerably', 'consideration', 'considered', 'considers', 'consistancy', 'consistantly', 'consistency', 'consistent', 'constant', 'constipation', 'construction', 'consume', 'contact', 'contacted', 'contain', 'contained', 'container', 'containers', 'contains', 'contamination', 'contents', 'continually', 'continue', 'continues', 'continuing', 'contrary', 'contrast', 'controversial', 'convenient', 'conveniently', 'conventional', 'convert', 'converted', 'convince', 'cook', 'cooked', 'cooker', 'cookies', 'cooking', 'cooks', 'cool', 'cooled', 'coon', 'corgi', 'coriander', 'corn', 'cornbread', 'corned', 'corner', 'corporate', 'correct', 'corrected', 'correctly', 'cost', 'costing', 'costly', 'costs', 'cotton', 'cough', 'coughing', 'could', 'count', 'counted', 'counter', 'counterpart', 'counterparts', 'countries', 'country', 'couple', 'coupled', 'coupon', 'course', 'cousin', 'cover', 'covered', 'covers', 'cow', 'coworker', 'coworkers', 'crab', 'crack', 'cracked', 'cracker', 'crackers', 'cracks', 'cramping', 'cramps', 'cranberries', 'crap', 'crappy', 'crash', 'crate', 'crave', 'craving', 'crazy', 'creamer', 'creamier', 'creaminess', 'creams', 'creamy', 'create', 'creating', 'creation', 'creations', 'creative', 'creator', 'creepy', 'crema', 'creme', 'crf', 'cried', 'cringe', 'crispier', 'crispiness', 'crispy', 'criteria', 'critical', 'criticism', 'critter', 'critters', 'crocker', 'crop', 'crossed', 'croutons', 'crowd', 'crown', 'crumb', 'crumbles', 'crumbling', 'crumbs', 'crunchier', 'crunchiness', 'crunchy', 'crushed', 'crust', 'crusts', 'crusty', 'crying', 'crystal', 'crystallized', 'ct', 'cube', 'cucumber', 'culinary', 'culprit', 'culture', 'cultured', 'cup', 'cupboard', 'cupcake', 'cuppa', 'cure', 'cured', 'curiosity', 'curls', 'curly', 'currant', 'current', 'currently', 'curries', 'curry', 'custom', 'customer', 'cute', 'cuts', 'cutter', 'cuz', 'cycle', 'da', 'dab', 'dachshund', 'dachshunds', 'daddy', 'daily', 'dairy', 'daisy', 'dal', 'damaged', 'damn', 'damp', 'dandruff', 'dang', 'danger', 'dangerous', 'dangers', 'danish', 'darjeeling', 'dark', 'darkest', 'darned', 'date', 'dated', 'daughter', 'dave', 'day', 'days', 'dead', 'deal', 'deals', 'dealt', 'deaths', 'debris', 'dec', 'decadent', 'decades', 'decaff', 'decaffeinated', 'decay', 'deceiving', 'december', 'decently', 'deceptive', 'decide', 'decided', 'decidedly', 'deciding', 'decision', 'decorate', 'decorated', 'decorating', 'decoration', 'decorations', 'decrease', 'decreased', 'deep', 'deeper', 'deeply', 'deer', 'deet', 'defeat', 'defeats', 'defective', 'definately', 'definatly', 'definetly', 'definite', 'definitely', 'definitly', 'degree', 'degrees', 'dehydrated', 'del', 'delay', 'delectable', 'deli', 'delicate', 'delicious', 'deliciousness', 'delicous', 'delight', 'delighted', 'delightful', 'delights', 'delish', 'deliver', 'delivered', 'deliveries', 'delivering', 'delivers', 'delivery', 'deluxe', 'denser', 'dent', 'dental', 'dente', 'dented', 'dentist', 'deodorant', 'depend', 'dependable', 'depending', 'depends', 'deployed', 'depressed', 'depth', 'derived', 'describe', 'described', 'describes', 'description', 'descriptions', 'desert', 'deserve', 'design', 'designed', 'desirable', 'desire', 'desired', 'desk', 'desperate', 'desperation', 'despite', 'dessert', 'desserts', 'destroy', 'destroyed', 'destroying', 'destroys', 'detail', 'detailed', 'details', 'detect', 'detected', 'deter', 'determine', 'determined', 'detox', 'detract', 'detrimental', 'develop', 'developed', 'developing', 'devour', 'devoured', 'devouring', 'devours', 'dew', 'dha', 'di', 'diagnosed', 'diameter', 'diamond', 'diarrhea', 'dice', 'diced', 'didnt', 'died', 'diego', 'diet', 'dieter', 'diets', 'difference', 'differences', 'different', 'differently', 'difficult', 'dig', 'digest', 'digested', 'digestible', 'digestion', 'digestive', 'dill', 'dilute', 'diluted', 'diner', 'dingo', 'dino', 'dinosaur', 'dip', 'dipped', 'dips', 'direct', 'directly', 'dirt', 'dirty', 'disagree', 'disapointed', 'disappear', 'disappearing', 'disappoint', 'disappointed', 'disappointing', 'disappointment', 'disaster', 'disc', 'discard', 'discern', 'discernable', 'disclaimer', 'disclosure', 'discolored', 'discontinue', 'discontinued', 'discount', 'discounted', 'discounts', 'discover', 'discovered', 'discovering', 'discovery', 'discs', 'disguise', 'disgusted', 'disgusting', 'dishes', 'dishwasher', 'dislike', 'disliked', 'dismay', 'dispense', 'dispensed', 'dispenser', 'dispensers', 'dispensing', 'display', 'displeased', 'dispose', 'dissapointed', 'dissappointed', 'dissatisfied', 'dissolve', 'dissolved', 'dissolves', 'dissolving', 'distance', 'distant', 'distilled', 'distinctive', 'distract', 'distribute', 'distribution', 'divide', 'divided', 'divine', 'doberman', 'doc', 'doctoring', 'doctors', 'doesnt', 'dog', 'dogfood', 'doggie', 'doggies', 'doggy', 'dogs', 'dogswell', 'dollar', 'dollars', 'dollop', 'domestic', 'dominate', 'donate', 'donated', 'donating', 'done', 'dont', 'donut', 'donuts', 'door', 'doors', 'doritos', 'dorm', 'dosage', 'dose', 'doses', 'doubled', 'doubles', 'doubt', 'doubtful', 'doubts', 'dough', 'doughnut', 'dove', 'downright', 'downside', 'dozen', 'dr', 'dragon', 'drain', 'draining', 'dramatically', 'drastically', 'draw', 'drawback', 'drawing', 'dreaded', 'dreadful', 'dream', 'dreamfields', 'dreams', 'dress', 'dressing', 'dressings', 'drinkable', 'drinker', 'drinkers', 'drinking', 'drinks', 'dripping', 'drips', 'driven', 'drizzled', 'drop', 'dropper', 'dropping', 'drops', 'drove', 'drug', 'drugs', 'drunk', 'dryer', 'drying', 'dryness', 'dubious', 'duck', 'due', 'duh', 'dulce', 'dull', 'dumb', 'dump', 'dumped', 'duncan', 'dunk', 'dunno', 'duplicate', 'durability', 'dust', 'dusting', 'dusty', 'duty', 'dye', 'dying', 'ea', 'eagerly', 'earl', 'earn', 'earned', 'ears', 'earth', 'earths', 'earthy', 'ease', 'easier', 'easiest', 'easily', 'east', 'easter', 'easy', 'eat', 'eaters', 'eatin', 'eating', 'eats', 'eb', 'ebay', 'eco', 'economic', 'economical', 'economically', 'ecstatic', 'ect', 'ed', 'eden', 'edge', 'edges', 'edible', 'edition', 'effect', 'effective', 'effectively', 'effects', 'efficiently', 'effort', 'efforts', 'egg', 'eggnog', 'eggs', 'eh', 'eight', 'el', 'elated', 'elbow', 'elderly', 'electric', 'electrolytes', 'elegant', 'elements', 'eligible', 'eliminated', 'eliminates', 'else', 'elsewhere', 'em', 'email', 'emails', 'embarrassed', 'embarrassing', 'emerald', 'emergency', 'emeril', 'employee', 'emptied', 'enchilada', 'enclosed', 'encounter', 'encountered', 'end', 'ended', 'endless', 'endorsement', 'ends', 'energetic', 'energizing', 'england', 'enhance', 'enhanced', 'enhancer', 'enhances', 'enhancing', 'enjoy', 'enjoyable', 'enjoyed', 'enjoying', 'enjoyment', 'enjoys', 'enough', 'enriched', 'entertain', 'entertained', 'entertaining', 'enthusiasm', 'enthusiastic', 'entire', 'entirely', 'entree', 'envelope', 'environmental', 'environmentally', 'enzyme', 'enzymes', 'epic', 'episode', 'equal', 'equipment', 'equivalent', 'era', 'erh', 'erythritol', 'es', 'escape', 'escapes', 'esp', 'espresso', 'essential', 'essentially', 'established', 'ethical', 'ethnic', 'eukanuba', 'european', 'evaporated', 'even', 'evening', 'evenly', 'event', 'events', 'eventually', 'ever', 'every', 'everybody', 'everyday', 'everyone', 'everything', 'everytime', 'everywhere', 'evident', 'evidently', 'evil', 'exact', 'exactly', 'exaggerating', 'examine', 'exceeded', 'exceeds', 'excellant', 'excellence', 'excellent', 'except', 'exception', 'exceptional', 'exceptionally', 'excess', 'excessive', 'excessively', 'exchange', 'excited', 'excitement', 'exclusive', 'excuse', 'exercise', 'exercising', 'exhausted', 'existent', 'exists', 'exorbitant', 'exp', 'expand', 'expectations', 'expected', 'expecting', 'expense', 'expensive', 'experience', 'experienced', 'experiencing', 'experiment', 'experimentation', 'experimented', 'expert', 'expiration', 'expire', 'expired', 'expires', 'expiry', 'explaining', 'explanation', 'explode', 'explore', 'exposed', 'exposure', 'expresso', 'extend', 'extended', 'extra', 'extraordinary', 'extras', 'extreme', 'extremely', 'eye', 'eyes', 'fabulous', 'face', 'fact', 'factor', 'factory', 'facts', 'fade', 'fail', 'failed', 'failing', 'fails', 'failure', 'faint', 'fair', 'fairly', 'fairness', 'faith', 'fajitas', 'fake', 'fall', 'falling', 'falls', 'false', 'familiar', 'family', 'famous', 'fan', 'fanatic', 'fancier', 'fancy', 'fantastic', 'fantastically', 'far', 'fare', 'farm', 'farmers', 'farms', 'farts', 'fast', 'faster', 'fastest', 'father', 'fats', 'fattening', 'faulty', 'faux', 'fav', 'favorable', 'favorite', 'favorites', 'favors', 'favourite', 'fda', 'fear', 'feast', 'feature', 'featured', 'feb', 'fed', 'federal', 'fedex', 'fee', 'feed', 'feedback', 'feeder', 'feeding', 'feedings', 'feeds', 'feel', 'feeling', 'feelings', 'feet', 'felidae', 'fell', 'fellow', 'felt', 'fence', 'fenugreek', 'fermentation', 'fermented', 'fertilizer', 'festival', 'fewer', 'fiance', 'fiber', 'fields', 'fiend', 'fifteen', 'fifty', 'fight', 'figs', 'figured', 'figuring', 'file', 'filet', 'fill', 'filler', 'fillers', 'filling', 'fillings', 'fills', 'film', 'filter', 'filtered', 'filters', 'finally', 'find', 'finding', 'finds', 'fine', 'finely', 'finer', 'finest', 'fingers', 'finicky', 'finish', 'finished', 'finishes', 'finishing', 'fire', 'firm', 'firmer', 'fish', 'fit', 'fits', 'fitting', 'five', 'fix', 'fixed', 'fixes', 'fizzy', 'fl', 'flakes', 'flaky', 'flare', 'flat', 'flattened', 'flavor', 'flavored', 'flavorful', 'flavoring', 'flavorless', 'flavors', 'flax', 'flaxseeds', 'flecks', 'flies', 'flimsy', 'flipped', 'float', 'floor', 'floored', 'floors', 'florets', 'florida', 'floss', 'flour', 'flours', 'flow', 'flower', 'flowers', 'flowery', 'flowing', 'flu', 'fluff', 'fluid', 'fluke', 'fly', 'flying', 'foamy', 'focus', 'foil', 'folded', 'folger', 'folic', 'folk', 'folks', 'follow', 'followed', 'follows', 'fond', 'fondant', 'food', 'foods', 'fool', 'fooled', 'foot', 'force', 'forcing', 'foremost', 'forest', 'forewarned', 'forget', 'forgot', 'forgotten', 'form', 'format', 'formed', 'formerly', 'forming', 'formula', 'formulas', 'formulated', 'fortified', 'fortunate', 'fortunately', 'fortune', 'forty', 'foul', 'fraction', 'fragile', 'fragments', 'fragrant', 'france', 'freak', 'freaked', 'freakin', 'fred', 'free', 'freely', 'freeze', 'freezer', 'freezing', 'french', 'frequently', 'fresh', 'freshest', 'freshly', 'freshness', 'fridge', 'fried', 'friend', 'friends', 'friskies', 'frontier', 'frost', 'froth', 'frothy', 'froze', 'frozen', 'fructose', 'frugal', 'fruit', 'fruity', 'frustrated', 'frustrating', 'frustration', 'frying', 'fudge', 'fuel', 'fuji', 'fulfilled', 'full', 'fun', 'functional', 'funky', 'funny', 'fur', 'furthermore', 'fusion', 'fuss', 'fussy', 'future', 'fuzzy', 'fyi', 'ga', 'gag', 'gagged', 'gagging', 'gained', 'gaining', 'gal', 'galileo', 'gallon', 'game', 'games', 'garage', 'garbage', 'garbanzo', 'garden', 'garlic', 'gary', 'gastric', 'gastrointestinal', 'gatherings', 'gave', 'geared', 'gelatin', 'gem', 'generally', 'generic', 'generous', 'generously', 'gently', 'genuine', 'genuinely', 'georgia', 'gerber', 'germany', 'gets', 'getting', 'gevalia', 'gf', 'gfcf', 'ghee', 'ghiradelli', 'ghirardelli', 'ghost', 'gi', 'gift', 'gifts', 'ginger', 'gingerbread', 'gingery', 'girl', 'girlfriend', 'girls', 'give', 'gives', 'giving', 'glad', 'glance', 'glass', 'glasses', 'glaze', 'glazed', 'global', 'glorious', 'gloves', 'glowing', 'glucosamine', 'glucose', 'glue', 'glutamate', 'glutino', 'glycemic', 'gm', 'gmo', 'gnats', 'go', 'goat', 'goats', 'gobbled', 'gobbles', 'god', 'goes', 'going', 'goji', 'gold', 'golean', 'golf', 'gone', 'gonna', 'goo', 'good', 'goodbye', 'goodies', 'goodness', 'goods', 'google', 'googled', 'gorgeous', 'gosh', 'got', 'gotta', 'grab', 'grabbed', 'grabbing', 'grabs', 'grade', 'grades', 'graham', 'grain', 'grains', 'grainy', 'gram', 'grams', 'grandchildren', 'granddaughter', 'grandkids', 'grandma', 'grandmother', 'grandpa', 'grandson', 'granny', 'granola', 'granted', 'granulated', 'granules', 'grass', 'grassy', 'grateful', 'gray', 'grease', 'greasy', 'great', 'greater', 'greatest', 'greece', 'greenie', 'greenies', 'greens', 'greeted', 'grew', 'greyhound', 'grill', 'grilled', 'grilling', 'grinds', 'gripe', 'grit', 'gritty', 'grocer', 'groceries', 'grocers', 'grocery', 'gross', 'ground', 'grounds', 'group', 'groups', 'grove', 'grow', 'growing', 'grown', 'gsd', 'guacamole', 'guar', 'guarana', 'guarantee', 'guaranteed', 'guess', 'guessed', 'guest', 'guests', 'guilt', 'guilty', 'gulp', 'gulps', 'gum', 'gummies', 'gummis', 'gunpowder', 'gustaf', 'gusto', 'gut', 'guy', 'guys', 'ha', 'habanero', 'habaneros', 'haha', 'hairballs', 'haired', 'half', 'halfway', 'halves', 'ham', 'hamburger', 'hamburgers', 'hammer', 'hand', 'handle', 'handled', 'handling', 'handmade', 'hands', 'handy', 'hang', 'happen', 'happened', 'happening', 'happens', 'happier', 'happiness', 'happy', 'happybellies', 'harbor', 'hard', 'hardened', 'harder', 'hardest', 'hardly', 'hardness', 'hardware', 'hardy', 'haribo', 'harm', 'harmful', 'harmless', 'harsh', 'harvest', 'harvested', 'hash', 'hassle', 'hated', 'hates', 'havent', 'hawaiian', 'hay', 'hazard', 'hazelnut', 'hazelnuts', 'headache', 'headaches', 'heads', 'healing', 'healthful', 'healthier', 'healthiest', 'healthwise', 'healthy', 'heaping', 'hear', 'heard', 'hearing', 'hears', 'heart', 'heartbeat', 'heartburn', 'hearty', 'heat', 'heating', 'heats', 'heaven', 'heavenly', 'heavier', 'heavily', 'heb', 'heck', 'heinz', 'held', 'hello', 'help', 'helped', 'helpful', 'helps', 'hemp', 'hence', 'herb', 'herbs', 'herring', 'hershey', 'hersheys', 'hesitant', 'hesitate', 'hesitated', 'hey', 'hfcs', 'hibiscus', 'hidden', 'hide', 'hiding', 'high', 'higher', 'highest', 'highly', 'highway', 'hike', 'hilarious', 'hill', 'hills', 'himalayan', 'hit', 'hits', 'hmmm', 'hmmmm', 'ho', 'hodgson', 'holding', 'holds', 'hole', 'holes', 'holidays', 'holistic', 'holland', 'hollow', 'home', 'homeless', 'homemade', 'homework', 'honestly', 'honey', 'hook', 'hooked', 'hooray', 'hope', 'hoped', 'hopeful', 'hopefully', 'hopes', 'hoping', 'hormones', 'horrendous', 'horrible', 'horribly', 'horrified', 'horror', 'hospital', 'hostess', 'hot', 'hotter', 'hottest', 'hounds', 'hour', 'hours', 'house', 'household', 'houses', 'houtte', 'however', 'huckleberry', 'huh', 'hulls', 'hum', 'humble', 'humid', 'hundred', 'hundreds', 'hung', 'hungry', 'hunting', 'hurricane', 'hurry', 'hurt', 'hurting', 'hurts', 'husband', 'husbands', 'husk', 'husks', 'hydrate', 'hydrated', 'hydration', 'hydrochloride', 'hydrogenated', 'hydrolyzed', 'hygiene', 'hype', 'ice', 'iced', 'icicle', 'ick', 'icky', 'id', 'idea', 'ideas', 'identical', 'ignore', 'ignored', 'ii', 'ill', 'illegal', 'illness', 'im', 'image', 'imaginable', 'imagination', 'imagine', 'imagined', 'imitation', 'immediately', 'immensely', 'imo', 'impact', 'impart', 'imparts', 'important', 'importantly', 'imported', 'imports', 'impossible', 'impressed', 'impression', 'impressive', 'improve', 'improved', 'improvement', 'improves', 'improving', 'impulse', 'inch', 'incident', 'include', 'includes', 'income', 'inconsistent', 'inconvenient', 'incorporate', 'incorporated', 'incorporating', 'incorrectly', 'increase', 'increases', 'increasingly', 'incredible', 'incredibly', 'indeed', 'independent', 'india', 'indian', 'indicated', 'indicates', 'indication', 'indigestion', 'individual', 'individually', 'indoor', 'indoors', 'indulge', 'indulgence', 'indulgent', 'industrial', 'industry', 'inedible', 'infected', 'infection', 'infections', 'inferior', 'inflammatory', 'inflated', 'info', 'inform', 'information', 'infuser', 'ingest', 'ingested', 'ingrediants', 'ingredient', 'ingredients', 'inhale', 'inhaled', 'inhaling', 'initial', 'initially', 'ink', 'inner', 'innova', 'input', 'insane', 'insanely', 'inside', 'insist', 'insisted', 'inspected', 'inspired', 'instant', 'instantly', 'instead', 'instructed', 'instructions', 'insulated', 'insulin', 'intact', 'intake', 'intend', 'intense', 'intensity', 'interest', 'interested', 'interesting', 'interestingly', 'internal', 'international', 'internet', 'intolerant', 'introduce', 'introduced', 'introducing', 'introduction', 'inulin', 'invented', 'inventory', 'invest', 'investment', 'invigorating', 'inviting', 'involve', 'involved', 'ireland', 'ironically', 'irresistible', 'irritable', 'irritated', 'irritating', 'island', 'isle', 'issue', 'issued', 'italian', 'itch', 'itchy', 'item', 'items', 'ive', 'izze', 'jack', 'jam', 'jamaican', 'jams', 'january', 'japanese', 'jar', 'jarred', 'jars', 'jasmine', 'java', 'jaw', 'jaws', 'jazz', 'jean', 'jell', 'jellies', 'jello', 'jerk', 'jerky', 'jersey', 'jim', 'jitters', 'jittery', 'joe', 'joes', 'join', 'joined', 'joints', 'joke', 'jolly', 'jolt', 'journal', 'journey', 'joy', 'jr', 'judge', 'judging', 'juice', 'juices', 'july', 'jump', 'jumping', 'jumps', 'june', 'junk', 'junkie', 'justice', 'justify', 'kale', 'kashi', 'kcups', 'keebler', 'keen', 'keep', 'keeping', 'keeps', 'kellogg', 'kelloggs', 'kelp', 'kenya', 'kenyan', 'kernals', 'kernels', 'ketchup', 'kettle', 'keurig', 'key', 'kibbles', 'kick', 'kicked', 'kicks', 'kid', 'kidding', 'kiddos', 'kidneys', 'kids', 'kili', 'killer', 'kimchi', 'kind', 'kinda', 'kinds', 'kirkland', 'kitchens', 'kits', 'kittens', 'kitties', 'kitty', 'kiwi', 'knee', 'knees', 'knife', 'knock', 'knocked', 'knorr', 'know', 'knowing', 'knowledge', 'known', 'kona', 'kong', 'kongs', 'kopi', 'korea', 'korean', 'kosher', 'kraft', 'krispies', 'krusteaz', 'kuerig', 'kups', 'kurig', 'la', 'lab', 'label', 'labeling', 'labelled', 'labels', 'lack', 'lacked', 'lacking', 'lacks', 'lady', 'laid', 'lake', 'lamb', 'land', 'language', 'lanka', 'larabars', 'large', 'largely', 'largest', 'larry', 'last', 'lasting', 'lastly', 'lasts', 'late', 'lately', 'latest', 'lather', 'lathers', 'latte', 'latter', 'lattes', 'law', 'lawn', 'layers', 'lays', 'lazy', 'lb', 'lbs', 'lea', 'leads', 'leafy', 'league', 'leak', 'leakage', 'leaked', 'leaking', 'leaks', 'lean', 'learn', 'leash', 'least', 'leather', 'leathery', 'leave', 'leaves', 'leaving', 'lecithin', 'leery', 'left', 'legged', 'legs', 'lemonade', 'lend', 'lends', 'length', 'lentil', 'less', 'lesser', 'lesson', 'lethargic', 'lets', 'letter', 'lettuce', 'libby', 'lick', 'licked', 'licks', 'licorice', 'lid', 'lie', 'lies', 'lieu', 'life', 'lifesaver', 'lifesavers', 'lifestyle', 'lifetime', 'lift', 'lighter', 'lightly', 'lightness', 'lightning', 'lights', 'lightweight', 'like', 'liked', 'likes', 'likewise', 'liking', 'lil', 'lily', 'lime', 'limes', 'limited', 'limits', 'limp', 'lindt', 'lined', 'lines', 'linger', 'lingering', 'lingers', 'lining', 'link', 'linked', 'lion', 'lipton', 'liqueur', 'liquid', 'liquids', 'liquor', 'list', 'listed', 'listened', 'listing', 'lists', 'liter', 'literally', 'litter', 'little', 'live', 'lived', 'liver', 'lives', 'living', 'lo', 'load', 'loading', 'loaf', 'lobster', 'local', 'locally', 'locate', 'located', 'location', 'locations', 'lock', 'lol', 'london', 'long', 'longer', 'longest', 'longevity', 'looked', 'looking', 'lookout', 'looks', 'loosing', 'lose', 'loses', 'lost', 'lot', 'lots', 'loud', 'lousy', 'love', 'loved', 'lovely', 'lover', 'lovers', 'loves', 'loving', 'lower', 'lowered', 'lowers', 'lowest', 'lowfat', 'loyal', 'luck', 'luckily', 'lucky', 'lucy', 'lump', 'lumps', 'lumpy', 'luna', 'lunch', 'lunchbox', 'lunchtime', 'luscious', 'lush', 'luv', 'luxury', 'lying', 'macaroni', 'machine', 'machines', 'mad', 'madagascar', 'madras', 'magazine', 'magnificent', 'mahogany', 'maid', 'mail', 'mailbox', 'mailing', 'main', 'maine', 'mainly', 'mainstream', 'maintain', 'maintaining', 'maintains', 'maintenance', 'major', 'majority', 'make', 'maker', 'makers', 'makes', 'making', 'male', 'mall', 'malt', 'malted', 'maltese', 'maltitol', 'malty', 'man', 'manage', 'manageable', 'managed', 'management', 'manager', 'manages', 'mandarin', 'mangoes', 'mangos', 'manner', 'manual', 'manufactured', 'manufacturer', 'manufacturers', 'manufacturing', 'many', 'maple', 'march', 'margaritas', 'marginally', 'marinade', 'marinate', 'marinated', 'mark', 'marked', 'markers', 'market', 'marketed', 'marketing', 'marketplace', 'marks', 'mars', 'marshmallow', 'martini', 'maruchan', 'marvelous', 'mary', 'maryland', 'marzipan', 'masala', 'mash', 'mask', 'mason', 'mass', 'master', 'mastered', 'masters', 'mat', 'match', 'matches', 'matching', 'material', 'materials', 'mates', 'math', 'matter', 'mature', 'mauna', 'may', 'maybe', 'mayo', 'mccormick', 'md', 'meal', 'meals', 'mealy', 'mean', 'meaning', 'means', 'meantime', 'measure', 'measurement', 'measurements', 'measures', 'measuring', 'meat', 'meatloaf', 'meats', 'meaty', 'med', 'medical', 'medication', 'medications', 'medicinal', 'medicine', 'mediocre', 'mediterranean', 'meds', 'meeting', 'meets', 'mega', 'mellow', 'melt', 'melted', 'melting', 'member', 'memorable', 'memories', 'memory', 'men', 'menadione', 'menthol', 'mention', 'mentioned', 'mentioning', 'mentions', 'meow', 'merchant', 'mercury', 'merely', 'mesh', 'mess', 'messed', 'messes', 'messing', 'met', 'metallic', 'method', 'methods', 'mi', 'miami', 'michigan', 'micro', 'microwavable', 'microwave', 'microwaveable', 'microwaved', 'microwaving', 'midday', 'middle', 'midwest', 'might', 'mighty', 'migraines', 'mike', 'mild', 'milder', 'miles', 'military', 'milks', 'milky', 'mill', 'milled', 'milligrams', 'million', 'mills', 'minced', 'mind', 'minds', 'mine', 'minerals', 'miniature', 'minimal', 'minimum', 'minis', 'mins', 'mint', 'minus', 'minutes', 'miraculous', 'miserable', 'misleading', 'miso', 'missed', 'missing', 'mission', 'mistake', 'mistaken', 'mistakenly', 'mix', 'mixed', 'mixer', 'mixes', 'mixture', 'ml', 'mmm', 'mmmm', 'mmmmm', 'mocha', 'mochi', 'mode', 'model', 'moderate', 'moderation', 'modern', 'modest', 'modified', 'moist', 'moisten', 'moisture', 'molasses', 'mold', 'molded', 'moldy', 'mom', 'money', 'monin', 'monitor', 'monounsaturated', 'monster', 'month', 'monthly', 'months', 'moon', 'morning', 'mornings', 'morsels', 'mortar', 'moss', 'mostly', 'mother', 'mothers', 'motion', 'motivated', 'motor', 'mounds', 'mountains', 'mouse', 'mousse', 'mouth', 'mouthfeel', 'move', 'moved', 'movement', 'moves', 'movie', 'movies', 'moving', 'mozzarella', 'ms', 'msg', 'mt', 'much', 'muddy', 'muesli', 'multi', 'multigrain', 'munchies', 'munching', 'munchos', 'muscle', 'mush', 'mushrooms', 'mushy', 'music', 'must', 'mustard', 'mutt', 'mysterious', 'mystery', 'nail', 'nails', 'naked', 'name', 'names', 'nana', 'nantucket', 'napkin', 'narrow', 'nasty', 'national', 'native', 'natural', 'naturally', 'nature', 'natures', 'nausea', 'nauseating', 'nauseous', 'navitas', 'nc', 'near', 'nearest', 'nearly', 'neat', 'neatly', 'necessarily', 'necessary', 'neck', 'nectar', 'need', 'needed', 'needless', 'needs', 'negative', 'negatively', 'neighbor', 'neighborhood', 'neighbors', 'neither', 'nephew', 'nephews', 'nescafe', 'nespresso', 'nestle', 'never', 'newborn', 'newer', 'newest', 'newman', 'news', 'newtons', 'next', 'nice', 'nicely', 'nicer', 'niece', 'night', 'nightly', 'nightmare', 'nine', 'nipple', 'nirvana', 'nobody', 'noise', 'non', 'nonetheless', 'nonfat', 'noodle', 'noodles', 'nope', 'nor', 'nori', 'norm', 'normally', 'northwest', 'nose', 'nostalgia', 'nostalgic', 'not', 'notch', 'note', 'noted', 'nothing', 'noticable', 'notice', 'noticeably', 'noticed', 'noticing', 'notified', 'nourish', 'nourishing', 'novel', 'novelty', 'november', 'novice', 'nowhere', 'nt', 'nuggets', 'nuke', 'number', 'numi', 'nursing', 'nutella', 'nutiva', 'nutmeg', 'nutrasweet', 'nutrient', 'nutrients', 'nutrition', 'nutritionally', 'nutritious', 'nuts', 'nutshell', 'nuttier', 'nuttiness', 'nutty', 'ny', 'nylabones', 'nylon', 'oatmeal', 'oats', 'obedience', 'oberto', 'obesity', 'object', 'observation', 'observed', 'obsessed', 'obtain', 'obtained', 'obvious', 'obviously', 'occasional', 'occasionally', 'occasions', 'occupied', 'occupy', 'occur', 'occurred', 'occurring', 'occurs', 'ocean', 'october', 'odd', 'oddly', 'odor', 'offensive', 'offered', 'offering', 'offerings', 'official', 'officially', 'often', 'ohio', 'oils', 'oily', 'ok', 'okay', 'ol', 'old', 'older', 'ole', 'olives', 'omaha', 'omg', 'one', 'ones', 'onions', 'onto', 'oolong', 'op', 'opaque', 'open', 'opened', 'opener', 'opening', 'opens', 'operate', 'operated', 'opinion', 'opposed', 'opposite', 'opt', 'option', 'optional', 'options', 'oranges', 'orangina', 'orbit', 'order', 'ordered', 'ordering', 'orders', 'ordinary', 'oregon', 'oreos', 'organic', 'organics', 'origin', 'original', 'originally', 'orijen', 'orleans', 'orzo', 'os', 'others', 'ounce', 'ounces', 'outcome', 'outdated', 'outdoor', 'outdoors', 'outlet', 'outlets', 'outrageous', 'outside', 'outstanding', 'ovaltine', 'oven', 'overall', 'overcome', 'overcook', 'overdo', 'overeating', 'overkill', 'overly', 'overnight', 'overpowered', 'overpowering', 'overpowers', 'overpriced', 'overs', 'overseas', 'overtones', 'overweight', 'overwhelm', 'overwhelmed', 'overwhelming', 'overwhelmingly', 'overwhelms', 'owe', 'owned', 'owner', 'owners', 'owns', 'oxidants', 'oxidized', 'pa', 'pacific', 'package', 'packaged', 'packages', 'packed', 'packet', 'packets', 'packing', 'packs', 'padding', 'page', 'paid', 'painful', 'pains', 'pair', 'paired', 'pak', 'palatable', 'palates', 'pale', 'paleo', 'pallet', 'palm', 'pam', 'pamela', 'pancake', 'pancakes', 'panel', 'pans', 'pants', 'paper', 'paprika', 'par', 'parent', 'park', 'parmesan', 'parsley', 'part', 'partial', 'partially', 'particles', 'particular', 'parties', 'partly', 'partner', 'parts', 'pass', 'passed', 'passes', 'passion', 'past', 'pasta', 'pastas', 'pastries', 'pastry', 'pasty', 'pat', 'patch', 'pate', 'patent', 'path', 'pathetic', 'patients', 'pattern', 'patties', 'paul', 'pause', 'pay', 'paying', 'pc', 'pea', 'peace', 'peach', 'peaches', 'peanut', 'peanuts', 'peanutty', 'pear', 'pears', 'pebbles', 'pecan', 'pecans', 'peculiar', 'pediatrician', 'pedigree', 'peeled', 'peet', 'peets', 'pen', 'pencil', 'pennsylvania', 'penny', 'people', 'peoples', 'pep', 'pepper', 'peppercorn', 'peppercorns', 'peppermint', 'pepperoni', 'peppers', 'peppery', 'per', 'percent', 'percentage', 'percolator', 'perfect', 'perfection', 'perfectly', 'performance', 'performed', 'perfume', 'perhaps', 'period', 'periodically', 'periods', 'perk', 'permanent', 'persian', 'person', 'personal', 'perspective', 'pesto', 'peter', 'petite', 'pets', 'petsmart', 'pez', 'phase', 'phenomenal', 'phone', 'phosphate', 'photo', 'physical', 'physician', 'picante', 'pick', 'picked', 'pickiest', 'picking', 'pickle', 'pickled', 'picks', 'pickup', 'picky', 'picture', 'pictured', 'pictures', 'pie', 'piece', 'pieces', 'pies', 'pig', 'pike', 'pile', 'pills', 'pillsbury', 'pin', 'pina', 'pinch', 'pine', 'pint', 'pirate', 'pistachio', 'pistachios', 'pit', 'pitbull', 'pitcher', 'pizzas', 'pkg', 'pkgs', 'place', 'placebo', 'placed', 'places', 'placing', 'plague', 'plain', 'plan', 'planning', 'plans', 'plantation', 'planter', 'planting', 'plants', 'plaque', 'plastic', 'play', 'played', 'playing', 'plays', 'pleasantly', 'please', 'pleased', 'pleasurable', 'pleasure', 'plentiful', 'plenty', 'pliable', 'plum', 'plump', 'plunge', 'pm', 'pocket', 'pocky', 'pod', 'pods', 'point', 'points', 'poison', 'poisoning', 'polish', 'pomegranate', 'pooch', 'pooches', 'poodles', 'poof', 'pool', 'poops', 'poor', 'poorly', 'popcorn', 'popped', 'popper', 'popping', 'pops', 'popular', 'population', 'porch', 'pork', 'porridge', 'portable', 'portion', 'portions', 'positive', 'positively', 'positives', 'possibilities', 'possibly', 'post', 'posted', 'poster', 'pot', 'potassium', 'potato', 'potatoe', 'potatoes', 'potatos', 'potency', 'potent', 'potentially', 'potpourri', 'pots', 'potting', 'potty', 'pouch', 'poultry', 'pounce', 'pound', 'pounds', 'poured', 'pouring', 'pours', 'powder', 'powdered', 'powders', 'powdery', 'powered', 'powerful', 'powers', 'practically', 'practice', 'practices', 'pre', 'precious', 'precise', 'precisely', 'predominant', 'prefer', 'preferable', 'preferably', 'preference', 'preferences', 'preferred', 'preferring', 'prefers', 'pregnancy', 'pregnant', 'premeasured', 'premier', 'premium', 'prep', 'prepackaged', 'preparation', 'preparing', 'prescribed', 'prescription', 'presence', 'presentation', 'presently', 'preserve', 'preserved', 'pressed', 'pressure', 'presto', 'presumably', 'pretty', 'pretzel', 'pretzels', 'prevent', 'prevented', 'preventing', 'prevention', 'prevents', 'previous', 'previously', 'price', 'priced', 'prices', 'pricey', 'pricier', 'pricing', 'pricy', 'pride', 'primal', 'primarily', 'primary', 'prince', 'pringles', 'print', 'printed', 'prior', 'pro', 'probably', 'probiotics', 'problem', 'problems', 'procedure', 'proceed', 'proceeded', 'proceeds', 'processed', 'processes', 'processing', 'processor', 'produce', 'produced', 'producer', 'producers', 'produces', 'product', 'products', 'professional', 'professionally', 'profile', 'profit', 'program', 'prohibitive', 'prominent', 'promise', 'promised', 'promises', 'promising', 'promote', 'prompt', 'prompted', 'promptly', 'pronounce', 'pronounced', 'proof', 'proper', 'properly', 'proportion', 'proportions', 'pros', 'protect', 'protection', 'protective', 'proteins', 'protien', 'proud', 'prove', 'proven', 'proves', 'provide', 'provided', 'provides', 'prune', 'ps', 'pu', 'public', 'pudding', 'puffed', 'pull', 'pulled', 'pulling', 'pulls', 'pulp', 'pumping', 'pumpkin', 'pumps', 'pun', 'pungent', 'pup', 'puppies', 'pups', 'purchase', 'purchased', 'purchases', 'pure', 'puree', 'pureed', 'purees', 'purely', 'purple', 'purposes', 'purse', 'push', 'pushed', 'pushing', 'put', 'puts', 'putting', 'puzzle', 'pyramid', 'qualified', 'qualifies', 'qualify', 'qualities', 'quality', 'quanity', 'quantities', 'quantity', 'quarter', 'quarters', 'que', 'quench', 'quenches', 'quenching', 'quest', 'quick', 'quicker', 'quickly', 'quinoa', 'quit', 'quite', 'quote', 'rabbits', 'race', 'rainbow', 'rainforest', 'rainy', 'raise', 'raised', 'raising', 'raisins', 'ramen', 'ramyun', 'ranch', 'rancid', 'random', 'ranging', 'rare', 'rarely', 'raspberries', 'raspberry', 'rated', 'rates', 'rather', 'rating', 'rave', 'raves', 'raving', 'ravioli', 'raw', 'rawhide', 'rawhides', 'reach', 'reached', 'react', 'reacted', 'reaction', 'reactions', 'readily', 'ready', 'real', 'realized', 'realizing', 'really', 'realy', 'reason', 'reasonable', 'reasonably', 'rec', 'recall', 'recalled', 'recalls', 'reccomend', 'reccommend', 'receipt', 'received', 'receiving', 'recently', 'reception', 'recieved', 'recipes', 'recipient', 'recipients', 'recognizable', 'recognize', 'recognized', 'recommend', 'recommended', 'recommending', 'recommends', 'reconsider', 'reconstituted', 'recording', 'recover', 'recovery', 'rectangular', 'recurring', 'recyclable', 'recycle', 'recycled', 'recycling', 'red', 'redenbacher', 'reduce', 'reduced', 'reduces', 'reducing', 'reduction', 'reed', 'reese', 'reference', 'referring', 'refined', 'reflect', 'reflux', 'refreshing', 'refreshment', 'refried', 'refrigerate', 'refrigerated', 'refrigeration', 'refund', 'refunded', 'refuse', 'refused', 'refuses', 'regard', 'regardless', 'regards', 'regular', 'regularly', 'regulate', 'reheat', 'reject', 'rejected', 'relative', 'relatives', 'relax', 'release', 'released', 'relevant', 'reliable', 'relief', 'relieve', 'relieved', 'reluctant', 'reluctantly', 'remain', 'remainder', 'remained', 'remaining', 'remarkable', 'remarkably', 'remember', 'remembered', 'reminded', 'reminds', 'remove', 'removed', 'removes', 'rendering', 'reordering', 'rep', 'repair', 'repeated', 'repeatedly', 'repeating', 'replaced', 'replacement', 'replacing', 'replied', 'reply', 'report', 'reported', 'reports', 'repurchase', 'reputable', 'reputation', 'request', 'require', 'requirement', 'requires', 'rescue', 'reseal', 'resealable', 'research', 'researching', 'resemblance', 'resemble', 'resembles', 'resembling', 'reservation', 'reservations', 'reserve', 'residual', 'residue', 'resist', 'resistance', 'resolve', 'resolved', 'resorted', 'resources', 'respect', 'respectable', 'respond', 'responds', 'response', 'responsibly', 'rest', 'restaurants', 'restrict', 'restricted', 'restrictions', 'result', 'resulting', 'results', 'retailers', 'retain', 'retains', 'rethink', 'return', 'returnable', 'returned', 'returning', 'returns', 'revealed', 'reverse', 'review', 'reviewer', 'reviewers', 'reviewing', 'reviews', 'reward', 'rewarding', 'rex', 'ribbon', 'ribs', 'rican', 'rice', 'rices', 'rich', 'richer', 'richest', 'richness', 'rid', 'ride', 'ridiculous', 'ridiculously', 'riding', 'right', 'rind', 'rinds', 'ring', 'rings', 'rinse', 'rinsing', 'rip', 'ripoff', 'ripped', 'ripping', 'rise', 'rishi', 'risk', 'risotto', 'rite', 'ritual', 'rivals', 'river', 'roast', 'roasted', 'roaster', 'roasting', 'robbery', 'robust', 'rock', 'rocky', 'roll', 'rolled', 'roller', 'rolling', 'rolls', 'roommate', 'root', 'roots', 'rope', 'roses', 'rotten', 'rotting', 'rough', 'roughly', 'rounded', 'routine', 'row', 'rub', 'rubber', 'rubs', 'rude', 'ruin', 'ruined', 'ruining', 'ruins', 'rule', 'rum', 'run', 'runner', 'running', 'runny', 'runs', 'rural', 'rush', 'russell', 'rye', 'sachet', 'sack', 'sacrificing', 'sad', 'sadly', 'safe', 'safely', 'safeway', 'safflower', 'sake', 'salads', 'salami', 'sale', 'sales', 'salmon', 'salmonella', 'salsa', 'salt', 'salted', 'salts', 'salty', 'sam', 'sampler', 'samples', 'sams', 'san', 'sand', 'sandy', 'sans', 'santa', 'sat', 'satiated', 'satisfaction', 'satisfactory', 'satisfied', 'satisfies', 'satisfy', 'satisfying', 'sauce', 'saucepan', 'sauteed', 'saved', 'saves', 'saving', 'savor', 'savoring', 'saw', 'sawdust', 'say', 'saying', 'says', 'scale', 'scalp', 'scam', 'scare', 'scared', 'scarfed', 'scarfs', 'scary', 'scent', 'scented', 'scents', 'schedule', 'scheduled', 'schnauzers', 'school', 'science', 'scissors', 'scones', 'score', 'scout', 'scrambled', 'scrape', 'scratch', 'scratched', 'scratches', 'scratching', 'screaming', 'screw', 'screwed', 'screws', 'scrumptious', 'se', 'seafood', 'seal', 'sealable', 'sealed', 'sealing', 'search', 'searched', 'searching', 'season', 'seasonal', 'seasoned', 'seasoning', 'seasons', 'seaweed', 'sec', 'second', 'secondly', 'sections', 'securely', 'sediment', 'see', 'seeds', 'seek', 'seeking', 'seem', 'seemed', 'seemingly', 'seems', 'seen', 'seitan', 'selected', 'selecting', 'selections', 'self', 'sell', 'sellers', 'selling', 'sells', 'seltzer', 'semi', 'semolina', 'send', 'sender', 'sending', 'sends', 'senior', 'sense', 'senses', 'sensible', 'sensitive', 'sent', 'separated', 'separately', 'separates', 'separation', 'sept', 'september', 'series', 'serious', 'seriously', 'serve', 'serves', 'service', 'serving', 'set', 'sets', 'setting', 'settings', 'settle', 'settles', 'settling', 'seven', 'several', 'severe', 'severely', 'sf', 'shade', 'shake', 'shaken', 'shakes', 'shall', 'shame', 'shampoo', 'shampoos', 'shaped', 'shards', 'share', 'sharing', 'sharp', 'shavings', 'shea', 'shedding', 'sheer', 'sheet', 'shelf', 'shell', 'shells', 'shelter', 'shelves', 'shepard', 'shift', 'shin', 'shine', 'shinier', 'shiny', 'ship', 'shipment', 'shipments', 'shipper', 'shipping', 'ships', 'shirataki', 'shocked', 'shook', 'shop', 'shopping', 'shops', 'shortage', 'shortbread', 'shorter', 'shortly', 'shot', 'shots', 'shoulders', 'shove', 'showed', 'shower', 'showing', 'shown', 'shows', 'shred', 'shreds', 'shrimp', 'siamese', 'siberian', 'sick', 'sickening', 'sickeningly', 'side', 'sides', 'sigh', 'sight', 'sign', 'signing', 'signs', 'silk', 'silky', 'silly', 'silver', 'similac', 'similarly', 'simmer', 'simmered', 'simmering', 'simple', 'simply', 'since', 'sincerely', 'singapore', 'singles', 'sink', 'sinus', 'sip', 'sipped', 'sips', 'sister', 'sisters', 'sit', 'sites', 'sits', 'sitting', 'six', 'size', 'skeptic', 'skeptical', 'skillets', 'skills', 'skimp', 'skimpy', 'skinless', 'skinny', 'skip', 'skipping', 'skittles', 'sky', 'sleep', 'sleeping', 'sleepy', 'sleeve', 'slender', 'slept', 'slices', 'slides', 'slight', 'slightest', 'slightly', 'slim', 'slimy', 'slip', 'slippery', 'slivers', 'slower', 'sludge', 'small', 'smaller', 'smallest', 'smashed', 'smear', 'smell', 'smells', 'smith', 'smoked', 'smokehouse', 'smoker', 'smokey', 'smokiness', 'smoking', 'smooth', 'smoother', 'smoothest', 'smoothies', 'smoothly', 'smoothness', 'snack', 'snacking', 'snacks', 'snapper', 'snapple', 'snappy', 'snaps', 'sneaking', 'snickers', 'sniff', 'sniffed', 'sniffing', 'sniffs', 'snob', 'soak', 'soaked', 'soaking', 'soap', 'sobe', 'social', 'socially', 'socks', 'sodastream', 'soft', 'soften', 'softens', 'softer', 'softness', 'soil', 'sold', 'sole', 'solid', 'solidified', 'solidly', 'solids', 'solo', 'solution', 'solutions', 'solved', 'somebody', 'somehow', 'someone', 'someplace', 'something', 'sometime', 'sometimes', 'somewhat', 'somewhere', 'son', 'sons', 'soon', 'sooner', 'soooo', 'soooooo', 'soothe', 'soothes', 'soothing', 'sophisticated', 'sorbate', 'sorbet', 'sore', 'sorely', 'sorghum', 'sorry', 'sorta', 'sorts', 'sound', 'sounded', 'sounds', 'soupy', 'sour', 'source', 'sourced', 'sources', 'sourness', 'south', 'southern', 'soy', 'soybean', 'sp', 'spa', 'spaghetti', 'spain', 'spaniel', 'spanish', 'spare', 'sparkling', 'sparse', 'speaks', 'spearmint', 'special', 'specially', 'specialty', 'specific', 'specifically', 'specify', 'spectacular', 'spectrum', 'speed', 'speedy', 'spell', 'spend', 'spending', 'spends', 'spendy', 'spiced', 'spices', 'spicey', 'spiciness', 'spicing', 'spicy', 'spikes', 'spilled', 'spilling', 'spin', 'spit', 'spits', 'splenda', 'splendid', 'splinter', 'split', 'spoil', 'spoiled', 'spoiling', 'sponge', 'spongy', 'spoonful', 'spoonfuls', 'spoons', 'sport', 'sports', 'spot', 'spots', 'spotted', 'spouse', 'sprayed', 'spreadable', 'sprinkle', 'sprite', 'sprouted', 'spry', 'squash', 'squeezed', 'squeezing', 'squirrel', 'squirrels', 'squishy', 'stack', 'staff', 'stage', 'stages', 'stain', 'stained', 'stainless', 'stale', 'stamped', 'standard', 'standing', 'standpoint', 'stands', 'staple', 'staples', 'star', 'starbuck', 'starchy', 'stares', 'stars', 'start', 'started', 'starter', 'starting', 'starts', 'starve', 'starving', 'stash', 'state', 'stated', 'statement', 'states', 'stating', 'station', 'stationed', 'stations', 'status', 'stay', 'staying', 'steak', 'steaks', 'steamed', 'steaming', 'steel', 'steeped', 'steeps', 'steer', 'stella', 'stem', 'stench', 'step', 'stephen', 'steps', 'stevia', 'stew', 'stews', 'stick', 'sticking', 'sticks', 'sticky', 'stiff', 'stimulant', 'stimulating', 'stinks', 'stir', 'stirred', 'stock', 'stocked', 'stocking', 'stocks', 'stomach', 'stomachs', 'stone', 'stones', 'stonewall', 'stools', 'stop', 'stopped', 'stopping', 'stored', 'stores', 'storing', 'story', 'stove', 'straight', 'strainer', 'strange', 'strangely', 'straws', 'stray', 'stream', 'street', 'strength', 'strict', 'strictly', 'strike', 'strikes', 'stroganoff', 'strong', 'stronger', 'struck', 'struggling', 'stuck', 'student', 'study', 'studying', 'stuff', 'stumbled', 'stunned', 'stupid', 'style', 'styrofoam', 'sublime', 'submitted', 'subscribe', 'subscribed', 'subscribing', 'subscription', 'subsequently', 'substances', 'substantial', 'substitute', 'substituted', 'substitutes', 'substituting', 'substitution', 'subtle', 'subway', 'success', 'successfully', 'succulent', 'suck', 'sucked', 'sucker', 'suckers', 'sucking', 'sucks', 'sucralose', 'sucrose', 'sudden', 'suddenly', 'suffer', 'suffering', 'suffers', 'suffice', 'sufficient', 'sugar', 'sugared', 'sugarless', 'sugary', 'suger', 'suggest', 'suggested', 'suggestions', 'suggests', 'suitable', 'suitcase', 'suits', 'sumatran', 'summary', 'summer', 'sums', 'sun', 'sunlight', 'sunny', 'sunset', 'super', 'superb', 'superfood', 'superior', 'supermarkets', 'supervise', 'supper', 'supplementing', 'supplier', 'suppliers', 'supply', 'support', 'suppose', 'supposed', 'supreme', 'suprise', 'sure', 'surely', 'surface', 'surpassed', 'surpasses', 'surprise', 'surprised', 'surprisingly', 'surrounded', 'survive', 'survived', 'sushi', 'suspect', 'suspicion', 'suspicious', 'swallow', 'swallowed', 'swallowing', 'swallows', 'swanson', 'swears', 'sweat', 'sweating', 'sweet', 'sweeten', 'sweetened', 'sweeteners', 'sweetens', 'sweeter', 'sweetleaf', 'sweetner', 'sweetners', 'sweetness', 'sweets', 'swimming', 'swiss', 'switch', 'switched', 'syndrome', 'synthetic', 'syrup', 'syrupy', 'tabasco', 'table', 'tables', 'tablespoon', 'tablespoons', 'tablet', 'tablets', 'tabs', 'tacky', 'taco', 'tacos', 'tad', 'taffy', 'tag', 'tahini', 'tails', 'tainted', 'take', 'taken', 'takes', 'taking', 'talk', 'talked', 'tall', 'tan', 'tang', 'tangerine', 'tape', 'target', 'tart', 'tarter', 'tartness', 'tarts', 'task', 'tassimo', 'tast', 'taste', 'tastebuds', 'tasted', 'tasteful', 'tasteless', 'taster', 'tastes', 'tastier', 'tastiest', 'tasting', 'tasts', 'tasty', 'taylor', 'tazo', 'tbs', 'tbsp', 'tea', 'teabag', 'teabags', 'teach', 'teacher', 'teaching', 'tearing', 'tears', 'teas', 'teaspoon', 'teaspoons', 'teavana', 'technique', 'technology', 'teenage', 'teenager', 'teenie', 'teens', 'teeny', 'teeth', 'teething', 'tell', 'telling', 'tells', 'temperature', 'temperatures', 'temps', 'tempted', 'tempting', 'tend', 'tendency', 'tender', 'tenderness', 'tends', 'teriyaki', 'term', 'terrible', 'terribly', 'terrier', 'terrific', 'test', 'tested', 'tests', 'tetley', 'texas', 'text', 'texture', 'textured', 'textures', 'th', 'thai', 'thailand', 'thank', 'thankful', 'thankfully', 'thanks', 'thanksgiving', 'thats', 'theater', 'theatre', 'theme', 'themed', 'theory', 'thereby', 'therefore', 'theres', 'thermos', 'theses', 'thickening', 'thickens', 'thicker', 'thickness', 'thin', 'things', 'think', 'thinking', 'thinkthin', 'thinly', 'thinner', 'thins', 'third', 'thirds', 'thirsty', 'thorough', 'thoroughly', 'though', 'thought', 'thoughts', 'threw', 'thrilled', 'throat', 'throw', 'throwing', 'thrown', 'throws', 'thumb', 'thumbs', 'thursday', 'thus', 'thyroid', 'tic', 'ticket', 'tide', 'tied', 'tiger', 'tight', 'tiki', 'til', 'till', 'tim', 'time', 'timely', 'timing', 'timothy', 'tin', 'tinge', 'tingle', 'tiny', 'tip', 'tips', 'tire', 'tired', 'title', 'tm', 'tn', 'toast', 'toasted', 'toaster', 'tobacco', 'tocopherols', 'today', 'toffee', 'together', 'toilet', 'told', 'tolerable', 'tolerance', 'tolerant', 'tom', 'tomato', 'tomorrow', 'ton', 'tone', 'tongue', 'tooth', 'toothpaste', 'toothpick', 'toothpicks', 'tootsie', 'top', 'topping', 'tor', 'torani', 'tore', 'torn', 'tortilla', 'tortillas', 'tossed', 'tossing', 'total', 'totally', 'touch', 'touched', 'tougher', 'tourangelle', 'touted', 'towels', 'town', 'toxic', 'toxins', 'toy', 'toys', 'track', 'tracking', 'tracks', 'trading', 'traditional', 'trail', 'train', 'trained', 'trainer', 'training', 'trans', 'transferred', 'transit', 'transition', 'translates', 'transport', 'transported', 'traps', 'trash', 'traveling', 'travels', 'treat', 'treated', 'treating', 'treatment', 'treatments', 'treats', 'tree', 'trees', 'tremendous', 'tremendously', 'trend', 'tri', 'trial', 'trick', 'tricks', 'tricky', 'tried', 'tries', 'trigger', 'trim', 'trip', 'triple', 'trips', 'tropical', 'trouble', 'trout', 'truck', 'truffle', 'truffles', 'truly', 'trust', 'truth', 'truvia', 'try', 'tryed', 'trying', 'tsp', 'tubes', 'tuesday', 'tullys', 'tulsi', 'tums', 'turmeric', 'turned', 'turning', 'turns', 'turtle', 'twice', 'twins', 'twist', 'twists', 'two', 'tx', 'type', 'typed', 'types', 'typical', 'typing', 'udi', 'ugh', 'ugly', 'uh', 'ultimate', 'ultimately', 'ultra', 'um', 'un', 'unable', 'unacceptable', 'unappealing', 'unappetizing', 'unavailable', 'unbeatable', 'unbelievable', 'unbelievably', 'unbroken', 'uncomfortable', 'uncooked', 'undamaged', 'understand', 'understanding', 'understatement', 'undertone', 'underweight', 'underwhelmed', 'undesirable', 'undrinkable', 'unexpected', 'unfair', 'unfamiliar', 'unflavored', 'unfortunate', 'unfortunately', 'unhappy', 'unhealthy', 'unique', 'university', 'unless', 'unlike', 'unlikely', 'unopened', 'unpalatable', 'unpleasant', 'unpopped', 'unprocessed', 'unsafe', 'unsalted', 'unsatisfied', 'unsealed', 'unsure', 'unsuspecting', 'untill', 'unusable', 'unusual', 'unusually', 'unwrap', 'unwrapped', 'update', 'updated', 'uploaded', 'upon', 'ups', 'upsetting', 'upside', 'urine', 'us', 'usa', 'usable', 'usda', 'use', 'used', 'useful', 'useless', 'user', 'users', 'uses', 'using', 'usual', 'usually', 'utilize', 'utter', 'utz', 'vacation', 'vacuum', 'vague', 'valentines', 'valid', 'value', 'values', 'van', 'variation', 'variations', 'varied', 'varies', 'varieties', 'variety', 'various', 'varities', 'vary', 'varying', 'vase', 'vast', 'vastly', 'veg', 'vegas', 'vegetable', 'vegetarians', 'veggie', 'veggies', 'velvet', 'vending', 'vendor', 'vendors', 'venison', 'verdict', 'verified', 'verify', 'vermont', 'verona', 'versatile', 'versatility', 'version', 'versions', 'versus', 'veterinary', 'vets', 'vibrant', 'vice', 'video', 'videos', 'view', 'vile', 'vine', 'vinegar', 'vinegary', 'violently', 'virtually', 'visited', 'visiting', 'visitors', 'visual', 'vitacoco', 'vitamin', 'vitamins', 'vodka', 'void', 'volume', 'vomit', 'vomited', 'vomiting', 'votes', 'vouch', 'vs', 'wa', 'waaaay', 'wabash', 'wafer', 'waffle', 'wagging', 'waistline', 'wait', 'waits', 'wake', 'wakes', 'wal', 'walgreens', 'walk', 'walked', 'walker', 'walkers', 'walking', 'wallet', 'walmart', 'walnut', 'walnuts', 'want', 'wanted', 'wants', 'war', 'warehouse', 'warm', 'warmed', 'warned', 'warning', 'warnings', 'warrant', 'wary', 'wasa', 'washed', 'washing', 'wasnt', 'waste', 'wasted', 'watch', 'watcher', 'watching', 'water', 'watering', 'watermelon', 'waters', 'watery', 'wave', 'wax', 'waxy', 'way', 'weak', 'weaker', 'wean', 'wearing', 'weaver', 'website', 'wedding', 'wee', 'weed', 'weeds', 'week', 'weekend', 'weekly', 'weeks', 'wegman', 'weigh', 'weighed', 'weighing', 'weights', 'weird', 'welch', 'welcome', 'well', 'westie', 'whats', 'whatsoever', 'wheat', 'wheatgrass', 'whenever', 'wherever', 'whether', 'whiff', 'whilst', 'whim', 'whining', 'whip', 'whirley', 'whirly', 'white', 'whitefish', 'whites', 'whoa', 'whole', 'wholesale', 'whopping', 'widely', 'wife', 'wikipedia', 'wilderness', 'wildly', 'wilton', 'win', 'wind', 'window', 'windows', 'wine', 'wines', 'wing', 'wings', 'winner', 'winning', 'winter', 'wipe', 'wiped', 'wipes', 'wire', 'wisconsin', 'wish', 'wished', 'wishes', 'withdrawal', 'within', 'without', 'withstand', 'wo', 'woke', 'wolf', 'wolfgang', 'wonder', 'wondered', 'wonderful', 'wonderfully', 'wonders', 'wont', 'wood', 'wooden', 'woods', 'woody', 'words', 'wore', 'work', 'worked', 'worker', 'working', 'workout', 'workouts', 'works', 'worlds', 'worldwide', 'worms', 'worn', 'worried', 'worries', 'worry', 'worse', 'worst', 'worthless', 'worthwhile', 'worthy', 'would', 'wouldnt', 'wound', 'wow', 'wrapper', 'wrapping', 'write', 'written', 'wrong', 'wrote', 'ww', 'xtra', 'xylitol', 'ya', 'yahoo', 'yard', 'yay', 'yea', 'yeah', 'year', 'years', 'yep', 'yerba', 'yes', 'yesterday', 'yet', 'yield', 'yields', 'yikes', 'yo', 'yogurt', 'york', 'yorkie', 'yorkies', 'young', 'younger', 'youngest', 'yr', 'yrs', 'yuban', 'yuck', 'yuk', 'yum', 'yummy', 'zealand', 'zero', 'zest', 'zesty', 'zevia', 'zico', 'zinc', 'zing', 'zip', 'ziwipeak', 'zoe', 'zucchini']"
     ]
    },
    {
     "name": "stdout",
     "output_type": "stream",
     "text": [
      "\n"
     ]
    }
   ],
   "source": [
    "print(multicolinear_features)#printing only 100 multicollinear features"
   ]
  },
  {
   "cell_type": "markdown",
   "metadata": {
    "colab_type": "text",
    "id": "eB1rF0BQLPpG"
   },
   "source": [
    "### [5.1.3] Feature Importance on BOW,<font color='red'> SET 1</font>"
   ]
  },
  {
   "cell_type": "markdown",
   "metadata": {
    "colab_type": "text",
    "id": "JZTP19dqLPpI"
   },
   "source": [
    "#### [5.1.3.1] Top 10 important features of positive class from<font color='red'> SET 1</font>"
   ]
  },
  {
   "cell_type": "code",
   "execution_count": 301,
   "metadata": {
    "colab": {},
    "colab_type": "code",
    "id": "oGRpCVJgLPpI"
   },
   "outputs": [
    {
     "name": "stdout",
     "output_type": "stream",
     "text": [
      "great\n",
      "love\n",
      "best\n",
      "delicious\n",
      "good\n",
      "loves\n",
      "easy\n",
      "excellent\n",
      "perfect\n",
      "favorite\n"
     ]
    }
   ],
   "source": [
    "w_sort=w[0].argsort()\n",
    "r =count_vect.get_feature_names()\n",
    "for i in range(10):\n",
    "    print(r[w_sort[(-i-1)]])"
   ]
  },
  {
   "cell_type": "markdown",
   "metadata": {
    "colab_type": "text",
    "id": "UJLYBE1gLPpJ"
   },
   "source": [
    "#### [5.1.3.2] Top 10 important features of negative class from<font color='red'> SET 1</font>"
   ]
  },
  {
   "cell_type": "code",
   "execution_count": 302,
   "metadata": {
    "colab": {},
    "colab_type": "code",
    "id": "c9r7Zjx1LPpK"
   },
   "outputs": [
    {
     "name": "stdout",
     "output_type": "stream",
     "text": [
      "lays\n",
      "not\n",
      "worst\n",
      "disappointed\n",
      "awful\n",
      "horrible\n",
      "terrible\n",
      "money\n",
      "bad\n",
      "unfortunately\n"
     ]
    }
   ],
   "source": [
    "# Please write all the code with proper documentation\n",
    "for i in range(10):\n",
    "    print(r[w_sort[i]])"
   ]
  },
  {
   "cell_type": "markdown",
   "metadata": {
    "colab_type": "text",
    "id": "nKn3VXcZLPpN"
   },
   "source": [
    "## [5.2] Logistic Regression on TFIDF,<font color='red'> SET 2</font>"
   ]
  },
  {
   "cell_type": "markdown",
   "metadata": {
    "colab_type": "text",
    "id": "naTBSzm6LPpN"
   },
   "source": [
    "### [5.2.1] Applying Logistic Regression with L1 regularization on TFIDF,<font color='red'> SET 2</font>"
   ]
  },
  {
   "cell_type": "code",
   "execution_count": 303,
   "metadata": {
    "colab": {},
    "colab_type": "code",
    "id": "PEhaagXXLPpS"
   },
   "outputs": [
    {
     "name": "stderr",
     "output_type": "stream",
     "text": [
      "100%|██████████████████████████████████████████████████████████████████████████████████| 11/11 [00:02<00:00,  3.83it/s]\n"
     ]
    }
   ],
   "source": [
    "# Please write all the code with proper documentation\n",
    "train_auc_list2=[]\n",
    "cv_auc_list2=[]\n",
    "for i in tqdm(param):\n",
    "   clf2 = LogisticRegression(penalty='l1',C=i,max_iter=1000,tol=0.1)\n",
    "   clf2.fit(X_tr2,y_tr)\n",
    "   trprob=clf2.predict_proba(X_tr2)[:,1] # Returns probability of positive class\n",
    "   cvprob = clf2.predict_proba(X_cv2)[:,1]  \n",
    "   auctr = roc_auc_score(y_tr,trprob)#auc of tranning data\n",
    "   auccv = roc_auc_score(y_cv,cvprob)#auc of cross validation data\n",
    "   train_auc_list2.append(auctr)\n",
    "   cv_auc_list2.append(auccv)"
   ]
  },
  {
   "cell_type": "code",
   "execution_count": 304,
   "metadata": {},
   "outputs": [
    {
     "data": {
      "image/png": "[encoded data removed]",
      "text/plain": [
       "<Figure size 432x288 with 1 Axes>"
      ]
     },
     "metadata": {
      "needs_background": "light"
     },
     "output_type": "display_data"
    }
   ],
   "source": [
    "plot_auc(train_auc_list2,cv_auc_list2)"
   ]
  },
  {
   "cell_type": "markdown",
   "metadata": {},
   "source": [
    "the best hyperparameter is 1"
   ]
  },
  {
   "cell_type": "code",
   "execution_count": 305,
   "metadata": {},
   "outputs": [],
   "source": [
    "clf2 = LogisticRegression(penalty='l1',C=1,max_iter=1000,tol=0.1)\n",
    "clf2.fit(X_tr2, y_tr)\n",
    "trpred=clf2.predict(X_tr2)\n",
    "testpred = clf2.predict(X_test2)\n",
    "trprob=clf2.predict_proba(X_tr2)[:,1] # Returns probability of positive class\n",
    "testprob = clf2.predict_proba(X_test2)[:,1] \n",
    "auctr = roc_auc_score(y_tr,trprob)#auc of tranning data\n",
    "auctest = roc_auc_score(y_test,testprob)#auc of cross validation data\n"
   ]
  },
  {
   "cell_type": "code",
   "execution_count": 306,
   "metadata": {},
   "outputs": [
    {
     "data": {
      "text/plain": [
       "0.9513406735374292"
      ]
     },
     "execution_count": 306,
     "metadata": {},
     "output_type": "execute_result"
    }
   ],
   "source": [
    "auctest"
   ]
  },
  {
   "cell_type": "code",
   "execution_count": 307,
   "metadata": {},
   "outputs": [
    {
     "data": {
      "image/png": "[encoded data removed]",
      "text/plain": [
       "<Figure size 432x288 with 1 Axes>"
      ]
     },
     "metadata": {
      "needs_background": "light"
     },
     "output_type": "display_data"
    }
   ],
   "source": [
    "plot_roc(y_test,testprob,y_tr,trprob)"
   ]
  },
  {
   "cell_type": "markdown",
   "metadata": {},
   "source": [
    "# Confusion matrix train\n"
   ]
  },
  {
   "cell_type": "code",
   "execution_count": 308,
   "metadata": {},
   "outputs": [
    {
     "name": "stdout",
     "output_type": "stream",
     "text": [
      "Confusion matrix\n"
     ]
    },
    {
     "data": {
      "image/png": "[encoded data removed]",
      "text/plain": [
       "<Figure size 288x288 with 2 Axes>"
      ]
     },
     "metadata": {
      "needs_background": "light"
     },
     "output_type": "display_data"
    }
   ],
   "source": [
    "confusion_matrix_plot(y_tr, trpred)"
   ]
  },
  {
   "cell_type": "markdown",
   "metadata": {},
   "source": [
    "# Confusion matrix test\n"
   ]
  },
  {
   "cell_type": "code",
   "execution_count": 309,
   "metadata": {},
   "outputs": [
    {
     "name": "stdout",
     "output_type": "stream",
     "text": [
      "Confusion matrix\n"
     ]
    },
    {
     "data": {
      "image/png": "[encoded data removed]",
      "text/plain": [
       "<Figure size 288x288 with 2 Axes>"
      ]
     },
     "metadata": {
      "needs_background": "light"
     },
     "output_type": "display_data"
    }
   ],
   "source": [
    "confusion_matrix_plot(y_test, testpred)"
   ]
  },
  {
   "cell_type": "markdown",
   "metadata": {
    "colab_type": "text",
    "id": "NdFShHQJLPpV"
   },
   "source": [
    "### [5.2.2] Applying Logistic Regression with L2 regularization on TFIDF,<font color='red'> SET 2</font>"
   ]
  },
  {
   "cell_type": "code",
   "execution_count": 310,
   "metadata": {
    "colab": {},
    "colab_type": "code",
    "id": "Jyhq3JDzLPpW"
   },
   "outputs": [
    {
     "name": "stderr",
     "output_type": "stream",
     "text": [
      "100%|██████████████████████████████████████████████████████████████████████████████████| 11/11 [00:03<00:00,  2.40it/s]\n"
     ]
    }
   ],
   "source": [
    "# Please write all the code with proper documentation\n",
    "# Please write all the code with proper documentation\n",
    "train_auc_list3=[]\n",
    "cv_auc_list3=[]\n",
    "for i in tqdm(param):\n",
    "   clf2 = LogisticRegression(penalty='l2',C=i,max_iter=1000,tol=0.1)\n",
    "   clf2.fit(X_tr2,y_tr)\n",
    "   trprob=clf2.predict_proba(X_tr2)[:,1] # Returns probability of positive class\n",
    "   cvprob = clf2.predict_proba(X_cv2)[:,1]  \n",
    "   auctr = roc_auc_score(y_tr,trprob)#auc of tranning data\n",
    "   auccv = roc_auc_score(y_cv,cvprob)#auc of cross validation data\n",
    "   train_auc_list3.append(auctr)\n",
    "   cv_auc_list3.append(auccv)"
   ]
  },
  {
   "cell_type": "code",
   "execution_count": 311,
   "metadata": {},
   "outputs": [
    {
     "data": {
      "image/png": "[encoded data removed]",
      "text/plain": [
       "<Figure size 432x288 with 1 Axes>"
      ]
     },
     "metadata": {
      "needs_background": "light"
     },
     "output_type": "display_data"
    }
   ],
   "source": [
    "plot_auc(train_auc_list3,cv_auc_list3)"
   ]
  },
  {
   "cell_type": "markdown",
   "metadata": {},
   "source": [
    "the best hyperparameter is 10"
   ]
  },
  {
   "cell_type": "code",
   "execution_count": 312,
   "metadata": {},
   "outputs": [],
   "source": [
    "clf2 = LogisticRegression(penalty='l2',C=10,max_iter=1000,tol=0.1)\n",
    "clf2.fit(X_tr2, y_tr)\n",
    "trpred=clf2.predict(X_tr2)\n",
    "testpred = clf2.predict(X_test2)\n",
    "trprob=clf2.predict_proba(X_tr2)[:,1] # Returns probability of positive class\n",
    "testprob = clf2.predict_proba(X_test2)[:,1] \n",
    "auctr = roc_auc_score(y_tr,trprob)#auc of tranning data\n",
    "auctest = roc_auc_score(y_test,testprob)#auc of cross validation data\n"
   ]
  },
  {
   "cell_type": "code",
   "execution_count": 313,
   "metadata": {},
   "outputs": [
    {
     "data": {
      "text/plain": [
       "0.9608869386175132"
      ]
     },
     "execution_count": 313,
     "metadata": {},
     "output_type": "execute_result"
    }
   ],
   "source": [
    "auctest"
   ]
  },
  {
   "cell_type": "code",
   "execution_count": 314,
   "metadata": {},
   "outputs": [
    {
     "data": {
      "image/png": "[encoded data removed]",
      "text/plain": [
       "<Figure size 432x288 with 1 Axes>"
      ]
     },
     "metadata": {
      "needs_background": "light"
     },
     "output_type": "display_data"
    }
   ],
   "source": [
    "plot_roc(y_test,testprob,y_tr,trprob)"
   ]
  },
  {
   "cell_type": "markdown",
   "metadata": {},
   "source": [
    "# Confusion matrix train\n"
   ]
  },
  {
   "cell_type": "code",
   "execution_count": 315,
   "metadata": {},
   "outputs": [
    {
     "name": "stdout",
     "output_type": "stream",
     "text": [
      "Confusion matrix\n"
     ]
    },
    {
     "data": {
      "image/png": "[encoded data removed]",
      "text/plain": [
       "<Figure size 288x288 with 2 Axes>"
      ]
     },
     "metadata": {
      "needs_background": "light"
     },
     "output_type": "display_data"
    }
   ],
   "source": [
    "confusion_matrix_plot(y_tr, trpred)"
   ]
  },
  {
   "cell_type": "markdown",
   "metadata": {},
   "source": [
    "# Confusion matrix test\n"
   ]
  },
  {
   "cell_type": "code",
   "execution_count": 215,
   "metadata": {},
   "outputs": [
    {
     "name": "stdout",
     "output_type": "stream",
     "text": [
      "Confusion matrix\n"
     ]
    },
    {
     "data": {
      "image/png": "[encoded data removed]",
      "text/plain": [
       "<Figure size 288x288 with 2 Axes>"
      ]
     },
     "metadata": {
      "needs_background": "light"
     },
     "output_type": "display_data"
    }
   ],
   "source": [
    "confusion_matrix_plot(y_test, testpred)"
   ]
  },
  {
   "cell_type": "markdown",
   "metadata": {
    "colab_type": "text",
    "id": "xeeJ8eVvLPpX"
   },
   "source": [
    "### [5.2.3] Feature Importance on TFIDF,<font color='red'> SET 2</font>"
   ]
  },
  {
   "cell_type": "markdown",
   "metadata": {
    "colab_type": "text",
    "id": "Cj9XEmqQLPpY"
   },
   "source": [
    "#### [5.2.3.1] Top 10 important features of positive class from<font color='red'> SET 2</font>"
   ]
  },
  {
   "cell_type": "code",
   "execution_count": 316,
   "metadata": {
    "colab": {},
    "colab_type": "code",
    "id": "RG10txygLPpb"
   },
   "outputs": [
    {
     "name": "stdout",
     "output_type": "stream",
     "text": [
      "great\n",
      "delicious\n",
      "good\n",
      "perfect\n",
      "best\n",
      "excellent\n",
      "not disappointed\n",
      "loves\n",
      "amazing\n",
      "wonderful\n"
     ]
    }
   ],
   "source": [
    "# Please write all the code with proper documentation\n",
    "w2 = clf2.coef_\n",
    "w2_sort=w2[0].argsort()\n",
    "r = tf_idf_vect.get_feature_names()\n",
    "for i in range(10):\n",
    "    print(r[w2_sort[-i-1]])\n"
   ]
  },
  {
   "cell_type": "markdown",
   "metadata": {
    "colab_type": "text",
    "id": "PowEfns4LPpg"
   },
   "source": [
    "#### [5.2.3.2] Top 10 important features of negative class from<font color='red'> SET 2</font>"
   ]
  },
  {
   "cell_type": "code",
   "execution_count": 317,
   "metadata": {
    "colab": {},
    "colab_type": "code",
    "id": "G7jrma95LPpg"
   },
   "outputs": [
    {
     "name": "stdout",
     "output_type": "stream",
     "text": [
      "worst\n",
      "not good\n",
      "disappointed\n",
      "not recommend\n",
      "not worth\n",
      "terrible\n",
      "disappointing\n",
      "awful\n",
      "disappointment\n",
      "horrible\n"
     ]
    }
   ],
   "source": [
    "# Please write all the code with proper documentation\n",
    "for i in range(10):\n",
    "    print(r[w2_sort[i]])"
   ]
  },
  {
   "cell_type": "markdown",
   "metadata": {
    "colab_type": "text",
    "id": "sqYadGOgLPpi"
   },
   "source": [
    "## [5.3] Logistic Regression on AVG W2V,<font color='red'> SET 3</font>"
   ]
  },
  {
   "cell_type": "markdown",
   "metadata": {
    "colab_type": "text",
    "id": "kByBCEA1LPpj"
   },
   "source": [
    "### [5.3.1] Applying Logistic Regression with L1 regularization on AVG W2V<font color='red'> SET 3</font>"
   ]
  },
  {
   "cell_type": "code",
   "execution_count": 318,
   "metadata": {
    "colab": {},
    "colab_type": "code",
    "id": "yCQ_4iJkLPpj"
   },
   "outputs": [
    {
     "name": "stderr",
     "output_type": "stream",
     "text": [
      "100%|██████████████████████████████████████████████████████████████████████████████████| 11/11 [00:02<00:00,  4.28it/s]\n"
     ]
    }
   ],
   "source": [
    "# Please write all the code with proper documentation\n",
    "train_auc_list4=[]\n",
    "cv_auc_list4=[]\n",
    "for i in tqdm(param):\n",
    "   clf3 = LogisticRegression(penalty='l1',C=i,max_iter=1000,tol=0.1)\n",
    "   clf3.fit(sent_vectorstr,y_tr)\n",
    "   trprob=clf3.predict_proba(sent_vectorstr)[:,1] # Returns probability of positive class\n",
    "   cvprob = clf3.predict_proba(sent_vectorscv)[:,1]  \n",
    "   auctr = roc_auc_score(y_tr,trprob)#auc of tranning data\n",
    "   auccv = roc_auc_score(y_cv,cvprob)#auc of cross validation data\n",
    "   train_auc_list4.append(auctr)\n",
    "   cv_auc_list4.append(auccv)"
   ]
  },
  {
   "cell_type": "code",
   "execution_count": 319,
   "metadata": {},
   "outputs": [
    {
     "data": {
      "image/png": "[encoded data removed]",
      "text/plain": [
       "<Figure size 432x288 with 1 Axes>"
      ]
     },
     "metadata": {
      "needs_background": "light"
     },
     "output_type": "display_data"
    }
   ],
   "source": [
    "plot_auc(train_auc_list4,cv_auc_list4)"
   ]
  },
  {
   "cell_type": "markdown",
   "metadata": {},
   "source": [
    "the best hyperparameter is 0.01"
   ]
  },
  {
   "cell_type": "code",
   "execution_count": 320,
   "metadata": {},
   "outputs": [],
   "source": [
    "clf3 = LogisticRegression(penalty='l1',C=0.01,max_iter=1000,tol=0.1)\n",
    "clf3.fit(sent_vectorstr, y_tr)\n",
    "trpred=clf3.predict(sent_vectorstr)\n",
    "testpred = clf3.predict(sent_vectorstest)\n",
    "trprob=clf3.predict_proba(sent_vectorstr)[:,1] # Returns probability of positive class\n",
    "testprob = clf3.predict_proba(sent_vectorstest)[:,1] \n",
    "auctr = roc_auc_score(y_tr,trprob)#auc of tranning data\n",
    "auctest = roc_auc_score(y_test,testprob)#auc of cross validation d"
   ]
  },
  {
   "cell_type": "code",
   "execution_count": 321,
   "metadata": {},
   "outputs": [
    {
     "data": {
      "text/plain": [
       "0.8406787912546212"
      ]
     },
     "execution_count": 321,
     "metadata": {},
     "output_type": "execute_result"
    }
   ],
   "source": [
    "auctest"
   ]
  },
  {
   "cell_type": "code",
   "execution_count": 322,
   "metadata": {},
   "outputs": [
    {
     "data": {
      "image/png": "[encoded data removed]",
      "text/plain": [
       "<Figure size 432x288 with 1 Axes>"
      ]
     },
     "metadata": {
      "needs_background": "light"
     },
     "output_type": "display_data"
    }
   ],
   "source": [
    "plot_roc(y_test,testprob,y_tr,trprob)"
   ]
  },
  {
   "cell_type": "markdown",
   "metadata": {},
   "source": [
    "# Confusion matrix train\n"
   ]
  },
  {
   "cell_type": "code",
   "execution_count": 223,
   "metadata": {},
   "outputs": [
    {
     "name": "stdout",
     "output_type": "stream",
     "text": [
      "Confusion matrix\n"
     ]
    },
    {
     "data": {
      "image/png": "[encoded data removed]",
      "text/plain": [
       "<Figure size 288x288 with 2 Axes>"
      ]
     },
     "metadata": {
      "needs_background": "light"
     },
     "output_type": "display_data"
    }
   ],
   "source": [
    "confusion_matrix_plot(y_tr, trpred)"
   ]
  },
  {
   "cell_type": "markdown",
   "metadata": {},
   "source": [
    "# Confusion matrix test\n"
   ]
  },
  {
   "cell_type": "code",
   "execution_count": 323,
   "metadata": {},
   "outputs": [
    {
     "name": "stdout",
     "output_type": "stream",
     "text": [
      "Confusion matrix\n"
     ]
    },
    {
     "data": {
      "image/png": "[encoded data removed]",
      "text/plain": [
       "<Figure size 288x288 with 2 Axes>"
      ]
     },
     "metadata": {
      "needs_background": "light"
     },
     "output_type": "display_data"
    }
   ],
   "source": [
    "confusion_matrix_plot(y_test, testpred)"
   ]
  },
  {
   "cell_type": "markdown",
   "metadata": {
    "colab_type": "text",
    "id": "O_8Gu2SfLPpn"
   },
   "source": [
    "### [5.3.2] Applying Logistic Regression with L2 regularization on AVG W2V,<font color='red'> SET 3</font>"
   ]
  },
  {
   "cell_type": "code",
   "execution_count": 324,
   "metadata": {
    "colab": {},
    "colab_type": "code",
    "id": "Zy3s4jk1LPpn"
   },
   "outputs": [
    {
     "name": "stderr",
     "output_type": "stream",
     "text": [
      "100%|██████████████████████████████████████████████████████████████████████████████████| 11/11 [00:02<00:00,  3.43it/s]\n"
     ]
    }
   ],
   "source": [
    "# Please write all the code with proper documentation\n",
    "train_auc_list5=[]\n",
    "cv_auc_list5=[]\n",
    "for i in tqdm(param):\n",
    "   clf3 = LogisticRegression(penalty='l2',C=i,max_iter=1000,tol=0.1)\n",
    "   clf3.fit(sent_vectorstr,y_tr)\n",
    "   trprob=clf3.predict_proba(sent_vectorstr)[:,1] # Returns probability of positive class\n",
    "   cvprob = clf3.predict_proba(sent_vectorscv)[:,1]  \n",
    "   auctr = roc_auc_score(y_tr,trprob)#auc of tranning data\n",
    "   auccv = roc_auc_score(y_cv,cvprob)#auc of cross validation data\n",
    "   train_auc_list5.append(auctr)\n",
    "   cv_auc_list5.append(auccv)"
   ]
  },
  {
   "cell_type": "code",
   "execution_count": 325,
   "metadata": {},
   "outputs": [
    {
     "data": {
      "image/png": "[encoded data removed]",
      "text/plain": [
       "<Figure size 432x288 with 1 Axes>"
      ]
     },
     "metadata": {
      "needs_background": "light"
     },
     "output_type": "display_data"
    }
   ],
   "source": [
    "plot_auc(train_auc_list5,cv_auc_list5)"
   ]
  },
  {
   "cell_type": "markdown",
   "metadata": {},
   "source": [
    "the best hyperparameter is 0.001"
   ]
  },
  {
   "cell_type": "code",
   "execution_count": 326,
   "metadata": {},
   "outputs": [],
   "source": [
    "clf3 = LogisticRegression(penalty='l2',C=0.001,max_iter=1000,tol=0.1)\n",
    "clf3.fit(sent_vectorstr, y_tr)\n",
    "trpred=clf3.predict(sent_vectorstr)\n",
    "testpred = clf3.predict(sent_vectorstest)\n",
    "trprob=clf3.predict_proba(sent_vectorstr)[:,1] # Returns probability of positive class\n",
    "testprob = clf3.predict_proba(sent_vectorstest)[:,1] \n",
    "auctr = roc_auc_score(y_tr,trprob)#auc of tranning data\n",
    "auctest = roc_auc_score(y_test,testprob)#auc of cross validation d"
   ]
  },
  {
   "cell_type": "code",
   "execution_count": 327,
   "metadata": {},
   "outputs": [
    {
     "data": {
      "text/plain": [
       "0.8508869955428727"
      ]
     },
     "execution_count": 327,
     "metadata": {},
     "output_type": "execute_result"
    }
   ],
   "source": [
    "auctest"
   ]
  },
  {
   "cell_type": "code",
   "execution_count": 328,
   "metadata": {},
   "outputs": [
    {
     "data": {
      "image/png": "[encoded data removed]",
      "text/plain": [
       "<Figure size 432x288 with 1 Axes>"
      ]
     },
     "metadata": {
      "needs_background": "light"
     },
     "output_type": "display_data"
    }
   ],
   "source": [
    "plot_roc(y_test,testprob,y_tr,trprob)"
   ]
  },
  {
   "cell_type": "markdown",
   "metadata": {},
   "source": [
    "# Confusion matrix train\n"
   ]
  },
  {
   "cell_type": "code",
   "execution_count": 230,
   "metadata": {},
   "outputs": [
    {
     "name": "stdout",
     "output_type": "stream",
     "text": [
      "Confusion matrix\n"
     ]
    },
    {
     "data": {
      "image/png": "[encoded data removed]",
      "text/plain": [
       "<Figure size 288x288 with 2 Axes>"
      ]
     },
     "metadata": {
      "needs_background": "light"
     },
     "output_type": "display_data"
    }
   ],
   "source": [
    "confusion_matrix_plot(y_tr, trpred)"
   ]
  },
  {
   "cell_type": "markdown",
   "metadata": {},
   "source": [
    "# Confusion matrix test\n",
    " "
   ]
  },
  {
   "cell_type": "code",
   "execution_count": 231,
   "metadata": {},
   "outputs": [
    {
     "name": "stdout",
     "output_type": "stream",
     "text": [
      "Confusion matrix\n"
     ]
    },
    {
     "data": {
      "image/png": "[encoded data removed]",
      "text/plain": [
       "<Figure size 288x288 with 2 Axes>"
      ]
     },
     "metadata": {
      "needs_background": "light"
     },
     "output_type": "display_data"
    }
   ],
   "source": [
    "confusion_matrix_plot(y_test, testpred)"
   ]
  },
  {
   "cell_type": "markdown",
   "metadata": {
    "colab_type": "text",
    "id": "pdXTwVIPLPpp"
   },
   "source": [
    "## [5.4] Logistic Regression on TFIDF W2V,<font color='red'> SET 4</font>"
   ]
  },
  {
   "cell_type": "markdown",
   "metadata": {
    "colab_type": "text",
    "id": "WP9NjwNSLPpp"
   },
   "source": [
    "### [5.4.1] Applying Logistic Regression with L1 regularization on TFIDF W2V,<font color='red'> SET 4</font>"
   ]
  },
  {
   "cell_type": "code",
   "execution_count": 329,
   "metadata": {
    "colab": {},
    "colab_type": "code",
    "id": "207gYymwLPpq"
   },
   "outputs": [
    {
     "name": "stderr",
     "output_type": "stream",
     "text": [
      "100%|██████████████████████████████████████████████████████████████████████████████████| 11/11 [00:02<00:00,  4.50it/s]\n"
     ]
    }
   ],
   "source": [
    "# Please write all the code with proper documentation\n",
    "train_auc_list6=[]\n",
    "cv_auc_list6=[]\n",
    "for i in tqdm(param):\n",
    "   clf4 = LogisticRegression(penalty='l1',C=i,max_iter=1000,tol=0.1)\n",
    "   clf4.fit(tfidf_sent_vectorstr,y_tr)\n",
    "   trprob=clf4.predict_proba(tfidf_sent_vectorstr)[:,1] # Returns probability of positive class\n",
    "   cvprob = clf4.predict_proba(tfidf_sent_vectorscv)[:,1]  \n",
    "   auctr = roc_auc_score(y_tr,trprob)#auc of tranning data\n",
    "   auccv = roc_auc_score(y_cv,cvprob)#auc of cross validation data\n",
    "   train_auc_list6.append(auctr)\n",
    "   cv_auc_list6.append(auccv)"
   ]
  },
  {
   "cell_type": "code",
   "execution_count": 330,
   "metadata": {},
   "outputs": [
    {
     "data": {
      "image/png": "[encoded data removed]",
      "text/plain": [
       "<Figure size 432x288 with 1 Axes>"
      ]
     },
     "metadata": {
      "needs_background": "light"
     },
     "output_type": "display_data"
    }
   ],
   "source": [
    "plot_auc(train_auc_list6,cv_auc_list6)"
   ]
  },
  {
   "cell_type": "markdown",
   "metadata": {},
   "source": [
    "the best hyperparameter is 0.01"
   ]
  },
  {
   "cell_type": "code",
   "execution_count": 333,
   "metadata": {},
   "outputs": [],
   "source": [
    "clf4 = LogisticRegression(penalty='l1',C=0.01,max_iter=1000,tol=0.1)\n",
    "clf4.fit(tfidf_sent_vectorstr, y_tr)\n",
    "trpred=clf4.predict(tfidf_sent_vectorstr)\n",
    "testpred = clf4.predict(tfidf_sent_vectorstest)\n",
    "trprob=clf4.predict_proba(tfidf_sent_vectorstr)[:,1] # Returns probability of positive class\n",
    "testprob = clf4.predict_proba(tfidf_sent_vectorstest)[:,1] \n",
    "auctr = roc_auc_score(y_tr,trprob)#auc of tranning data\n",
    "auctest = roc_auc_score(y_test,testprob)#auc of cross validation d"
   ]
  },
  {
   "cell_type": "code",
   "execution_count": 334,
   "metadata": {},
   "outputs": [
    {
     "data": {
      "text/plain": [
       "0.8221328087468853"
      ]
     },
     "execution_count": 334,
     "metadata": {},
     "output_type": "execute_result"
    }
   ],
   "source": [
    "auctest"
   ]
  },
  {
   "cell_type": "code",
   "execution_count": 335,
   "metadata": {},
   "outputs": [
    {
     "data": {
      "image/png": "[encoded data removed]",
      "text/plain": [
       "<Figure size 432x288 with 1 Axes>"
      ]
     },
     "metadata": {
      "needs_background": "light"
     },
     "output_type": "display_data"
    }
   ],
   "source": [
    "plot_roc(y_test,testprob,y_tr,trprob)"
   ]
  },
  {
   "cell_type": "markdown",
   "metadata": {},
   "source": [
    "# Confusion matrix train\n",
    " "
   ]
  },
  {
   "cell_type": "code",
   "execution_count": 238,
   "metadata": {},
   "outputs": [
    {
     "name": "stdout",
     "output_type": "stream",
     "text": [
      "Confusion matrix\n"
     ]
    },
    {
     "data": {
      "image/png": "[encoded data removed]",
      "text/plain": [
       "<Figure size 288x288 with 2 Axes>"
      ]
     },
     "metadata": {
      "needs_background": "light"
     },
     "output_type": "display_data"
    }
   ],
   "source": [
    "confusion_matrix_plot(y_tr, trpred)"
   ]
  },
  {
   "cell_type": "markdown",
   "metadata": {},
   "source": [
    "# Confusion matrix test\n"
   ]
  },
  {
   "cell_type": "code",
   "execution_count": 336,
   "metadata": {},
   "outputs": [
    {
     "name": "stdout",
     "output_type": "stream",
     "text": [
      "Confusion matrix\n"
     ]
    },
    {
     "data": {
      "image/png": "[encoded data removed]",
      "text/plain": [
       "<Figure size 288x288 with 2 Axes>"
      ]
     },
     "metadata": {
      "needs_background": "light"
     },
     "output_type": "display_data"
    }
   ],
   "source": [
    "confusion_matrix_plot(y_test, testpred)"
   ]
  },
  {
   "cell_type": "markdown",
   "metadata": {
    "colab_type": "text",
    "id": "ynUK2tYDLPps"
   },
   "source": [
    "### [5.4.2] Applying Logistic Regression with L2 regularization on TFIDF W2V,<font color='red'> SET 4</font>"
   ]
  },
  {
   "cell_type": "code",
   "execution_count": 337,
   "metadata": {},
   "outputs": [
    {
     "name": "stderr",
     "output_type": "stream",
     "text": [
      "100%|██████████████████████████████████████████████████████████████████████████████████| 11/11 [00:03<00:00,  2.51it/s]\n"
     ]
    }
   ],
   "source": [
    "# Please write all the code with proper documentation\n",
    "train_auc_list7=[]\n",
    "cv_auc_list7=[]\n",
    "for i in tqdm(param):\n",
    "   clf4 = LogisticRegression(penalty='l2',C=i,max_iter=1000,tol=0.1)\n",
    "   clf4.fit(tfidf_sent_vectorstr,y_tr)\n",
    "   trprob=clf4.predict_proba(tfidf_sent_vectorstr)[:,1] # Returns probability of positive class\n",
    "   cvprob = clf4.predict_proba(tfidf_sent_vectorscv)[:,1]  \n",
    "   auctr = roc_auc_score(y_tr,trprob)#auc of tranning data\n",
    "   auccv = roc_auc_score(y_cv,cvprob)#auc of cross validation data\n",
    "   train_auc_list7.append(auctr)\n",
    "   cv_auc_list7.append(auccv)"
   ]
  },
  {
   "cell_type": "code",
   "execution_count": 338,
   "metadata": {},
   "outputs": [
    {
     "data": {
      "image/png": "[encoded data removed]",
      "text/plain": [
       "<Figure size 432x288 with 1 Axes>"
      ]
     },
     "metadata": {
      "needs_background": "light"
     },
     "output_type": "display_data"
    }
   ],
   "source": [
    "plot_auc(train_auc_list7,cv_auc_list7)"
   ]
  },
  {
   "cell_type": "markdown",
   "metadata": {},
   "source": [
    "the best hyperparameter is 0.001"
   ]
  },
  {
   "cell_type": "code",
   "execution_count": 339,
   "metadata": {},
   "outputs": [],
   "source": [
    "clf4 = LogisticRegression(penalty='l2',C=0.001,max_iter=1000,tol=0.1)\n",
    "clf4.fit(tfidf_sent_vectorstr, y_tr)\n",
    "trpred=clf4.predict(tfidf_sent_vectorstr)\n",
    "testpred = clf4.predict(tfidf_sent_vectorstest)\n",
    "trprob=clf4.predict_proba(tfidf_sent_vectorstr)[:,1] # Returns probability of positive class\n",
    "testprob = clf4.predict_proba(tfidf_sent_vectorstest)[:,1] \n",
    "auctr = roc_auc_score(y_tr,trprob)#auc of tranning data\n",
    "auctest = roc_auc_score(y_test,testprob)#auc of cross validation d"
   ]
  },
  {
   "cell_type": "code",
   "execution_count": 340,
   "metadata": {
    "colab": {},
    "colab_type": "code",
    "id": "hVYuiXl2LPpt"
   },
   "outputs": [
    {
     "data": {
      "text/plain": [
       "0.8205908484224056"
      ]
     },
     "execution_count": 340,
     "metadata": {},
     "output_type": "execute_result"
    }
   ],
   "source": [
    "auctest"
   ]
  },
  {
   "cell_type": "code",
   "execution_count": 341,
   "metadata": {},
   "outputs": [
    {
     "data": {
      "image/png": "[encoded data removed]",
      "text/plain": [
       "<Figure size 432x288 with 1 Axes>"
      ]
     },
     "metadata": {
      "needs_background": "light"
     },
     "output_type": "display_data"
    }
   ],
   "source": [
    "plot_roc(y_test,testprob,y_tr,trprob)"
   ]
  },
  {
   "cell_type": "markdown",
   "metadata": {},
   "source": [
    "# Confusion matrix train\n"
   ]
  },
  {
   "cell_type": "code",
   "execution_count": 342,
   "metadata": {},
   "outputs": [
    {
     "name": "stdout",
     "output_type": "stream",
     "text": [
      "Confusion matrix\n"
     ]
    },
    {
     "data": {
      "image/png": "[encoded data removed]",
      "text/plain": [
       "<Figure size 288x288 with 2 Axes>"
      ]
     },
     "metadata": {
      "needs_background": "light"
     },
     "output_type": "display_data"
    }
   ],
   "source": [
    "confusion_matrix_plot(y_tr, trpred)"
   ]
  },
  {
   "cell_type": "markdown",
   "metadata": {},
   "source": [
    "# Confusion matrix test\n"
   ]
  },
  {
   "cell_type": "code",
   "execution_count": 246,
   "metadata": {},
   "outputs": [
    {
     "name": "stdout",
     "output_type": "stream",
     "text": [
      "Confusion matrix\n"
     ]
    },
    {
     "data": {
      "image/png": "[encoded data removed]",
      "text/plain": [
       "<Figure size 288x288 with 2 Axes>"
      ]
     },
     "metadata": {
      "needs_background": "light"
     },
     "output_type": "display_data"
    }
   ],
   "source": [
    "confusion_matrix_plot(y_test, testpred)"
   ]
  },
  {
   "cell_type": "markdown",
   "metadata": {
    "colab_type": "text",
    "id": "nOvsBNf2LPpv"
   },
   "source": [
    "# [6] Conclusions"
   ]
  },
  {
   "cell_type": "code",
   "execution_count": 343,
   "metadata": {
    "colab": {},
    "colab_type": "code",
    "id": "T7VxD0q2LPpw"
   },
   "outputs": [
    {
     "name": "stdout",
     "output_type": "stream",
     "text": [
      "+------------+--------------------+----------------+------+\n",
      "| vectoriser |       Model        | hyperparameter | AUC  |\n",
      "+------------+--------------------+----------------+------+\n",
      "|     l1     |        BOW         |      0.01      | 0.92 |\n",
      "|     l1     |       TfIdf        |       1        | 0.95 |\n",
      "|     l1     |      Avg W2V       |      0.01      | 0.84 |\n",
      "|     l1     | TfIdf Weighted W2V |      0.01      | 0.82 |\n",
      "|     l2     |        BOW         |     0.001      | 0.92 |\n",
      "|     l2     |       TfIdf        |       10       | 0.96 |\n",
      "|     l2     |      Avg W2V       |     0.001      | 0.85 |\n",
      "|     l2     | TfIdf Weighted W2V |     0.001      | 0.82 |\n",
      "+------------+--------------------+----------------+------+\n"
     ]
    }
   ],
   "source": [
    "# Please compare all your models using Prettytable library\n",
    "from prettytable import PrettyTable\n",
    "\n",
    "x = PrettyTable()\n",
    "\n",
    "\n",
    "x.field_names = [\"vectoriser\",\"Model\",\"hyperparameter\",\"AUC\",]\n",
    "\n",
    "x.add_row([\"l1\",\"BOW\",\"0.01\",\"0.92\"])\n",
    "x.add_row([\"l1\",\"TfIdf\",\"1\",\"0.95\"])\n",
    "x.add_row([\"l1\",\"Avg W2V\",\"0.01\",\"0.84\"])\n",
    "x.add_row([\"l1\",\"TfIdf Weighted W2V\",\"0.01\",\"0.82\"])\n",
    "x.add_row([\"l2\",\"BOW\",\"0.001\",\"0.92\"])\n",
    "x.add_row([\"l2\",\"TfIdf\",\"10\",\"0.96\"])\n",
    "x.add_row([\"l2\",\"Avg W2V\",\"0.001\",\"0.85\"])\n",
    "x.add_row([\"l2\",\"TfIdf Weighted W2V\",\"0.001\",\"0.82\"])\n",
    "print(x)"
   ]
  }
 ],
 "metadata": {
  "colab": {
   "name": "05 Amazon Fine Food Reviews Analysis_Logistic Regression.ipynb",
   "provenance": [],
   "version": "0.3.2"
  },
  "kernelspec": {
   "display_name": "Python 3",
   "language": "python",
   "name": "python3"
  },
  "language_info": {
   "codemirror_mode": {
    "name": "ipython",
    "version": 3
   },
   "file_extension": ".py",
   "mimetype": "text/x-python",
   "name": "python",
   "nbconvert_exporter": "python",
   "pygments_lexer": "ipython3",
   "version": "3.7.1"
  }
 },
 "nbformat": 4,
 "nbformat_minor": 1
}
