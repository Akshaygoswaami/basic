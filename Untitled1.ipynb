{
 "cells": [
  {
   "cell_type": "code",
   "execution_count": 28,
   "metadata": {},
   "outputs": [],
   "source": [
    "a=[['abc','def','ijk','pqr'],['pqr','klm','opq'],['lmn','pqr','xyz','abc','def','pqr','abc']]"
   ]
  },
  {
   "cell_type": "code",
   "execution_count": 29,
   "metadata": {},
   "outputs": [],
   "source": [
    "r=['abc','pqr','def']"
   ]
  },
  {
   "cell_type": "code",
   "execution_count": 30,
   "metadata": {},
   "outputs": [],
   "source": [
    "import numpy as np\n",
    "t = np.zeros((len(r),len(r)))"
   ]
  },
  {
   "cell_type": "code",
   "execution_count": 31,
   "metadata": {},
   "outputs": [],
   "source": [
    "for wrd in a:\n",
    "    for i in range(len(wrd)):\n",
    "        if wrd[i] in r:\n",
    "            p=r.index(wrd[i])\n",
    "            if i < (len(wrd)-2):\n",
    "                if wrd[i+1] in r:\n",
    "                    t[p][r.index(wrd[i+1])]+=1\n",
    "                    t[r.index(wrd[i+1])][p]+=1\n",
    "                if wrd[i+2] in r:\n",
    "                    t[p][r.index(wrd[i+2])]+=1\n",
    "                    t[r.index(wrd[i+2])][p]+=1   \n",
    "            if i == (len(wrd)-2):\n",
    "                if wrd[i+1] in r:\n",
    "                    t[p][r.index(wrd[i+1])]+=1\n",
    "                    t[r.index(wrd[i+1])][p]+=1\n",
    "                "
   ]
  },
  {
   "cell_type": "code",
   "execution_count": 33,
   "metadata": {},
   "outputs": [
    {
     "data": {
      "text/plain": [
       "array([[0., 3., 3.],\n",
       "       [3., 0., 2.],\n",
       "       [3., 2., 0.]])"
      ]
     },
     "execution_count": 33,
     "metadata": {},
     "output_type": "execute_result"
    }
   ],
   "source": [
    "t"
   ]
  },
  {
   "cell_type": "code",
   "execution_count": null,
   "metadata": {},
   "outputs": [],
   "source": []
  }
 ],
 "metadata": {
  "kernelspec": {
   "display_name": "Python 3",
   "language": "python",
   "name": "python3"
  },
  "language_info": {
   "codemirror_mode": {
    "name": "ipython",
    "version": 3
   },
   "file_extension": ".py",
   "mimetype": "text/x-python",
   "name": "python",
   "nbconvert_exporter": "python",
   "pygments_lexer": "ipython3",
   "version": "3.7.1"
  }
 },
 "nbformat": 4,
 "nbformat_minor": 2
}
